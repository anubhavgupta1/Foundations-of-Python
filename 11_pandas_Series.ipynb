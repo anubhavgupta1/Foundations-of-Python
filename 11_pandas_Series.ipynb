{
  "nbformat": 4,
  "nbformat_minor": 0,
  "metadata": {
    "colab": {
      "name": "11_pandas : Series.ipynb",
      "provenance": [],
      "authorship_tag": "ABX9TyO4hs7wY5YoxlC3SDwz2xLz",
      "include_colab_link": true
    },
    "kernelspec": {
      "name": "python3",
      "display_name": "Python 3"
    }
  },
  "cells": [
    {
      "cell_type": "markdown",
      "metadata": {
        "id": "view-in-github",
        "colab_type": "text"
      },
      "source": [
        "<a href=\"https://colab.research.google.com/github/anubhavgupta1/Foundations-of-Python/blob/master/11_pandas_Series.ipynb\" target=\"_parent\"><img src=\"https://colab.research.google.com/assets/colab-badge.svg\" alt=\"Open In Colab\"/></a>"
      ]
    },
    {
      "cell_type": "code",
      "metadata": {
        "id": "rdjkS3r-rPVB",
        "colab_type": "code",
        "colab": {}
      },
      "source": [
        "import pandas as pd \n",
        "import numpy as np"
      ],
      "execution_count": 1,
      "outputs": []
    },
    {
      "cell_type": "code",
      "metadata": {
        "id": "0oJokXQirf6T",
        "colab_type": "code",
        "colab": {
          "base_uri": "https://localhost:8080/",
          "height": 101
        },
        "outputId": "861b96c9-ce40-416f-d93a-054b97282eb3"
      },
      "source": [
        "# Series Objects\n",
        "a = pd.Series([-2,3,4,-5])\n",
        "a"
      ],
      "execution_count": 2,
      "outputs": [
        {
          "output_type": "execute_result",
          "data": {
            "text/plain": [
              "0   -2\n",
              "1    3\n",
              "2    4\n",
              "3   -5\n",
              "dtype: int64"
            ]
          },
          "metadata": {
            "tags": []
          },
          "execution_count": 2
        }
      ]
    },
    {
      "cell_type": "code",
      "metadata": {
        "id": "Y0wEm01VsMpY",
        "colab_type": "code",
        "colab": {
          "base_uri": "https://localhost:8080/",
          "height": 101
        },
        "outputId": "30e2edc7-a52b-45a2-cd98-25538a0e8d25"
      },
      "source": [
        "#square\n",
        "np.square(a)"
      ],
      "execution_count": 3,
      "outputs": [
        {
          "output_type": "execute_result",
          "data": {
            "text/plain": [
              "0     4\n",
              "1     9\n",
              "2    16\n",
              "3    25\n",
              "dtype: int64"
            ]
          },
          "metadata": {
            "tags": []
          },
          "execution_count": 3
        }
      ]
    },
    {
      "cell_type": "code",
      "metadata": {
        "id": "6P1tac_xsgjr",
        "colab_type": "code",
        "colab": {
          "base_uri": "https://localhost:8080/",
          "height": 101
        },
        "outputId": "f9b0374d-2067-4f3b-f7b8-f6d6d84247cd"
      },
      "source": [
        "#arithmetic\n",
        "a + [1000,2000,3000,4000]"
      ],
      "execution_count": 4,
      "outputs": [
        {
          "output_type": "execute_result",
          "data": {
            "text/plain": [
              "0     998\n",
              "1    2003\n",
              "2    3004\n",
              "3    3995\n",
              "dtype: int64"
            ]
          },
          "metadata": {
            "tags": []
          },
          "execution_count": 4
        }
      ]
    },
    {
      "cell_type": "code",
      "metadata": {
        "id": "fSNY2VPzsynC",
        "colab_type": "code",
        "colab": {
          "base_uri": "https://localhost:8080/",
          "height": 101
        },
        "outputId": "8d227044-e2f2-4730-a954-7a76c1cfa2ae"
      },
      "source": [
        "#Broadcasting\n",
        "a + 1000"
      ],
      "execution_count": 5,
      "outputs": [
        {
          "output_type": "execute_result",
          "data": {
            "text/plain": [
              "0     998\n",
              "1    1003\n",
              "2    1004\n",
              "3     995\n",
              "dtype: int64"
            ]
          },
          "metadata": {
            "tags": []
          },
          "execution_count": 5
        }
      ]
    },
    {
      "cell_type": "code",
      "metadata": {
        "id": "ftDjgEbNs9MO",
        "colab_type": "code",
        "colab": {
          "base_uri": "https://localhost:8080/",
          "height": 101
        },
        "outputId": "099b823d-08ee-40d8-a064-f26f4c582b92"
      },
      "source": [
        "#Binary and conditionals\n",
        "a<0"
      ],
      "execution_count": 6,
      "outputs": [
        {
          "output_type": "execute_result",
          "data": {
            "text/plain": [
              "0     True\n",
              "1    False\n",
              "2    False\n",
              "3     True\n",
              "dtype: bool"
            ]
          },
          "metadata": {
            "tags": []
          },
          "execution_count": 6
        }
      ]
    },
    {
      "cell_type": "code",
      "metadata": {
        "id": "hqT_iNVvtYLq",
        "colab_type": "code",
        "colab": {
          "base_uri": "https://localhost:8080/",
          "height": 101
        },
        "outputId": "6af3087a-2b11-4706-9764-fb437ed9b01d"
      },
      "source": [
        "#index labels\n",
        "ind = [\"alice\", \"bob\", \"Charles\",\"Darwin\"]\n",
        "aa = pd.Series([-2,3,4,-5], index= ind)\n",
        "aa"
      ],
      "execution_count": 7,
      "outputs": [
        {
          "output_type": "execute_result",
          "data": {
            "text/plain": [
              "alice     -2\n",
              "bob        3\n",
              "Charles    4\n",
              "Darwin    -5\n",
              "dtype: int64"
            ]
          },
          "metadata": {
            "tags": []
          },
          "execution_count": 7
        }
      ]
    },
    {
      "cell_type": "code",
      "metadata": {
        "id": "byuRnfsqt2Sy",
        "colab_type": "code",
        "colab": {
          "base_uri": "https://localhost:8080/",
          "height": 84
        },
        "outputId": "dd097250-ab21-4678-f5ed-ae09f37ab086"
      },
      "source": [
        "# access\n",
        "print(aa[\"bob\"])\n",
        "print(aa[1])\n",
        "print(aa.loc[\"bob\"])\n",
        "print(aa.iloc[1])"
      ],
      "execution_count": 8,
      "outputs": [
        {
          "output_type": "stream",
          "text": [
            "3\n",
            "3\n",
            "3\n",
            "3\n"
          ],
          "name": "stdout"
        }
      ]
    },
    {
      "cell_type": "code",
      "metadata": {
        "id": "PKeBsvjRulq3",
        "colab_type": "code",
        "colab": {
          "base_uri": "https://localhost:8080/",
          "height": 101
        },
        "outputId": "a8fa5cca-7d25-49a4-88c6-fd40bef59470"
      },
      "source": [
        "#intitialisation from dictionaries\n",
        "weights = {\"alice\" : 68, \"bob\" : 83, \"Charles\" : 86,\"Darwin\" : 38}\n",
        "aaa = pd.Series(weights)\n",
        "aaa"
      ],
      "execution_count": 9,
      "outputs": [
        {
          "output_type": "execute_result",
          "data": {
            "text/plain": [
              "alice      68\n",
              "bob        83\n",
              "Charles    86\n",
              "Darwin     38\n",
              "dtype: int64"
            ]
          },
          "metadata": {
            "tags": []
          },
          "execution_count": 9
        }
      ]
    },
    {
      "cell_type": "code",
      "metadata": {
        "id": "E7nPpuM7vGoS",
        "colab_type": "code",
        "colab": {
          "base_uri": "https://localhost:8080/",
          "height": 67
        },
        "outputId": "2d99ddf3-9434-488a-9a42-094acf107acd"
      },
      "source": [
        "#we can also control which element we want to include in the series and in what order by explicitly specifying the desired index\n",
        "#index labels\n",
        "ind = [\"Darwin\",\"Charles\"]\n",
        "aaaa = pd.Series(weights, index= ind)\n",
        "aaaa"
      ],
      "execution_count": 10,
      "outputs": [
        {
          "output_type": "execute_result",
          "data": {
            "text/plain": [
              "Darwin     38\n",
              "Charles    86\n",
              "dtype: int64"
            ]
          },
          "metadata": {
            "tags": []
          },
          "execution_count": 10
        }
      ]
    },
    {
      "cell_type": "code",
      "metadata": {
        "id": "Bysbg0GSxQaZ",
        "colab_type": "code",
        "colab": {
          "base_uri": "https://localhost:8080/",
          "height": 101
        },
        "outputId": "9ec88772-43d8-4cbc-dbe9-003858ac599d"
      },
      "source": [
        "aa + aaa"
      ],
      "execution_count": 11,
      "outputs": [
        {
          "output_type": "execute_result",
          "data": {
            "text/plain": [
              "alice      66\n",
              "bob        86\n",
              "Charles    90\n",
              "Darwin     33\n",
              "dtype: int64"
            ]
          },
          "metadata": {
            "tags": []
          },
          "execution_count": 11
        }
      ]
    },
    {
      "cell_type": "code",
      "metadata": {
        "id": "shSTCRUVxje9",
        "colab_type": "code",
        "colab": {
          "base_uri": "https://localhost:8080/",
          "height": 101
        },
        "outputId": "57945294-cca1-4125-bb60-a64ceeb98633"
      },
      "source": [
        "aa + aaaa"
      ],
      "execution_count": 12,
      "outputs": [
        {
          "output_type": "execute_result",
          "data": {
            "text/plain": [
              "Charles    90.0\n",
              "Darwin     33.0\n",
              "alice       NaN\n",
              "bob         NaN\n",
              "dtype: float64"
            ]
          },
          "metadata": {
            "tags": []
          },
          "execution_count": 12
        }
      ]
    }
  ]
}