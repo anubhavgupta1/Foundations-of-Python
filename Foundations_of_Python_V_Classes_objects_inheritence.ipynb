{
  "nbformat": 4,
  "nbformat_minor": 0,
  "metadata": {
    "colab": {
      "name": "Foundations_of_Python_V_Classes_objects_inheritence.ipynb",
      "provenance": [],
      "authorship_tag": "ABX9TyM4p/qGUZ/uHt7qeUE4M5ag",
      "include_colab_link": true
    },
    "kernelspec": {
      "name": "python3",
      "display_name": "Python 3"
    }
  },
  "cells": [
    {
      "cell_type": "markdown",
      "metadata": {
        "id": "view-in-github",
        "colab_type": "text"
      },
      "source": [
        "<a href=\"https://colab.research.google.com/github/anubhavgupta1/Foundations-of-Python/blob/master/Foundations_of_Python_V_Classes_objects_inheritence.ipynb\" target=\"_parent\"><img src=\"https://colab.research.google.com/assets/colab-badge.svg\" alt=\"Open In Colab\"/></a>"
      ]
    },
    {
      "cell_type": "code",
      "metadata": {
        "id": "gjU2KjAmeuVr",
        "colab_type": "code",
        "colab": {}
      },
      "source": [
        "movies = list()\n"
      ],
      "execution_count": 1,
      "outputs": []
    },
    {
      "cell_type": "code",
      "metadata": {
        "id": "MU6DsTKZexIP",
        "colab_type": "code",
        "colab": {}
      },
      "source": [
        "movie1 = dict()\n",
        "movie1['Director'] = 'James Cameron'\n",
        "movie1['Title'] = 'Avatar'\n",
        "movie1['Release Date'] = '18 December 2009'\n",
        "movie1['Running Time'] = '162 minutes'\n",
        "movie1['Rating'] = 'PG-13'\n"
      ],
      "execution_count": 2,
      "outputs": []
    },
    {
      "cell_type": "code",
      "metadata": {
        "id": "LLWmx0_AezWx",
        "colab_type": "code",
        "colab": {}
      },
      "source": [
        "movies.append(movie1)\n"
      ],
      "execution_count": 3,
      "outputs": []
    },
    {
      "cell_type": "code",
      "metadata": {
        "id": "86E1wjrNe1P6",
        "colab_type": "code",
        "colab": {}
      },
      "source": [
        "movie2 = dict()\n",
        "movie2['Director'] = 'David Fincher'\n",
        "movie2['Title'] = 'The Social Network'\n",
        "movie2['Release Date'] = '01 October 2010'\n",
        "movie2['Running Time'] = '120 min'\n",
        "movie2['Rating'] = 'PG-13'\n"
      ],
      "execution_count": 4,
      "outputs": []
    },
    {
      "cell_type": "code",
      "metadata": {
        "id": "YSHI2VU1e3Lo",
        "colab_type": "code",
        "colab": {}
      },
      "source": [
        "movies.append(movie2)\n"
      ],
      "execution_count": 5,
      "outputs": []
    },
    {
      "cell_type": "code",
      "metadata": {
        "id": "5qq_c1P3e8TS",
        "colab_type": "code",
        "colab": {}
      },
      "source": [
        "keys = ['Title', 'Director', 'Rating', 'Running Time']\n",
        "\n"
      ],
      "execution_count": 6,
      "outputs": []
    },
    {
      "cell_type": "code",
      "metadata": {
        "id": "j540N4RBfCud",
        "colab_type": "code",
        "colab": {
          "base_uri": "https://localhost:8080/",
          "height": 87
        },
        "outputId": "122653b8-b9e3-4f8b-c0bb-990947d9a368"
      },
      "source": [
        "print('-----------')\n",
        "print(movies)\n",
        "print('-----------')\n"
      ],
      "execution_count": 7,
      "outputs": [
        {
          "output_type": "stream",
          "text": [
            "-----------\n",
            "[{'Director': 'James Cameron', 'Title': 'Avatar', 'Release Date': '18 December 2009', 'Running Time': '162 minutes', 'Rating': 'PG-13'}, {'Director': 'David Fincher', 'Title': 'The Social Network', 'Release Date': '01 October 2010', 'Running Time': '120 min', 'Rating': 'PG-13'}]\n",
            "-----------\n"
          ],
          "name": "stdout"
        }
      ]
    },
    {
      "cell_type": "code",
      "metadata": {
        "id": "jMCTijtKfE0s",
        "colab_type": "code",
        "colab": {
          "base_uri": "https://localhost:8080/",
          "height": 34
        },
        "outputId": "cb9050fe-7299-4548-a9ce-b48063391ea6"
      },
      "source": [
        "print(keys)\n"
      ],
      "execution_count": 8,
      "outputs": [
        {
          "output_type": "stream",
          "text": [
            "['Title', 'Director', 'Rating', 'Running Time']\n"
          ],
          "name": "stdout"
        }
      ]
    },
    {
      "cell_type": "code",
      "metadata": {
        "id": "Yxm0TELVfG9K",
        "colab_type": "code",
        "colab": {
          "base_uri": "https://localhost:8080/",
          "height": 202
        },
        "outputId": "c8e6d310-7c58-4f5d-e629-fea215b4d60b"
      },
      "source": [
        "\n",
        "for item in movies:\n",
        "    print('-----------')\n",
        "    for key in keys:\n",
        "        print(key,': ', item[key])\n",
        "print('-----------')"
      ],
      "execution_count": 9,
      "outputs": [
        {
          "output_type": "stream",
          "text": [
            "-----------\n",
            "Title :  Avatar\n",
            "Director :  James Cameron\n",
            "Rating :  PG-13\n",
            "Running Time :  162 minutes\n",
            "-----------\n",
            "Title :  The Social Network\n",
            "Director :  David Fincher\n",
            "Rating :  PG-13\n",
            "Running Time :  120 min\n",
            "-----------\n"
          ],
          "name": "stdout"
        }
      ]
    },
    {
      "cell_type": "code",
      "metadata": {
        "id": "9zciohrbfO-I",
        "colab_type": "code",
        "colab": {}
      },
      "source": [
        "class PartyAnimal:\n",
        "    x = 8\n",
        "\n",
        "    def party(self) :\n",
        "      self.x = self.x + 1\n",
        "      print(\"So far\",self.x)"
      ],
      "execution_count": 10,
      "outputs": []
    },
    {
      "cell_type": "code",
      "metadata": {
        "id": "NTzFtaRtgA7S",
        "colab_type": "code",
        "colab": {
          "base_uri": "https://localhost:8080/",
          "height": 84
        },
        "outputId": "6d78d33c-2e1d-4021-812f-4dfb60834e36"
      },
      "source": [
        "an = PartyAnimal()\n",
        "print(\"--AN----\")\n",
        "an.party()\n",
        "an.party()\n",
        "an.party()\n",
        "\n"
      ],
      "execution_count": 11,
      "outputs": [
        {
          "output_type": "stream",
          "text": [
            "--AN----\n",
            "So far 9\n",
            "So far 10\n",
            "So far 11\n"
          ],
          "name": "stdout"
        }
      ]
    },
    {
      "cell_type": "code",
      "metadata": {
        "id": "NY-_nYK-gNXL",
        "colab_type": "code",
        "colab": {
          "base_uri": "https://localhost:8080/",
          "height": 50
        },
        "outputId": "c7081b8b-1217-4055-f3e7-a1929d0e6f0d"
      },
      "source": [
        "print(\"--SO----\")\n",
        "so = PartyAnimal()\n",
        "so.party()\n",
        "\n"
      ],
      "execution_count": 12,
      "outputs": [
        {
          "output_type": "stream",
          "text": [
            "--SO----\n",
            "So far 9\n"
          ],
          "name": "stdout"
        }
      ]
    },
    {
      "cell_type": "code",
      "metadata": {
        "id": "BNgkMQz7gSIc",
        "colab_type": "code",
        "colab": {
          "base_uri": "https://localhost:8080/",
          "height": 50
        },
        "outputId": "a6e986cb-6f85-4f0b-9910-7cbb95628dac"
      },
      "source": [
        "print(\"--AN----\")\n",
        "an.party()\n"
      ],
      "execution_count": 13,
      "outputs": [
        {
          "output_type": "stream",
          "text": [
            "--AN----\n",
            "So far 12\n"
          ],
          "name": "stdout"
        }
      ]
    },
    {
      "cell_type": "code",
      "metadata": {
        "id": "XMXoztClgWzE",
        "colab_type": "code",
        "colab": {
          "base_uri": "https://localhost:8080/",
          "height": 50
        },
        "outputId": "9c51c0c1-716b-4755-cd30-08e30171a51e"
      },
      "source": [
        "print(type(an))\n",
        "print(type(so))"
      ],
      "execution_count": 14,
      "outputs": [
        {
          "output_type": "stream",
          "text": [
            "<class '__main__.PartyAnimal'>\n",
            "<class '__main__.PartyAnimal'>\n"
          ],
          "name": "stdout"
        }
      ]
    },
    {
      "cell_type": "code",
      "metadata": {
        "id": "PRw_45jZg34T",
        "colab_type": "code",
        "colab": {
          "base_uri": "https://localhost:8080/",
          "height": 487
        },
        "outputId": "50d4c2f3-0b66-4181-cbba-2dacd37493a9"
      },
      "source": [
        "for item in dir(an):\n",
        "  print(item)"
      ],
      "execution_count": 15,
      "outputs": [
        {
          "output_type": "stream",
          "text": [
            "__class__\n",
            "__delattr__\n",
            "__dict__\n",
            "__dir__\n",
            "__doc__\n",
            "__eq__\n",
            "__format__\n",
            "__ge__\n",
            "__getattribute__\n",
            "__gt__\n",
            "__hash__\n",
            "__init__\n",
            "__init_subclass__\n",
            "__le__\n",
            "__lt__\n",
            "__module__\n",
            "__ne__\n",
            "__new__\n",
            "__reduce__\n",
            "__reduce_ex__\n",
            "__repr__\n",
            "__setattr__\n",
            "__sizeof__\n",
            "__str__\n",
            "__subclasshook__\n",
            "__weakref__\n",
            "party\n",
            "x\n"
          ],
          "name": "stdout"
        }
      ]
    },
    {
      "cell_type": "code",
      "metadata": {
        "id": "aunX3x-bhym6",
        "colab_type": "code",
        "colab": {}
      },
      "source": [
        "## Constructor\n",
        "\n",
        "class PartyAnimal1:\n",
        "   x = 0\n",
        "\n",
        "   def __init__(self):\n",
        "    print(\"I am constructed\")\n",
        "    print(\"A party animal is born\")\n",
        "\n",
        "   def party(self) :\n",
        "     self.x = self.x + 1\n",
        "     print(\"So far\", self.x)\n",
        "\n",
        "   def __del__(self):\n",
        "     print(\"I am destructed\", self.x)\n"
      ],
      "execution_count": 16,
      "outputs": []
    },
    {
      "cell_type": "code",
      "metadata": {
        "id": "l0Y7h-eMh9uA",
        "colab_type": "code",
        "colab": {
          "base_uri": "https://localhost:8080/",
          "height": 50
        },
        "outputId": "16769a2e-36e7-45ae-ca95-2b1b0951b34d"
      },
      "source": [
        "an = PartyAnimal1()\n"
      ],
      "execution_count": 17,
      "outputs": [
        {
          "output_type": "stream",
          "text": [
            "I am constructed\n",
            "A party animal is born\n"
          ],
          "name": "stdout"
        }
      ]
    },
    {
      "cell_type": "code",
      "metadata": {
        "id": "JpLdqMpPiE8N",
        "colab_type": "code",
        "colab": {
          "base_uri": "https://localhost:8080/",
          "height": 67
        },
        "outputId": "69530825-c660-434e-e306-94901cc5de04"
      },
      "source": [
        "an.party()\n",
        "an.party()\n",
        "an.party()\n"
      ],
      "execution_count": 18,
      "outputs": [
        {
          "output_type": "stream",
          "text": [
            "So far 1\n",
            "So far 2\n",
            "So far 3\n"
          ],
          "name": "stdout"
        }
      ]
    },
    {
      "cell_type": "code",
      "metadata": {
        "id": "PvVVH0gni282",
        "colab_type": "code",
        "colab": {
          "base_uri": "https://localhost:8080/",
          "height": 34
        },
        "outputId": "fe5e055e-cdfc-4a30-a97e-30fc2dd5bfad"
      },
      "source": [
        "del an"
      ],
      "execution_count": 19,
      "outputs": [
        {
          "output_type": "stream",
          "text": [
            "I am destructed 3\n"
          ],
          "name": "stdout"
        }
      ]
    },
    {
      "cell_type": "code",
      "metadata": {
        "id": "8IZp_87GiPoJ",
        "colab_type": "code",
        "colab": {
          "base_uri": "https://localhost:8080/",
          "height": 50
        },
        "outputId": "2a91ac79-b30f-4bdf-a657-d1586959746d"
      },
      "source": [
        "so = PartyAnimal1()"
      ],
      "execution_count": 20,
      "outputs": [
        {
          "output_type": "stream",
          "text": [
            "I am constructed\n",
            "A party animal is born\n"
          ],
          "name": "stdout"
        }
      ]
    },
    {
      "cell_type": "code",
      "metadata": {
        "id": "Qxet3bqSiVDW",
        "colab_type": "code",
        "colab": {
          "base_uri": "https://localhost:8080/",
          "height": 34
        },
        "outputId": "0029c6de-58ef-4283-d569-888984f611f0"
      },
      "source": [
        "del so"
      ],
      "execution_count": 21,
      "outputs": [
        {
          "output_type": "stream",
          "text": [
            "I am destructed 0\n"
          ],
          "name": "stdout"
        }
      ]
    },
    {
      "cell_type": "code",
      "metadata": {
        "id": "3cS2DciKjF4O",
        "colab_type": "code",
        "colab": {}
      },
      "source": [
        "## Many Instances\n",
        "\n",
        "class PartyAnimal2:\n",
        "   x = 0\n",
        "   name = \"\"\n",
        "   def __init__(self, nam):\n",
        "     self.name = nam\n",
        "     print(self.name,\"constructed\",self.x)\n",
        "\n",
        "   def party(self) :\n",
        "     self.x = self.x + 1\n",
        "     print(self.name,\"party count\",self.x)\n",
        "\n"
      ],
      "execution_count": 22,
      "outputs": []
    },
    {
      "cell_type": "code",
      "metadata": {
        "id": "dpkPzMaajd3M",
        "colab_type": "code",
        "colab": {
          "base_uri": "https://localhost:8080/",
          "height": 50
        },
        "outputId": "6b411e9d-295f-4932-9f42-ffdde7860cbc"
      },
      "source": [
        "s = PartyAnimal2(\"Sally\")\n",
        "s.party()\n"
      ],
      "execution_count": 23,
      "outputs": [
        {
          "output_type": "stream",
          "text": [
            "Sally constructed 0\n",
            "Sally party count 1\n"
          ],
          "name": "stdout"
        }
      ]
    },
    {
      "cell_type": "code",
      "metadata": {
        "id": "YY9wJz3_j0Ox",
        "colab_type": "code",
        "colab": {
          "base_uri": "https://localhost:8080/",
          "height": 67
        },
        "outputId": "714e65bd-88c0-4f6d-bb6a-1ac67cd60493"
      },
      "source": [
        "\n",
        "j = PartyAnimal2(\"Jim\")\n",
        "j.party()\n",
        "s.party()"
      ],
      "execution_count": 24,
      "outputs": [
        {
          "output_type": "stream",
          "text": [
            "Jim constructed 0\n",
            "Jim party count 1\n",
            "Sally party count 2\n"
          ],
          "name": "stdout"
        }
      ]
    },
    {
      "cell_type": "code",
      "metadata": {
        "id": "89UKnadvj8Nu",
        "colab_type": "code",
        "colab": {}
      },
      "source": [
        "## Inheritance\n",
        "\n",
        "\n",
        "class FootballFan( PartyAnimal2):\n",
        "   points = 0\n",
        "   def touchdown(self):\n",
        "      self.points = self.points + 7\n",
        "      self.party()\n",
        "      print(self.name,\"points\",self.points)"
      ],
      "execution_count": 25,
      "outputs": []
    },
    {
      "cell_type": "code",
      "metadata": {
        "id": "S26QDtyrlpeo",
        "colab_type": "code",
        "colab": {
          "base_uri": "https://localhost:8080/",
          "height": 34
        },
        "outputId": "6ad4cc4a-569a-4884-a06d-8f513404aa17"
      },
      "source": [
        "j = FootballFan(\"Jim\")\n"
      ],
      "execution_count": 26,
      "outputs": [
        {
          "output_type": "stream",
          "text": [
            "Jim constructed 0\n"
          ],
          "name": "stdout"
        }
      ]
    },
    {
      "cell_type": "code",
      "metadata": {
        "id": "uEF8FmzElsS0",
        "colab_type": "code",
        "colab": {
          "base_uri": "https://localhost:8080/",
          "height": 34
        },
        "outputId": "ad1821f0-90d8-4a7b-fd1b-751e532a94eb"
      },
      "source": [
        "j.party()\n"
      ],
      "execution_count": 27,
      "outputs": [
        {
          "output_type": "stream",
          "text": [
            "Jim party count 1\n"
          ],
          "name": "stdout"
        }
      ]
    },
    {
      "cell_type": "code",
      "metadata": {
        "id": "5M_gTjw4lvGC",
        "colab_type": "code",
        "colab": {
          "base_uri": "https://localhost:8080/",
          "height": 50
        },
        "outputId": "22ea0665-3e39-4cb2-f452-020d1000c07c"
      },
      "source": [
        "j.touchdown()"
      ],
      "execution_count": 28,
      "outputs": [
        {
          "output_type": "stream",
          "text": [
            "Jim party count 2\n",
            "Jim points 7\n"
          ],
          "name": "stdout"
        }
      ]
    },
    {
      "cell_type": "code",
      "metadata": {
        "id": "9q8ct3DBl6-N",
        "colab_type": "code",
        "colab": {
          "base_uri": "https://localhost:8080/",
          "height": 50
        },
        "outputId": "554e4b39-96a6-41ad-d32b-2475263fbcbe"
      },
      "source": [
        "s = PartyAnimal2(\"Pingu\")\n",
        "s.party()"
      ],
      "execution_count": 29,
      "outputs": [
        {
          "output_type": "stream",
          "text": [
            "Pingu constructed 0\n",
            "Pingu party count 1\n"
          ],
          "name": "stdout"
        }
      ]
    },
    {
      "cell_type": "code",
      "metadata": {
        "id": "RrL9I_9OmI5M",
        "colab_type": "code",
        "colab": {
          "base_uri": "https://localhost:8080/",
          "height": 84
        },
        "outputId": "4321596a-b31b-4a18-afad-fa7c2e8af5ae"
      },
      "source": [
        "for x in [s, j]:\n",
        "  print(x.party())"
      ],
      "execution_count": 30,
      "outputs": [
        {
          "output_type": "stream",
          "text": [
            "Pingu party count 2\n",
            "None\n",
            "Jim party count 3\n",
            "None\n"
          ],
          "name": "stdout"
        }
      ]
    }
  ]
}