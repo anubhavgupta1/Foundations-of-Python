{
  "nbformat": 4,
  "nbformat_minor": 0,
  "metadata": {
    "colab": {
      "name": "Foundations of Python-III-Lists and Dictionaris.ipynb",
      "provenance": [],
      "authorship_tag": "ABX9TyNvlaybYKZ3ZYAJPLH/i4mv",
      "include_colab_link": true
    },
    "kernelspec": {
      "name": "python3",
      "display_name": "Python 3"
    }
  },
  "cells": [
    {
      "cell_type": "markdown",
      "metadata": {
        "id": "view-in-github",
        "colab_type": "text"
      },
      "source": [
        "<a href=\"https://colab.research.google.com/github/anubhavgupta1/Foundations-of-Python/blob/master/Foundations_of_Python_III_Lists_and_Dictionaris.ipynb\" target=\"_parent\"><img src=\"https://colab.research.google.com/assets/colab-badge.svg\" alt=\"Open In Colab\"/></a>"
      ]
    },
    {
      "cell_type": "markdown",
      "metadata": {
        "id": "21as7fB10I2h",
        "colab_type": "text"
      },
      "source": [
        "#Lists"
      ]
    },
    {
      "cell_type": "code",
      "metadata": {
        "id": "uxFKEaiNx8J8",
        "colab_type": "code",
        "colab": {
          "base_uri": "https://localhost:8080/",
          "height": 84
        },
        "outputId": "eac4f499-26a0-44bf-c03d-1dd981e5d164"
      },
      "source": [
        "friends = ['Joseph', 'Glenn', 'Sally']\n",
        "for friend in friends :\n",
        "    print ('Happy New Year:',  friend)\n",
        "print ('Done!')\n"
      ],
      "execution_count": 1,
      "outputs": [
        {
          "output_type": "stream",
          "text": [
            "Happy New Year: Joseph\n",
            "Happy New Year: Glenn\n",
            "Happy New Year: Sally\n",
            "Done!\n"
          ],
          "name": "stdout"
        }
      ]
    },
    {
      "cell_type": "code",
      "metadata": {
        "id": "1xNsDgYq0ALk",
        "colab_type": "code",
        "colab": {
          "base_uri": "https://localhost:8080/",
          "height": 34
        },
        "outputId": "b4ca0a4f-ee97-4b51-8c57-8495793a2966"
      },
      "source": [
        "# Looking Inside Lists\n",
        "friends = [ 'Joseph', 'Glenn', 'Sally' ]\n",
        "print (friends[1])"
      ],
      "execution_count": 2,
      "outputs": [
        {
          "output_type": "stream",
          "text": [
            "Glenn\n"
          ],
          "name": "stdout"
        }
      ]
    },
    {
      "cell_type": "code",
      "metadata": {
        "id": "kFZ0KjWD0PiG",
        "colab_type": "code",
        "colab": {
          "base_uri": "https://localhost:8080/",
          "height": 50
        },
        "outputId": "58f9d130-871f-4a39-8375-4879ccb92d34"
      },
      "source": [
        "# Lists are Mutable\n",
        "lotto = [2, 14, 26, 41, 63]\n",
        "print (lotto)\n",
        "lotto[2] = 28\n",
        "print (lotto)\n"
      ],
      "execution_count": 3,
      "outputs": [
        {
          "output_type": "stream",
          "text": [
            "[2, 14, 26, 41, 63]\n",
            "[2, 14, 28, 41, 63]\n"
          ],
          "name": "stdout"
        }
      ]
    },
    {
      "cell_type": "code",
      "metadata": {
        "id": "W8U_C3yq0tPu",
        "colab_type": "code",
        "colab": {
          "base_uri": "https://localhost:8080/",
          "height": 50
        },
        "outputId": "8c4dbe50-d4bf-446f-aae7-5bca74e5dfd4"
      },
      "source": [
        "# How Long is a List?\n",
        "\n",
        "greet = 'Hello Bob'\n",
        "print (len(greet))\n",
        "x = [ 1, 2, 'joe', 99]\n",
        "print (len(x))\n"
      ],
      "execution_count": 4,
      "outputs": [
        {
          "output_type": "stream",
          "text": [
            "9\n",
            "4\n"
          ],
          "name": "stdout"
        }
      ]
    },
    {
      "cell_type": "code",
      "metadata": {
        "id": "q2JkQIsG040s",
        "colab_type": "code",
        "colab": {
          "base_uri": "https://localhost:8080/",
          "height": 67
        },
        "outputId": "fb3d4074-e120-4c6d-a846-1a84b9900ce3"
      },
      "source": [
        "\n",
        "print (range(4))\n",
        "friends = ['Joseph', 'Glenn', 'Sally']\n",
        "print (len(friends))\n",
        "print (range(len(friends)))"
      ],
      "execution_count": 5,
      "outputs": [
        {
          "output_type": "stream",
          "text": [
            "range(0, 4)\n",
            "3\n",
            "range(0, 3)\n"
          ],
          "name": "stdout"
        }
      ]
    },
    {
      "cell_type": "code",
      "metadata": {
        "id": "3ToLCuhx1Ckf",
        "colab_type": "code",
        "colab": {
          "base_uri": "https://localhost:8080/",
          "height": 34
        },
        "outputId": "d7f4918f-82d1-409f-909f-6c94292a0c43"
      },
      "source": [
        "# Is Something in a List?\n",
        "\n",
        "some = [1, 9, 21, 10, 16]\n",
        "9 in some"
      ],
      "execution_count": 6,
      "outputs": [
        {
          "output_type": "execute_result",
          "data": {
            "text/plain": [
              "True"
            ]
          },
          "metadata": {
            "tags": []
          },
          "execution_count": 6
        }
      ]
    },
    {
      "cell_type": "code",
      "metadata": {
        "id": "fUfU3pym1D4D",
        "colab_type": "code",
        "colab": {
          "base_uri": "https://localhost:8080/",
          "height": 118
        },
        "outputId": "272ab729-359d-41bc-c8ae-be75811b5422"
      },
      "source": [
        "#A tale of two loops...\n",
        "\n",
        "friends = ['Joseph', 'Glenn', 'Sally']\n",
        "\n",
        "for friend in friends :\n",
        "    print ('Happy New Year:',  friend)\n",
        "\n",
        "for i in range(len(friends)) :\n",
        "    friend = friends[i]\n",
        "    print ('Happy New Year:',  friend)"
      ],
      "execution_count": 7,
      "outputs": [
        {
          "output_type": "stream",
          "text": [
            "Happy New Year: Joseph\n",
            "Happy New Year: Glenn\n",
            "Happy New Year: Sally\n",
            "Happy New Year: Joseph\n",
            "Happy New Year: Glenn\n",
            "Happy New Year: Sally\n"
          ],
          "name": "stdout"
        }
      ]
    },
    {
      "cell_type": "code",
      "metadata": {
        "id": "5qxcgiWY1JRl",
        "colab_type": "code",
        "colab": {
          "base_uri": "https://localhost:8080/",
          "height": 118
        },
        "outputId": "3cdd7a1a-fb00-4d84-f8aa-148da3306089"
      },
      "source": [
        "#A tale of two loops...\n",
        "\n",
        "friends = ['Joseph', 'Glenn', 'Sally']\n",
        "\n",
        "for friend in friends :\n",
        "    print ('Happy New Year:',  friend)\n",
        "\n",
        "for i in range(len(friends)) :\n",
        "    friend = friends[i]\n",
        "    print ('Happy New Year:',  friend)"
      ],
      "execution_count": 8,
      "outputs": [
        {
          "output_type": "stream",
          "text": [
            "Happy New Year: Joseph\n",
            "Happy New Year: Glenn\n",
            "Happy New Year: Sally\n",
            "Happy New Year: Joseph\n",
            "Happy New Year: Glenn\n",
            "Happy New Year: Sally\n"
          ],
          "name": "stdout"
        }
      ]
    },
    {
      "cell_type": "code",
      "metadata": {
        "id": "_IcNNNGv1NeN",
        "colab_type": "code",
        "colab": {
          "base_uri": "https://localhost:8080/",
          "height": 34
        },
        "outputId": "809d75f1-d16a-434b-8a7e-8f2ce15b6b29"
      },
      "source": [
        "# Concatenating lists using +\n",
        "\n",
        "a = [1, 2, 3]\n",
        "b = [4, 5, 6]\n",
        "c = a + b\n",
        "c"
      ],
      "execution_count": 10,
      "outputs": [
        {
          "output_type": "execute_result",
          "data": {
            "text/plain": [
              "[1, 2, 3, 4, 5, 6]"
            ]
          },
          "metadata": {
            "tags": []
          },
          "execution_count": 10
        }
      ]
    },
    {
      "cell_type": "code",
      "metadata": {
        "id": "_mv2cL-81VTZ",
        "colab_type": "code",
        "colab": {
          "base_uri": "https://localhost:8080/",
          "height": 84
        },
        "outputId": "ec6dd079-5918-48fe-d588-3e79623eb97b"
      },
      "source": [
        "# Lists can be sliced using :\n",
        "\n",
        "t = [9, 41, 12, 3, 74, 15]\n",
        "print(t[1:3])\n",
        "print(t[:4])\n",
        "print(t[3:])\n",
        "print(t[:])"
      ],
      "execution_count": 11,
      "outputs": [
        {
          "output_type": "stream",
          "text": [
            "[41, 12]\n",
            "[9, 41, 12, 3]\n",
            "[3, 74, 15]\n",
            "[9, 41, 12, 3, 74, 15]\n"
          ],
          "name": "stdout"
        }
      ]
    },
    {
      "cell_type": "code",
      "metadata": {
        "id": "db4VjxH11nTQ",
        "colab_type": "code",
        "colab": {
          "base_uri": "https://localhost:8080/",
          "height": 50
        },
        "outputId": "c29ce3fb-dea6-4149-b2b8-6f8d6a6cfccd"
      },
      "source": [
        "# Building a List from Scratch\n",
        "\n",
        "stuff = list()\n",
        "stuff.append('book')\n",
        "stuff.append(99)\n",
        "print (stuff)\n",
        "stuff.append('cookie')\n",
        "print (stuff)\n"
      ],
      "execution_count": 12,
      "outputs": [
        {
          "output_type": "stream",
          "text": [
            "['book', 99]\n",
            "['book', 99, 'cookie']\n"
          ],
          "name": "stdout"
        }
      ]
    },
    {
      "cell_type": "code",
      "metadata": {
        "id": "jGh2o-iK1pTz",
        "colab_type": "code",
        "colab": {
          "base_uri": "https://localhost:8080/",
          "height": 50
        },
        "outputId": "60a36f9b-dc32-412a-b382-2bffe969a777"
      },
      "source": [
        "# A List is an Ordered Sequence\n",
        "\n",
        "friends = [ 'Joseph', 'Glenn', 'Sally' ]\n",
        "friends.sort()\n",
        "print (friends)\n",
        "print (friends[1])\n"
      ],
      "execution_count": 13,
      "outputs": [
        {
          "output_type": "stream",
          "text": [
            "['Glenn', 'Joseph', 'Sally']\n",
            "Joseph\n"
          ],
          "name": "stdout"
        }
      ]
    },
    {
      "cell_type": "code",
      "metadata": {
        "id": "meSIx9eq19rl",
        "colab_type": "code",
        "colab": {
          "base_uri": "https://localhost:8080/",
          "height": 101
        },
        "outputId": "e987321f-c871-40e3-9547-85e81a4706f3"
      },
      "source": [
        "# Built-in Functions and Lists\n",
        "nums = [3, 41, 12, 9, 74, 15]\n",
        "print (len(nums))\n",
        "print (max(nums))\n",
        "print (min(nums))\n",
        "print (sum(nums))\n",
        "print (sum(nums)/len(nums))\n"
      ],
      "execution_count": 14,
      "outputs": [
        {
          "output_type": "stream",
          "text": [
            "6\n",
            "74\n",
            "3\n",
            "154\n",
            "25.666666666666668\n"
          ],
          "name": "stdout"
        }
      ]
    },
    {
      "cell_type": "code",
      "metadata": {
        "id": "utZ3YMhR1-8i",
        "colab_type": "code",
        "colab": {
          "base_uri": "https://localhost:8080/",
          "height": 151
        },
        "outputId": "70b00a40-410f-458f-800d-7eb0da6112ed"
      },
      "source": [
        "#Computing Average - 1\n",
        "total = 0\n",
        "count = 0\n",
        "while True :\n",
        "    inp = input('Enter a number: ')\n",
        "    if inp == 'done' : break\n",
        "    value = float(inp)\n",
        "    total = total + value     \n",
        "    count = count + 1\n",
        "\n",
        "average = total / count\n",
        "print ('Average:', average)"
      ],
      "execution_count": 15,
      "outputs": [
        {
          "output_type": "stream",
          "text": [
            "Enter a number: 3\n",
            "Enter a number: 41\n",
            "Enter a number: 12\n",
            "Enter a number: 9\n",
            "Enter a number: 74\n",
            "Enter a number: 15\n",
            "Enter a number: done\n",
            "Average: 25.666666666666668\n"
          ],
          "name": "stdout"
        }
      ]
    },
    {
      "cell_type": "code",
      "metadata": {
        "id": "et16gPKT2PEc",
        "colab_type": "code",
        "colab": {
          "base_uri": "https://localhost:8080/",
          "height": 151
        },
        "outputId": "3ce6b7af-a79a-4c22-cb5d-685acc75b6d4"
      },
      "source": [
        "#Computing Average - 2\n",
        "numlist = list()\n",
        "while True :\n",
        "    inp = input('Enter a number: ')\n",
        "    if inp == 'done' : break\n",
        "    value = float(inp)\n",
        "    numlist.append(value)\n",
        "\n",
        "average = sum(numlist) / len(numlist)\n",
        "print ('Average:', average)"
      ],
      "execution_count": 16,
      "outputs": [
        {
          "output_type": "stream",
          "text": [
            "Enter a number: 3\n",
            "Enter a number: 41\n",
            "Enter a number: 12\n",
            "Enter a number: 9\n",
            "Enter a number: 74\n",
            "Enter a number: 15\n",
            "Enter a number: done\n",
            "Average: 25.666666666666668\n"
          ],
          "name": "stdout"
        }
      ]
    },
    {
      "cell_type": "code",
      "metadata": {
        "id": "LTkN2gjI2bxh",
        "colab_type": "code",
        "colab": {
          "base_uri": "https://localhost:8080/",
          "height": 151
        },
        "outputId": "a37789e7-773c-46f4-9912-72a584fa70a1"
      },
      "source": [
        "# Best Friends: Strings and Lists\n",
        "\n",
        "abc = 'With three words'\n",
        "stuff = abc.split()\n",
        "print (stuff)\n",
        "print (len(stuff))\n",
        "print (stuff[0])\n",
        "help([].append)"
      ],
      "execution_count": 17,
      "outputs": [
        {
          "output_type": "stream",
          "text": [
            "['With', 'three', 'words']\n",
            "3\n",
            "With\n",
            "Help on built-in function append:\n",
            "\n",
            "append(...) method of builtins.list instance\n",
            "    L.append(object) -> None -- append object to end\n",
            "\n"
          ],
          "name": "stdout"
        }
      ]
    },
    {
      "cell_type": "code",
      "metadata": {
        "id": "_-BCU5Cq2nOv",
        "colab_type": "code",
        "colab": {
          "base_uri": "https://localhost:8080/",
          "height": 67
        },
        "outputId": "48a9864f-e4c7-4037-fbd9-a177e613a554"
      },
      "source": [
        "for w in stuff :\n",
        "     print (w)"
      ],
      "execution_count": 18,
      "outputs": [
        {
          "output_type": "stream",
          "text": [
            "With\n",
            "three\n",
            "words\n"
          ],
          "name": "stdout"
        }
      ]
    },
    {
      "cell_type": "code",
      "metadata": {
        "id": "alLIHmsU2osZ",
        "colab_type": "code",
        "colab": {
          "base_uri": "https://localhost:8080/",
          "height": 101
        },
        "outputId": "e1c9f2d4-27dc-428a-aa1d-05181ede13cc"
      },
      "source": [
        "#Split\n",
        "\n",
        "line = 'A lot               of spaces'\n",
        "etc = line.split()\n",
        "print (etc)\n",
        "\n",
        "line = 'first;second;third'\n",
        "thing = line.split()\n",
        "print (thing)\n",
        "print (len(thing))\n",
        "thing = line.split(';')\n",
        "print (thing)\n",
        "print (len(thing))\n"
      ],
      "execution_count": 19,
      "outputs": [
        {
          "output_type": "stream",
          "text": [
            "['A', 'lot', 'of', 'spaces']\n",
            "['first;second;third']\n",
            "1\n",
            "['first', 'second', 'third']\n",
            "3\n"
          ],
          "name": "stdout"
        }
      ]
    },
    {
      "cell_type": "code",
      "metadata": {
        "id": "zmNXmlHw3BA2",
        "colab_type": "code",
        "colab": {
          "base_uri": "https://localhost:8080/",
          "height": 34
        },
        "outputId": "c84694f6-63cc-439f-d940-a740165fac08"
      },
      "source": [
        "# The Double Split Pattern\n",
        "## Sometimes we split a line one way, and then grab one of the pieces of the line and split that piece again\n",
        "line = 'From stephen.marquard@uct.ac.za Sat Jan  5 09:14:16 2008'\n",
        "words = line.split()\n",
        "\n",
        "# stephen.marquard@uct.ac.za\n",
        "email = words[1]\n",
        "\n",
        "#['stephen.marquard', 'uct.ac.za']\n",
        "pieces = email.split('@')\n",
        "\n",
        "#'uct.ac.za'\n",
        "print (pieces[1])\n"
      ],
      "execution_count": 20,
      "outputs": [
        {
          "output_type": "stream",
          "text": [
            "uct.ac.za\n"
          ],
          "name": "stdout"
        }
      ]
    },
    {
      "cell_type": "markdown",
      "metadata": {
        "id": "x8GzFgkn3pV-",
        "colab_type": "text"
      },
      "source": [
        "#Dictionaries"
      ]
    },
    {
      "cell_type": "code",
      "metadata": {
        "id": "w4AMCuqT3RLa",
        "colab_type": "code",
        "colab": {
          "base_uri": "https://localhost:8080/",
          "height": 67
        },
        "outputId": "a3048c71-e1a7-4e8e-e16b-5d55fe751647"
      },
      "source": [
        "purse = dict()\n",
        "purse['money'] = 12\n",
        "purse['candy'] = 3\n",
        "purse['tissues'] = 75\n",
        "print(purse)\n",
        "print(purse['candy'])\n",
        "purse['candy'] = purse['candy'] + 2\n",
        "print(purse)"
      ],
      "execution_count": 21,
      "outputs": [
        {
          "output_type": "stream",
          "text": [
            "{'money': 12, 'candy': 3, 'tissues': 75}\n",
            "3\n",
            "{'money': 12, 'candy': 5, 'tissues': 75}\n"
          ],
          "name": "stdout"
        }
      ]
    },
    {
      "cell_type": "markdown",
      "metadata": {
        "id": "WhRhk9I732QV",
        "colab_type": "text"
      },
      "source": [
        "#Comparing Lists and Dictionaries"
      ]
    },
    {
      "cell_type": "code",
      "metadata": {
        "id": "Iiy4cC313lxw",
        "colab_type": "code",
        "colab": {
          "base_uri": "https://localhost:8080/",
          "height": 50
        },
        "outputId": "b2647f41-d2f6-4fcb-b4ef-9e2fac0fc587"
      },
      "source": [
        "lst = list()\n",
        "lst.append(21)\n",
        "lst.append(183)\n",
        "print(lst)\n",
        "lst[0] = 23\n",
        "print(lst)\n"
      ],
      "execution_count": 22,
      "outputs": [
        {
          "output_type": "stream",
          "text": [
            "[21, 183]\n",
            "[23, 183]\n"
          ],
          "name": "stdout"
        }
      ]
    },
    {
      "cell_type": "code",
      "metadata": {
        "id": "aBrRMcye4EZg",
        "colab_type": "code",
        "colab": {
          "base_uri": "https://localhost:8080/",
          "height": 50
        },
        "outputId": "8f9b5b1c-c461-4f89-bbf3-21e8dac20d00"
      },
      "source": [
        "ddd = dict()\n",
        "ddd['age'] = 21\n",
        "ddd['course'] = 182\n",
        "print(ddd)\n",
        "ddd['age'] = 23\n",
        "print(ddd)\n"
      ],
      "execution_count": 23,
      "outputs": [
        {
          "output_type": "stream",
          "text": [
            "{'age': 21, 'course': 182}\n",
            "{'age': 23, 'course': 182}\n"
          ],
          "name": "stdout"
        }
      ]
    },
    {
      "cell_type": "code",
      "metadata": {
        "id": "aZq6S75e4HsA",
        "colab_type": "code",
        "colab": {
          "base_uri": "https://localhost:8080/",
          "height": 84
        },
        "outputId": "a1fc8ee1-0a31-49ff-d0f5-18f763bf6b5f"
      },
      "source": [
        "## Dictionary Literals (Constants)\n",
        "\n",
        "jjj = { 'chuck' : 1 , 'fred' : 42, 'jan': 100}\n",
        "print(jjj)\n",
        "print(jjj['chuck'])\n",
        "\n",
        "ooo = { }\n",
        "print(ooo)\n",
        "\n",
        "print(jjj.values())"
      ],
      "execution_count": 24,
      "outputs": [
        {
          "output_type": "stream",
          "text": [
            "{'chuck': 1, 'fred': 42, 'jan': 100}\n",
            "1\n",
            "{}\n",
            "dict_values([1, 42, 100])\n"
          ],
          "name": "stdout"
        }
      ]
    },
    {
      "cell_type": "code",
      "metadata": {
        "id": "SMErV3Om4YmK",
        "colab_type": "code",
        "colab": {
          "base_uri": "https://localhost:8080/",
          "height": 50
        },
        "outputId": "58f06a78-bef5-41e5-b5f8-242130eec8c5"
      },
      "source": [
        "## Many Counters with a Dictionary\n",
        "ccc = dict()\n",
        "ccc['csev'] = 1\n",
        "ccc['cwen'] = 1\n",
        "print(ccc)\n",
        "ccc['cwen'] = ccc['cwen'] + 1\n",
        "print(ccc)"
      ],
      "execution_count": 25,
      "outputs": [
        {
          "output_type": "stream",
          "text": [
            "{'csev': 1, 'cwen': 1}\n",
            "{'csev': 1, 'cwen': 2}\n"
          ],
          "name": "stdout"
        }
      ]
    },
    {
      "cell_type": "code",
      "metadata": {
        "id": "rMS2GoWz4Z48",
        "colab_type": "code",
        "colab": {
          "base_uri": "https://localhost:8080/",
          "height": 34
        },
        "outputId": "528bc8ec-ab8d-464b-9a8e-0635d7adc942"
      },
      "source": [
        "## When we see a new name\n",
        "\n",
        "counts = dict()\n",
        "names = ['csev', 'cwen', 'csev', 'zqian', 'cwen']\n",
        "for name in names :\n",
        "    if name not in counts: \n",
        "       counts[name] = 1\n",
        "    else :\n",
        "        counts[name] = counts[name] + 1\n",
        "print(counts)\n"
      ],
      "execution_count": 26,
      "outputs": [
        {
          "output_type": "stream",
          "text": [
            "{'csev': 2, 'cwen': 2, 'zqian': 1}\n"
          ],
          "name": "stdout"
        }
      ]
    },
    {
      "cell_type": "code",
      "metadata": {
        "id": "ybCatzRD4ecA",
        "colab_type": "code",
        "colab": {
          "base_uri": "https://localhost:8080/",
          "height": 34
        },
        "outputId": "9456edcf-0c6e-44eb-d736-a0dfbefea2e0"
      },
      "source": [
        "## Simplified counting with get()\n",
        "counts = dict()\n",
        "names = ['csev', 'cwen', 'csev', 'zqian', 'cwen']\n",
        "for name in names :\n",
        "    counts[name] = counts.get(name, 0) + 1\n",
        "print(counts)"
      ],
      "execution_count": 27,
      "outputs": [
        {
          "output_type": "stream",
          "text": [
            "{'csev': 2, 'cwen': 2, 'zqian': 1}\n"
          ],
          "name": "stdout"
        }
      ]
    },
    {
      "cell_type": "code",
      "metadata": {
        "id": "s6DzIBDG4pIY",
        "colab_type": "code",
        "colab": {
          "base_uri": "https://localhost:8080/",
          "height": 84
        },
        "outputId": "460f49de-9d1d-4e30-d1c9-181b94944a6b"
      },
      "source": [
        "counts = dict()\n",
        "line = input('Enter a line of text:')\n",
        "words = line.split()\n",
        "\n",
        "print('Words:', words)\n",
        "print('Counting...')\n",
        "\n",
        "for word in words:\n",
        "    counts[word] = counts.get(word,0) + 1\n",
        "print('Counts', counts)"
      ],
      "execution_count": 28,
      "outputs": [
        {
          "output_type": "stream",
          "text": [
            "Enter a line of text:Three Idiots Forever Guggu Duggu Candy\n",
            "Words: ['Three', 'Idiots', 'Forever', 'Guggu', 'Duggu', 'Candy']\n",
            "Counting...\n",
            "Counts {'Three': 1, 'Idiots': 1, 'Forever': 1, 'Guggu': 1, 'Duggu': 1, 'Candy': 1}\n"
          ],
          "name": "stdout"
        }
      ]
    },
    {
      "cell_type": "code",
      "metadata": {
        "id": "yQ-7XB255DqD",
        "colab_type": "code",
        "colab": {
          "base_uri": "https://localhost:8080/",
          "height": 67
        },
        "outputId": "c5f87f43-d204-4a82-f11b-ba0ce8c8e7cd"
      },
      "source": [
        "## Definite Loops and Dictionaries\n",
        "\n",
        "counts = { 'chuck' : 1 , 'fred' : 42, 'jan': 100}\n",
        "for key in counts:\n",
        "    print(key, counts[key])"
      ],
      "execution_count": 29,
      "outputs": [
        {
          "output_type": "stream",
          "text": [
            "chuck 1\n",
            "fred 42\n",
            "jan 100\n"
          ],
          "name": "stdout"
        }
      ]
    },
    {
      "cell_type": "code",
      "metadata": {
        "id": "hDShj4jp5FVj",
        "colab_type": "code",
        "colab": {
          "base_uri": "https://localhost:8080/",
          "height": 84
        },
        "outputId": "219aa067-9371-40bb-8419-1bcb8867e571"
      },
      "source": [
        "## Retrieving lists of Keys and Values\n",
        "\n",
        "jjj = { 'chuck' : 1 , 'fred' : 42, 'jan': 100, 'chuck':10}\n",
        "print(list(jjj))\n",
        "print(jjj.keys())\n",
        "print(jjj.values())\n",
        "print(jjj.items())\n"
      ],
      "execution_count": 30,
      "outputs": [
        {
          "output_type": "stream",
          "text": [
            "['chuck', 'fred', 'jan']\n",
            "dict_keys(['chuck', 'fred', 'jan'])\n",
            "dict_values([10, 42, 100])\n",
            "dict_items([('chuck', 10), ('fred', 42), ('jan', 100)])\n"
          ],
          "name": "stdout"
        }
      ]
    },
    {
      "cell_type": "code",
      "metadata": {
        "id": "Nk4MyIfx5KAD",
        "colab_type": "code",
        "colab": {
          "base_uri": "https://localhost:8080/",
          "height": 67
        },
        "outputId": "3b3e773b-6850-4f42-e48c-302e63b33562"
      },
      "source": [
        "l = [('chuck', 10), ('fred', 42), ('jan', 100)]\n",
        "print(dict(l))\n",
        "a = list((1,2))\n",
        "print(a)\n",
        "print(tuple([1,2]))"
      ],
      "execution_count": 31,
      "outputs": [
        {
          "output_type": "stream",
          "text": [
            "{'chuck': 10, 'fred': 42, 'jan': 100}\n",
            "[1, 2]\n",
            "(1, 2)\n"
          ],
          "name": "stdout"
        }
      ]
    },
    {
      "cell_type": "code",
      "metadata": {
        "id": "MDBzMoKY5NgE",
        "colab_type": "code",
        "colab": {
          "base_uri": "https://localhost:8080/",
          "height": 67
        },
        "outputId": "18368673-46d7-4c96-f5de-d3e3f7b81758"
      },
      "source": [
        "## Bonus: Two Iteration Variables!\n",
        "\n",
        "jjj = { 'chuck' : 1 , 'fred' : 42, 'jan': 100}\n",
        "for name,val in jjj.items():\n",
        "    print(name, val)"
      ],
      "execution_count": 32,
      "outputs": [
        {
          "output_type": "stream",
          "text": [
            "chuck 1\n",
            "fred 42\n",
            "jan 100\n"
          ],
          "name": "stdout"
        }
      ]
    },
    {
      "cell_type": "code",
      "metadata": {
        "id": "4nc4uv4k5OxS",
        "colab_type": "code",
        "colab": {
          "base_uri": "https://localhost:8080/",
          "height": 34
        },
        "outputId": "4ee7de3f-4500-45cd-afa0-faa3759978bd"
      },
      "source": [
        "(1, 2, 3) > (3, 2)"
      ],
      "execution_count": 33,
      "outputs": [
        {
          "output_type": "execute_result",
          "data": {
            "text/plain": [
              "False"
            ]
          },
          "metadata": {
            "tags": []
          },
          "execution_count": 33
        }
      ]
    },
    {
      "cell_type": "code",
      "metadata": {
        "id": "d-bSrBFR5acD",
        "colab_type": "code",
        "colab": {
          "base_uri": "https://localhost:8080/",
          "height": 101
        },
        "outputId": "10ec5097-f202-4438-9769-b8a57e3c3c8d"
      },
      "source": [
        "x = print()\n",
        "print(x)\n",
        "y = \"\"\n",
        "print(x == y)\n",
        "print(type(x))\n",
        "print(type(y))"
      ],
      "execution_count": 35,
      "outputs": [
        {
          "output_type": "stream",
          "text": [
            "\n",
            "None\n",
            "False\n",
            "<class 'NoneType'>\n",
            "<class 'str'>\n"
          ],
          "name": "stdout"
        }
      ]
    },
    {
      "cell_type": "code",
      "metadata": {
        "id": "Vf8obG-d5f3s",
        "colab_type": "code",
        "colab": {
          "base_uri": "https://localhost:8080/",
          "height": 34
        },
        "outputId": "d01dbe37-390e-49f7-c5e7-97d70895a5fe"
      },
      "source": [
        "mybag = {}\n",
        "mybag['nbooks'] = 1\n",
        "mybag['pen'] = 5\n",
        "mybag['laptop'] = True\n",
        "mybag['nbooks']\n",
        "if 'laptop' in mybag: print(\"Bingo\")\n",
        "else: \n",
        "    print(\"Sorry\")"
      ],
      "execution_count": 36,
      "outputs": [
        {
          "output_type": "stream",
          "text": [
            "Bingo\n"
          ],
          "name": "stdout"
        }
      ]
    }
  ]
}