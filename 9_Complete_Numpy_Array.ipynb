{
  "nbformat": 4,
  "nbformat_minor": 0,
  "metadata": {
    "colab": {
      "name": "Untitled6.ipynb",
      "provenance": [],
      "authorship_tag": "ABX9TyM5MR3KnvHADDLZ51cz/EAo",
      "include_colab_link": true
    },
    "kernelspec": {
      "name": "python3",
      "display_name": "Python 3"
    }
  },
  "cells": [
    {
      "cell_type": "markdown",
      "metadata": {
        "id": "view-in-github",
        "colab_type": "text"
      },
      "source": [
        "<a href=\"https://colab.research.google.com/github/anubhavgupta1/Foundations-of-Python/blob/master/9_Complete_Numpy_Array.ipynb\" target=\"_parent\"><img src=\"https://colab.research.google.com/assets/colab-badge.svg\" alt=\"Open In Colab\"/></a>"
      ]
    },
    {
      "cell_type": "code",
      "metadata": {
        "id": "3QU_8Dge7hp3",
        "colab_type": "code",
        "colab": {}
      },
      "source": [
        "import numpy as np\n",
        "from matplotlib import pyplot as plt\n",
        "from sklearn.datasets import load_sample_image"
      ],
      "execution_count": 1,
      "outputs": []
    },
    {
      "cell_type": "code",
      "metadata": {
        "id": "V3foRYJ0wxG8",
        "colab_type": "code",
        "colab": {}
      },
      "source": [
        "#Creating Numpy array by passing a Python list\n",
        "sample_list = [1,2,3]\n",
        "list_array = np.array(sample_list)"
      ],
      "execution_count": 2,
      "outputs": []
    },
    {
      "cell_type": "code",
      "metadata": {
        "id": "qY4wv_Pvw2kl",
        "colab_type": "code",
        "colab": {}
      },
      "source": [
        "#Creating Numpy array by passing a Python tuple\n",
        "tup = (1,2,3)\n",
        "my_tup_array = np.array(tup)"
      ],
      "execution_count": 3,
      "outputs": []
    },
    {
      "cell_type": "code",
      "metadata": {
        "id": "PJYrrDzQxBP3",
        "colab_type": "code",
        "colab": {
          "base_uri": "https://localhost:8080/",
          "height": 67
        },
        "outputId": "bbfd7955-7443-4e4a-c723-0ec498b4e77f"
      },
      "source": [
        "#Time comparison of a NumPy operation and a corresponding Python code\n",
        "def multiply_loops(A, B):\n",
        "  c=np.zeros((A.shape[0], B.shape[1]))\n",
        "  for i in range(A.shape[0]):\n",
        "    for k in range(B.shape[1]):\n",
        "      c[i,k] = 0\n",
        "      for j in range(B.shape[0]):\n",
        "        n = A[i,j] * B[j,k]\n",
        "        c[i,k] += n\n",
        "  return c\n",
        "def multiply_vector(A, B):\n",
        "     return A @ B\n",
        "X = np.random.random((100, 100))\n",
        "Y = np.random.random((100, 100))\n",
        "%timeit multiply_loops(X, Y)\n",
        "%timeit multiply_vector(X, Y)"
      ],
      "execution_count": 4,
      "outputs": [
        {
          "output_type": "stream",
          "text": [
            "1 loop, best of 3: 778 ms per loop\n",
            "The slowest run took 80.72 times longer than the fastest. This could mean that an intermediate result is being cached.\n",
            "10000 loops, best of 3: 101 µs per loop\n"
          ],
          "name": "stdout"
        }
      ]
    },
    {
      "cell_type": "markdown",
      "metadata": {
        "id": "mbQ5p0Pb07dV",
        "colab_type": "text"
      },
      "source": [
        "#NumPy - Arrays - Special Types of Arrays - Array filled with specific value\n",
        "1. NumPy array with all its elements values as zero (using zeros() function of NumPy)\n",
        "2. NumPy array with all its elements values as one (using ones() function of NumPy)\n",
        "3. NumPy array with all its elements values as a specific given value (using full() function of NumPy)\n",
        "4. Identity matrix or array"
      ]
    },
    {
      "cell_type": "code",
      "metadata": {
        "id": "t_tmUoWNxQeH",
        "colab_type": "code",
        "colab": {
          "base_uri": "https://localhost:8080/",
          "height": 67
        },
        "outputId": "dddd2ed6-65b6-4698-cc60-da88f48f256d"
      },
      "source": [
        "#Creating NumPy array with all its elements values as zero (using zeros() function of NumPy)\n",
        "tup_dim = (3,4)\n",
        "my_zeros_array = np.zeros(tup_dim, dtype=np.int16)\n",
        "my_zeros_array\n"
      ],
      "execution_count": 5,
      "outputs": [
        {
          "output_type": "execute_result",
          "data": {
            "text/plain": [
              "array([[0, 0, 0, 0],\n",
              "       [0, 0, 0, 0],\n",
              "       [0, 0, 0, 0]], dtype=int16)"
            ]
          },
          "metadata": {
            "tags": []
          },
          "execution_count": 5
        }
      ]
    },
    {
      "cell_type": "code",
      "metadata": {
        "id": "SYeK3xntxeg8",
        "colab_type": "code",
        "colab": {
          "base_uri": "https://localhost:8080/",
          "height": 67
        },
        "outputId": "f9f24e5a-39cf-49d1-fa08-57778951c2e4"
      },
      "source": [
        "#Creating NumPy array with all its elements values as one (using ones() function of NumPy)\n",
        "my_ones_array = np.ones(tup_dim, dtype=np.int16)\n",
        "my_ones_array"
      ],
      "execution_count": 6,
      "outputs": [
        {
          "output_type": "execute_result",
          "data": {
            "text/plain": [
              "array([[1, 1, 1, 1],\n",
              "       [1, 1, 1, 1],\n",
              "       [1, 1, 1, 1]], dtype=int16)"
            ]
          },
          "metadata": {
            "tags": []
          },
          "execution_count": 6
        }
      ]
    },
    {
      "cell_type": "code",
      "metadata": {
        "id": "pIzVJ676xkDb",
        "colab_type": "code",
        "colab": {
          "base_uri": "https://localhost:8080/",
          "height": 67
        },
        "outputId": "a75ace8e-65f9-444d-d0fe-1c2410d13ba6"
      },
      "source": [
        "#Creating NumPy array with all its elements values as a specific given value (using full() function of NumPy)\n",
        "my_seven_array = np.full(tup_dim, 7, dtype=np.int16)\n",
        "my_seven_array"
      ],
      "execution_count": 7,
      "outputs": [
        {
          "output_type": "execute_result",
          "data": {
            "text/plain": [
              "array([[7, 7, 7, 7],\n",
              "       [7, 7, 7, 7],\n",
              "       [7, 7, 7, 7]], dtype=int16)"
            ]
          },
          "metadata": {
            "tags": []
          },
          "execution_count": 7
        }
      ]
    },
    {
      "cell_type": "code",
      "metadata": {
        "id": "3yAvcJElxplA",
        "colab_type": "code",
        "colab": {
          "base_uri": "https://localhost:8080/",
          "height": 84
        },
        "outputId": "84b66709-3227-4310-8c47-2e8686aaaa25"
      },
      "source": [
        "#Creating Identity matrix or array\n",
        "my_identity_array = np.identity(4, dtype=np.float64)\n",
        "my_identity_array"
      ],
      "execution_count": 8,
      "outputs": [
        {
          "output_type": "execute_result",
          "data": {
            "text/plain": [
              "array([[1., 0., 0., 0.],\n",
              "       [0., 1., 0., 0.],\n",
              "       [0., 0., 1., 0.],\n",
              "       [0., 0., 0., 1.]])"
            ]
          },
          "metadata": {
            "tags": []
          },
          "execution_count": 8
        }
      ]
    },
    {
      "cell_type": "markdown",
      "metadata": {
        "id": "_d9Q0bRq1PzS",
        "colab_type": "text"
      },
      "source": [
        "#Numpy - Arrays - Special Types of Arrays - Array with Random Values\n",
        "1. NumPy array with all its elements values as random values (using random.rand() function of NumPy)\n",
        "2. NumPy array with all its elements values as uninitialized values (initialized with some random values which you are not aware of - using empty() function of NumPy)"
      ]
    },
    {
      "cell_type": "code",
      "metadata": {
        "id": "zLZMniuCx_4J",
        "colab_type": "code",
        "colab": {
          "base_uri": "https://localhost:8080/",
          "height": 67
        },
        "outputId": "07c36418-135d-424e-a874-757fb8bbcd54"
      },
      "source": [
        "#Creating a random array using np.random.rand()\n",
        "my_rand_array = np.random.rand(3,4)\n",
        "print(my_rand_array)"
      ],
      "execution_count": 9,
      "outputs": [
        {
          "output_type": "stream",
          "text": [
            "[[0.73779856 0.73518215 0.68424951 0.95890389]\n",
            " [0.44599243 0.52769485 0.22464031 0.33336757]\n",
            " [0.05236978 0.85007567 0.48453663 0.26251505]]\n"
          ],
          "name": "stdout"
        }
      ]
    },
    {
      "cell_type": "code",
      "metadata": {
        "id": "r1eDW-jxyGQW",
        "colab_type": "code",
        "colab": {
          "base_uri": "https://localhost:8080/",
          "height": 67
        },
        "outputId": "88475d75-3289-41ca-d8d9-12607988822a"
      },
      "source": [
        "#Creating an array with uninitialized values using empty()\n",
        "tup_dim = (3,4)\n",
        "my_uninitialized_array = np.empty(tup_dim)\n",
        "print(my_uninitialized_array)"
      ],
      "execution_count": 10,
      "outputs": [
        {
          "output_type": "stream",
          "text": [
            "[[0.73779856 0.73518215 0.68424951 0.95890389]\n",
            " [0.44599243 0.52769485 0.22464031 0.33336757]\n",
            " [0.05236978 0.85007567 0.48453663 0.26251505]]\n"
          ],
          "name": "stdout"
        }
      ]
    },
    {
      "cell_type": "markdown",
      "metadata": {
        "id": "5TxyWLFk1h_z",
        "colab_type": "text"
      },
      "source": [
        "#Numpy - Arrays - Special Types of Arrays - Array with values within a particular range\n",
        "1. By passing a range of values (using arange() function of NumPy)\n",
        "2. By passing an equally spaced range of values (using linspace() function of NumPy)"
      ]
    },
    {
      "cell_type": "code",
      "metadata": {
        "id": "UPNsd4U-yN1B",
        "colab_type": "code",
        "colab": {
          "base_uri": "https://localhost:8080/",
          "height": 34
        },
        "outputId": "d638957b-38e9-4d95-843b-33ccd5a470c8"
      },
      "source": [
        "#To create an array using arange()\n",
        "#Suppose you want to create a NumPy array whose values should lie between 10 and 30 and the values should have a gap of the value of 5\n",
        "\n",
        "my_range_array = np.arange(10, 30, 5)\n",
        "print(my_range_array)\n",
        "\n",
        "#The above NumPy array my_range_array will be filled with values between 10 and 30 (excluding 30) having a gap of the value of 5 between the consecutive values."
      ],
      "execution_count": 11,
      "outputs": [
        {
          "output_type": "stream",
          "text": [
            "[10 15 20 25]\n"
          ],
          "name": "stdout"
        }
      ]
    },
    {
      "cell_type": "code",
      "metadata": {
        "id": "GvNU2wj-yY5-",
        "colab_type": "code",
        "colab": {
          "base_uri": "https://localhost:8080/",
          "height": 34
        },
        "outputId": "2dc55243-83f8-42bb-a314-5d3ec4b08a38"
      },
      "source": [
        "#Creating a NumPy array by passing an equally spaced range of values (using linspace() function of NumPy)\n",
        "#Suppose you want to create a NumPy array whose values should lie between 0 and 5/3 \n",
        "#and the consecutive values should have an equal amount of gap between them (equally spaced values).\n",
        "\n",
        "my_spaced_array = np.linspace(0, 5/3, 6)\n",
        "print(my_spaced_array)\n",
        "\n",
        "#The above NumPy array my_spaced_array will have total of 6 values with values ranging between 0 and 5/3 (including 5/3) \n",
        "#and having an equal amount of gap between the consecutive values."
      ],
      "execution_count": 12,
      "outputs": [
        {
          "output_type": "stream",
          "text": [
            "[0.         0.33333333 0.66666667 1.         1.33333333 1.66666667]\n"
          ],
          "name": "stdout"
        }
      ]
    },
    {
      "cell_type": "markdown",
      "metadata": {
        "id": "M9pAqzUN0Bdk",
        "colab_type": "text"
      },
      "source": [
        "#NumPy - Arrays - Attributes of a NumPy Array"
      ]
    },
    {
      "cell_type": "code",
      "metadata": {
        "id": "RAQSKZQsylvq",
        "colab_type": "code",
        "colab": {}
      },
      "source": [
        "my_array = np.array([ [1, 4, 5, 6], [7, 8, 9, 10], [11, 12, 14, 16] ])"
      ],
      "execution_count": 13,
      "outputs": []
    },
    {
      "cell_type": "code",
      "metadata": {
        "id": "0YkSEQjCy84N",
        "colab_type": "code",
        "colab": {}
      },
      "source": [
        "# ndarray.ndim\n",
        "#ndim represents the number of dimensions (axes) of the ndarray.\n",
        "#e.g. for this 2-dimensional array [ [3,4,6], [0,8,1]], value of ndim will be 2. \n",
        "#This ndarray has two dimensions (axes) "
      ],
      "execution_count": 14,
      "outputs": []
    },
    {
      "cell_type": "code",
      "metadata": {
        "id": "Xc77Ox3ey_vN",
        "colab_type": "code",
        "colab": {}
      },
      "source": [
        "#ndarray.shape\n",
        "#shape is a tuple of integers representing the size of the ndarray in each dimension.\n",
        "#e.g. for this 2-dimensional array [ [3,4,6], [0,8,1]], value of shape will be (2,3) \n",
        "#because this ndarray has two dimensions - rows and columns - and the number of rows is 2 and the number of columns is 3"
      ],
      "execution_count": 15,
      "outputs": []
    },
    {
      "cell_type": "code",
      "metadata": {
        "id": "tjbfAtgmzPJq",
        "colab_type": "code",
        "colab": {}
      },
      "source": [
        "#ndarray.size\n",
        "#size is the total number of elements in the ndarray. It is equal to the product of elements of the shape. \n",
        "#e.g. for this 2-dimensional array [ [3,4,6], [0,8,1]], shape is (2,3), \n",
        "#size will be product (multiplication) of 2 and 3 i.e. (2*3) = 6. Hence, the size is 6."
      ],
      "execution_count": 16,
      "outputs": []
    },
    {
      "cell_type": "code",
      "metadata": {
        "id": "VDcynp2KzZZx",
        "colab_type": "code",
        "colab": {}
      },
      "source": [
        "#ndarray.dtype\n",
        "#dtype tells the data type of the elements of a NumPy array. \n",
        "#In NumPy array, all the elements have the same data type.\n",
        "#e.g. for this NumPy array [ [3,4,6], [0,8,1]], dtype will be int64"
      ],
      "execution_count": 17,
      "outputs": []
    },
    {
      "cell_type": "code",
      "metadata": {
        "id": "693SFuNHzjac",
        "colab_type": "code",
        "colab": {}
      },
      "source": [
        "#ndarray.itemsize\n",
        "#itemsize returns the size (in bytes) of each element of a NumPy array.\n",
        "#e.g. for this NumPy array [ [3,4,6], [0,8,1]], itemsize will be 8, \n",
        "#because this array consists of integers and size of integer (in bytes) is 8 bytes."
      ],
      "execution_count": 18,
      "outputs": []
    },
    {
      "cell_type": "code",
      "metadata": {
        "id": "M4_frv9m0Hpj",
        "colab_type": "code",
        "colab": {
          "base_uri": "https://localhost:8080/",
          "height": 101
        },
        "outputId": "97b091fd-82f3-435b-f198-88219fb0261c"
      },
      "source": [
        "print(my_array.ndim)\n",
        "print(my_array.shape)\n",
        "print(my_array.size)\n",
        "print(my_array.dtype)\n",
        "print(my_array.itemsize)"
      ],
      "execution_count": 19,
      "outputs": [
        {
          "output_type": "stream",
          "text": [
            "2\n",
            "(3, 4)\n",
            "12\n",
            "int64\n",
            "8\n"
          ],
          "name": "stdout"
        }
      ]
    },
    {
      "cell_type": "markdown",
      "metadata": {
        "id": "9TQw4JKn3jf5",
        "colab_type": "text"
      },
      "source": [
        "#NumPy - Arrays - Resizing an Array : Resize()\n",
        "* resize() function is used to create a new array of different sizes and dimensions.\n",
        "\n",
        "* resize() can create an array of larger size than the original array.\n",
        "\n",
        "1. To convert the original array into a bigger array, resize() will add more elements (than available in the original array) by copying the existing elements (repeated as many times as required) to fill the desired larger size."
      ]
    },
    {
      "cell_type": "code",
      "metadata": {
        "id": "m4-illwt3iuP",
        "colab_type": "code",
        "colab": {
          "base_uri": "https://localhost:8080/",
          "height": 84
        },
        "outputId": "511c519d-8fcb-4468-d29f-e52bbe0526e3"
      },
      "source": [
        "my_arr = np.array([ [0,1], [2,3] ])\n",
        "print(my_arr)\n",
        "my_arr.resize( (2, 3) )  # need two rows and one column\n",
        "print(my_arr)"
      ],
      "execution_count": 20,
      "outputs": [
        {
          "output_type": "stream",
          "text": [
            "[[0 1]\n",
            " [2 3]]\n",
            "[[0 1 2]\n",
            " [3 0 0]]\n"
          ],
          "name": "stdout"
        }
      ]
    },
    {
      "cell_type": "markdown",
      "metadata": {
        "id": "cGBTQG4J4ExT",
        "colab_type": "text"
      },
      "source": [
        "#NumPy - Arrays - Reshaping an Array : reshape()\n",
        "* reshape() function is used to create a new array of the same size (as the original array) but of different desired dimensions.\n",
        "* reshape() function will create an array with the same number of elements as the original array, i.e. of the same size as that of the original array. If you want to convert the original array to a bigger array, reshape() can’t add more elements(than available in the original array) to give you a bigger array."
      ]
    },
    {
      "cell_type": "code",
      "metadata": {
        "id": "LsxfXIqc4XZV",
        "colab_type": "code",
        "colab": {
          "base_uri": "https://localhost:8080/",
          "height": 67
        },
        "outputId": "b41c643e-5416-4371-ff3c-6e1e70a1403e"
      },
      "source": [
        "#Case : 1 We already know the desired number dimensions (say rows and columns) of the reshaped array.\n",
        "my_arr = np.arange(6)\n",
        "print(my_arr)\n",
        "my_new_arr = my_arr.reshape(2,3)\n",
        "print(my_new_arr)"
      ],
      "execution_count": 21,
      "outputs": [
        {
          "output_type": "stream",
          "text": [
            "[0 1 2 3 4 5]\n",
            "[[0 1 2]\n",
            " [3 4 5]]\n"
          ],
          "name": "stdout"
        }
      ]
    },
    {
      "cell_type": "code",
      "metadata": {
        "id": "nlIns_yo4rDZ",
        "colab_type": "code",
        "colab": {
          "base_uri": "https://localhost:8080/",
          "height": 67
        },
        "outputId": "9554ad35-ab11-4951-dc39-ed050c73a4e5"
      },
      "source": [
        "#We know the desired number of columns, but don't know the desired number of rows of the reshaped array.\n",
        "print(my_arr)\n",
        "my_new_arr = my_arr.reshape(-1,3)\n",
        "print(my_new_arr)"
      ],
      "execution_count": 22,
      "outputs": [
        {
          "output_type": "stream",
          "text": [
            "[0 1 2 3 4 5]\n",
            "[[0 1 2]\n",
            " [3 4 5]]\n"
          ],
          "name": "stdout"
        }
      ]
    },
    {
      "cell_type": "code",
      "metadata": {
        "id": "RkC7XUk_442h",
        "colab_type": "code",
        "colab": {}
      },
      "source": [
        "#When you can't use reshape() function?\n",
        "#You can't use reshape() function, when the size of the original array is different from your desired reshaped array. \n",
        "#If you try to reshape(), it will throw an error.\n"
      ],
      "execution_count": 23,
      "outputs": []
    },
    {
      "cell_type": "markdown",
      "metadata": {
        "id": "Yi-f4b-t5JgN",
        "colab_type": "text"
      },
      "source": [
        "#Difference between resize() and reshape() :"
      ]
    },
    {
      "cell_type": "code",
      "metadata": {
        "id": "8QAXNUdn4_Dv",
        "colab_type": "code",
        "colab": {}
      },
      "source": [
        "#reshape() will create an array with the same number of elements as the original array, i.e. of the same ‘size’ as that of the original array. \n",
        "#If you want to convert the original array to a bigger array, \n",
        "#reshape() can’t add more elements(than available in the original array) to give you a bigger array. \n",
        "#Hence, reshape() is used to create a new array of the same size (as the original array) but of different desired dimensions.\n",
        "\n",
        "#resize() can create an array of larger size than the original array. \n",
        "#To convert the original array into a bigger array, \n",
        "#resize() will add more elements (than available in the original array) \n",
        "#by copying the existing elements (repeated as many times as required) to fill the desired larger size. resize() \n",
        "#is used to create a new array of different sizes and dimensions."
      ],
      "execution_count": 24,
      "outputs": []
    },
    {
      "cell_type": "markdown",
      "metadata": {
        "id": "UNJYqA0G5qhu",
        "colab_type": "text"
      },
      "source": [
        "#Numpy - Arrays - Example - Reshaping a complex array"
      ]
    },
    {
      "cell_type": "code",
      "metadata": {
        "id": "fpmUJMYq5sP6",
        "colab_type": "code",
        "colab": {
          "base_uri": "https://localhost:8080/",
          "height": 67
        },
        "outputId": "566e87b4-d013-480b-97bc-cc9c9d26158b"
      },
      "source": [
        "china = load_sample_image(\"china.jpg\")\n",
        "print(china.shape)#to check the shape\n",
        "image = china[150:220, 130:250]\n",
        "print(image.shape)#to check the shape of image\n",
        "height, width, channels = image.shape\n",
        "print(\"height, width, channels : \" + str(height), str(width), str(channels))\n"
      ],
      "execution_count": 25,
      "outputs": [
        {
          "output_type": "stream",
          "text": [
            "(427, 640, 3)\n",
            "(70, 120, 3)\n",
            "height, width, channels : 70 120 3\n"
          ],
          "name": "stdout"
        }
      ]
    },
    {
      "cell_type": "markdown",
      "metadata": {
        "id": "YSIk4B3V6vOu",
        "colab_type": "text"
      },
      "source": [
        "#converting  Colored into Grayscale image \n",
        "1. axis=0 represents the first dimension of an array, i.e. it represents the row\n",
        "2. axis=1 represents the second dimension of an array, i.e. it represents the column\n",
        "3. axis=2 represents the third dimension of an array, in this case, the third dimension is channels. "
      ]
    },
    {
      "cell_type": "code",
      "metadata": {
        "id": "ezmfj5iI6Kuo",
        "colab_type": "code",
        "colab": {
          "base_uri": "https://localhost:8080/",
          "height": 50
        },
        "outputId": "569a81f0-f804-4146-fcb0-a9fac68c5ebd"
      },
      "source": [
        "#channels (axis=2) has 3 values (e.g. [68, 39, 44] ), and, mean of these 3 values is 50.33 \n",
        "#Hence, value [68, 39, 44] will be replaced with value 50.33 after the step - image.mean(axis=2)\n",
        "image_grayscale = image.mean(axis=2).astype(np.float32)\n",
        "print(image_grayscale.shape)#to check the shape of gray scale image\n",
        "images = image_grayscale.reshape(1, height, width, 1)\n",
        "print(images.shape)#to check the dimensions of final output"
      ],
      "execution_count": 26,
      "outputs": [
        {
          "output_type": "stream",
          "text": [
            "(70, 120)\n",
            "(1, 70, 120, 1)\n"
          ],
          "name": "stdout"
        }
      ]
    },
    {
      "cell_type": "markdown",
      "metadata": {
        "id": "2aLb6OZ173fp",
        "colab_type": "text"
      },
      "source": [
        "#Numpy - Arrays - Indexing and Array Slicing"
      ]
    },
    {
      "cell_type": "code",
      "metadata": {
        "id": "3xn2T3Gc8HDL",
        "colab_type": "code",
        "colab": {}
      },
      "source": [
        "arr = np.array([1, 10, 31, 2, 18, 9, 22])"
      ],
      "execution_count": 27,
      "outputs": []
    },
    {
      "cell_type": "code",
      "metadata": {
        "id": "ik2Ha8-78NQf",
        "colab_type": "code",
        "colab": {
          "base_uri": "https://localhost:8080/",
          "height": 34
        },
        "outputId": "b6670a6a-13ac-4a12-c84d-cb0cb094f383"
      },
      "source": [
        "#If you want to extract a portion (a few elements) of this NumPy array, then you can use below syntax\n",
        "part_arr = arr[2 : 5]\n",
        "part_arr"
      ],
      "execution_count": 28,
      "outputs": [
        {
          "output_type": "execute_result",
          "data": {
            "text/plain": [
              "array([31,  2, 18])"
            ]
          },
          "metadata": {
            "tags": []
          },
          "execution_count": 28
        }
      ]
    },
    {
      "cell_type": "code",
      "metadata": {
        "id": "3OyQE16c8Zzz",
        "colab_type": "code",
        "colab": {
          "base_uri": "https://localhost:8080/",
          "height": 34
        },
        "outputId": "4346a6e3-1a0e-477b-8412-7d09ace2f4f9"
      },
      "source": [
        "#If you want to extract a portion of the array, but by a gap of say 2 elements, then you can do so by using the below syntax\n",
        "skip_arr = arr[1: :2]\n",
        "skip_arr"
      ],
      "execution_count": 29,
      "outputs": [
        {
          "output_type": "execute_result",
          "data": {
            "text/plain": [
              "array([10,  2,  9])"
            ]
          },
          "metadata": {
            "tags": []
          },
          "execution_count": 29
        }
      ]
    },
    {
      "cell_type": "code",
      "metadata": {
        "id": "q-GreRdb8jZg",
        "colab_type": "code",
        "colab": {
          "base_uri": "https://localhost:8080/",
          "height": 34
        },
        "outputId": "c12fdfc8-43e6-498e-b9de-c0ab7237c1f2"
      },
      "source": [
        "#Reversing of an array elements\n",
        "my_orig_arr = np.array([1, 15, 3, 9, 26, 7, 89, 12])\n",
        "my_rev_arr = my_orig_arr[ : : -1]\n",
        "my_rev_arr"
      ],
      "execution_count": 30,
      "outputs": [
        {
          "output_type": "execute_result",
          "data": {
            "text/plain": [
              "array([12, 89,  7, 26,  9,  3, 15,  1])"
            ]
          },
          "metadata": {
            "tags": []
          },
          "execution_count": 30
        }
      ]
    },
    {
      "cell_type": "code",
      "metadata": {
        "id": "rQjpFOz887Fp",
        "colab_type": "code",
        "colab": {
          "base_uri": "https://localhost:8080/",
          "height": 34
        },
        "outputId": "5573e7af-e8fb-4c97-b752-e6469ac7b3b1"
      },
      "source": [
        "#Replacing selected elements of a NumPy array by a specific value\n",
        "my_orig_arr2 = np.array([2, 9, 17, 13, 1, 4, 20, 57])\n",
        "#Say, you want to replace a few elements (say from index 2 to 5) of the above NumPy array my_orig_arr2 by a value -6, you can do so by following the below steps:\n",
        "my_orig_arr2[2 : 5] = -6\n",
        "my_orig_arr2\n",
        "#Please remember that this is only possible in a NumPy array, if you try to do this with a normal Python array, you will get an error."
      ],
      "execution_count": 31,
      "outputs": [
        {
          "output_type": "execute_result",
          "data": {
            "text/plain": [
              "array([ 2,  9, -6, -6, -6,  4, 20, 57])"
            ]
          },
          "metadata": {
            "tags": []
          },
          "execution_count": 31
        }
      ]
    },
    {
      "cell_type": "code",
      "metadata": {
        "id": "NFOfUwiZ9kAz",
        "colab_type": "code",
        "colab": {
          "base_uri": "https://localhost:8080/",
          "height": 84
        },
        "outputId": "267a98b1-acc3-4fa1-d595-88393308a23a"
      },
      "source": [
        "#Extracting a slice(portion) of a NumPy array\n",
        "apple = np.array([1,8,23,3,18,91,7,15])\n",
        "apple_slice = apple[1:4]\n",
        "print(apple_slice)\n",
        "print(apple)\n",
        "#If you change (replace) value in this slice (apple_slice array), the corresponding value will also get modified in its parent array apple.\n",
        "apple_slice[1] = 99999\n",
        "print(apple_slice)\n",
        "print(apple)\n",
        "#Original (parent) array from which the slice was extracted also gets modified if the slice value is modified."
      ],
      "execution_count": 32,
      "outputs": [
        {
          "output_type": "stream",
          "text": [
            "[ 8 23  3]\n",
            "[ 1  8 23  3 18 91  7 15]\n",
            "[    8 99999     3]\n",
            "[    1     8 99999     3    18    91     7    15]\n"
          ],
          "name": "stdout"
        }
      ]
    },
    {
      "cell_type": "code",
      "metadata": {
        "id": "qosABf9B-c3c",
        "colab_type": "code",
        "colab": {
          "base_uri": "https://localhost:8080/",
          "height": 50
        },
        "outputId": "405cf589-67e4-47a0-a5e8-fb9c8ffcee6f"
      },
      "source": [
        "#If you don't want original (parent) array values to get modified when its slice values are changing, \n",
        "#you can create the slice by using a copy() function in the slicing code syntax\n",
        "apple_slice_new = apple[2:5].copy()\n",
        "apple_slice_new[1] = 222222\n",
        "print(apple_slice_new)\n",
        "print(apple)"
      ],
      "execution_count": 33,
      "outputs": [
        {
          "output_type": "stream",
          "text": [
            "[ 99999 222222     18]\n",
            "[    1     8 99999     3    18    91     7    15]\n"
          ],
          "name": "stdout"
        }
      ]
    },
    {
      "cell_type": "markdown",
      "metadata": {
        "id": "-VDYqdCI-1Bd",
        "colab_type": "text"
      },
      "source": [
        "#Numpy - Arrays - Example - Extracting a portion of an image using array slicing"
      ]
    },
    {
      "cell_type": "code",
      "metadata": {
        "id": "NQRr-Lev-2_U",
        "colab_type": "code",
        "colab": {
          "base_uri": "https://localhost:8080/",
          "height": 34
        },
        "outputId": "86673b3f-327f-4c5d-ec8f-8e04e64af588"
      },
      "source": [
        "china = load_sample_image(\"china.jpg\")\n",
        "portion = china[120:250, 110:230]\n",
        "print(portion.shape)"
      ],
      "execution_count": 34,
      "outputs": [
        {
          "output_type": "stream",
          "text": [
            "(130, 120, 3)\n"
          ],
          "name": "stdout"
        }
      ]
    },
    {
      "cell_type": "markdown",
      "metadata": {
        "id": "TZGn9RmM_CmV",
        "colab_type": "text"
      },
      "source": [
        "#Numpy - Arrays - Multi-Dimensional Arrays\n",
        "1. multi_arr[1, 2]      -  to access value at row 1 and column 2\n",
        "2. multi_arr[1, :]      -  to access value at row 1 and all columns\n",
        "3. multi_arr[:, 1]      -  to access value at all rows and column 1\n",
        "4. multi_arr[3:7, 2:10] - to access values at row numbers from 3 to 7 (row index 3 to 6) and at column numbers from 2 to 10 (column index 2 to 9)\n",
        "* array[ row_start_index : row_end_index, column_start_index : column_end_index]\n"
      ]
    },
    {
      "cell_type": "code",
      "metadata": {
        "id": "M0VnvKTZ_EBA",
        "colab_type": "code",
        "colab": {
          "base_uri": "https://localhost:8080/",
          "height": 50
        },
        "outputId": "c1cd3a50-14d3-4e3a-b07a-973d92d9f31d"
      },
      "source": [
        "my_multi_arr = np.arange(20).reshape(4,5)\n",
        "my_multi_arr_portion = my_multi_arr[2:4, 2:5]\n",
        "print(my_multi_arr_portion)"
      ],
      "execution_count": 35,
      "outputs": [
        {
          "output_type": "stream",
          "text": [
            "[[12 13 14]\n",
            " [17 18 19]]\n"
          ],
          "name": "stdout"
        }
      ]
    },
    {
      "cell_type": "markdown",
      "metadata": {
        "id": "3m4IVtDOCmSx",
        "colab_type": "text"
      },
      "source": [
        "#Numpy - Arrays - Boolean Indexing"
      ]
    },
    {
      "cell_type": "code",
      "metadata": {
        "id": "b9rMRw2vC1uR",
        "colab_type": "code",
        "colab": {
          "base_uri": "https://localhost:8080/",
          "height": 118
        },
        "outputId": "a8a50edd-3c44-49c8-e62c-61b36a538fdd"
      },
      "source": [
        "multi_arr = np.arange(12).reshape(3,4)\n",
        "rows_wanted = np.array( [True, False, True] )\n",
        "multi_arr_portion = multi_arr[rows_wanted, : ]\n",
        "print(multi_arr)\n",
        "print(rows_wanted)\n",
        "print(multi_arr_portion)"
      ],
      "execution_count": 36,
      "outputs": [
        {
          "output_type": "stream",
          "text": [
            "[[ 0  1  2  3]\n",
            " [ 4  5  6  7]\n",
            " [ 8  9 10 11]]\n",
            "[ True False  True]\n",
            "[[ 0  1  2  3]\n",
            " [ 8  9 10 11]]\n"
          ],
          "name": "stdout"
        }
      ]
    },
    {
      "cell_type": "markdown",
      "metadata": {
        "id": "Ou2ppbxVDXbY",
        "colab_type": "text"
      },
      "source": [
        "#Numpy - Flattening a NumPy Array (converting to 1-D array) using ravel() function"
      ]
    },
    {
      "cell_type": "code",
      "metadata": {
        "id": "FbkPl9tIDZFR",
        "colab_type": "code",
        "colab": {
          "base_uri": "https://localhost:8080/",
          "height": 34
        },
        "outputId": "d9817b80-004c-44c4-a146-afce51621c8c"
      },
      "source": [
        "my_2d_arr = np.arange(20).reshape(4,5)\n",
        "my_1d_arr = my_2d_arr.ravel()\n",
        "print(my_1d_arr)"
      ],
      "execution_count": 37,
      "outputs": [
        {
          "output_type": "stream",
          "text": [
            "[ 0  1  2  3  4  5  6  7  8  9 10 11 12 13 14 15 16 17 18 19]\n"
          ],
          "name": "stdout"
        }
      ]
    },
    {
      "cell_type": "markdown",
      "metadata": {
        "id": "fpS_ySV5DtiQ",
        "colab_type": "text"
      },
      "source": [
        "#Numpy - Mathematical Operations on NumPy Arrays"
      ]
    },
    {
      "cell_type": "code",
      "metadata": {
        "id": "bqD9Ut_UDkdK",
        "colab_type": "code",
        "colab": {
          "base_uri": "https://localhost:8080/",
          "height": 269
        },
        "outputId": "ed3c278e-fa22-4833-fc50-e71b408c0338"
      },
      "source": [
        "a_arr = np.array([60,70,80,90])\n",
        "b_arr = np.arange(4)\n",
        "c_arr = a_arr + b_arr #Addition element-wise\n",
        "print(c_arr)\n",
        "\n",
        "d_arr = np.array([60,70,80,90])\n",
        "e_arr = np.arange(4)\n",
        "f_arr = d_arr - e_arr #Subtraction element-wise\n",
        "print(f_arr)\n",
        "\n",
        "A_arr = np.array([ [ 5,9], [4, 7] ])\n",
        "B_arr = np.array( [ [2, 8], [1, 6] ] )\n",
        "M_arr = A_arr * B_arr #Multiplication element wise\n",
        "print(M_arr)\n",
        "\n",
        "C_arr = np.array([ [ 5,9], [4, 7] ])\n",
        "D_arr = np.array( [ [2, 8], [1, 6] ] )\n",
        "P_arr = np.dot(C_arr, D_arr)#Dot Product\n",
        "print(P_arr)\n",
        "\n",
        "#Division\n",
        "R_div = np.array([ [25,65], [40,14] ])\n",
        "S_div = np.array([ [2,10], [4,5] ])\n",
        "T_div = R_div / S_div\n",
        "print(T_div)\n",
        "\n",
        "\n",
        "#Integer division\n",
        "R_int_div = np.array([ [ 25,65], [40, 70] ])\n",
        "S_int_div = np.array([ [2, 10], [8, 3] ] )\n",
        "T_int_div = R_int_div // S_int_div\n",
        "print(T_int_div)\n",
        "\n",
        "\n",
        "#Modulus\n",
        "R_mod = np.array([ [ 20,65], [40, 70] ])\n",
        "S_mod = np.array([ [2, 10], [8, 3] ] )\n",
        "T_mod = R_mod % S_mod\n",
        "print(T_mod)\n",
        "\n",
        "\n",
        "#Exponents\n",
        "R_exp = np.array([ [4,2], [3,4] ])\n",
        "S_exp = np.array([ [2,10], [4,5] ])\n",
        "T_exp = R_exp ** S_exp\n",
        "print(T_exp)\n",
        "\n",
        "\n",
        "#Conditional Operators\n",
        "U = np.array([ [22,45], [90,4]])\n",
        "print(U[U<45])"
      ],
      "execution_count": 38,
      "outputs": [
        {
          "output_type": "stream",
          "text": [
            "[60 71 82 93]\n",
            "[60 69 78 87]\n",
            "[[10 72]\n",
            " [ 4 42]]\n",
            "[[19 94]\n",
            " [15 74]]\n",
            "[[12.5  6.5]\n",
            " [10.   2.8]]\n",
            "[[12  6]\n",
            " [ 5 23]]\n",
            "[[0 5]\n",
            " [0 1]]\n",
            "[[  16 1024]\n",
            " [  81 1024]]\n",
            "[22  4]\n"
          ],
          "name": "stdout"
        }
      ]
    },
    {
      "cell_type": "markdown",
      "metadata": {
        "id": "_IT21HqnErp_",
        "colab_type": "text"
      },
      "source": [
        "#Numpy - Mathematical and Statistical functions on NumPy Arrays"
      ]
    },
    {
      "cell_type": "code",
      "metadata": {
        "id": "tWWKClSNEvZk",
        "colab_type": "code",
        "colab": {
          "base_uri": "https://localhost:8080/",
          "height": 134
        },
        "outputId": "b9996290-4732-46c9-eef8-3532df331712"
      },
      "source": [
        "X = np.array( [ [-2.5, 3.1, 7],\n",
        "                [10, 11, 12] ] )\n",
        "#mean\n",
        "print(\"mean = \", X.mean())\n",
        "\n",
        "#Variance\n",
        "print(\"Variance = \", X.var())\n",
        "\n",
        "#standard deviation\n",
        "print(\"Standard Deviation = \", X.std())\n",
        "\n",
        "#minimum\n",
        "print(\"min = \", X.min())\n",
        "\n",
        "#maximum\n",
        "print(\"max = \", X.max())\n",
        "\n",
        "#sum\n",
        "print(\"sum = \", X.sum())\n",
        "\n",
        "#product\n",
        "print(\"product = \", X.prod())"
      ],
      "execution_count": 39,
      "outputs": [
        {
          "output_type": "stream",
          "text": [
            "mean =  6.766666666666667\n",
            "Variance =  25.855555555555554\n",
            "Standard Deviation =  5.084835843520964\n",
            "min =  -2.5\n",
            "max =  12.0\n",
            "sum =  40.6\n",
            "product =  -71610.0\n"
          ],
          "name": "stdout"
        }
      ]
    },
    {
      "cell_type": "markdown",
      "metadata": {
        "id": "cHR8UigyFgdv",
        "colab_type": "text"
      },
      "source": [
        "#Numpy - Mathematical and Statistical functions on NumPy Arrays - Sum(across axes)"
      ]
    },
    {
      "cell_type": "code",
      "metadata": {
        "id": "RYgCcBEqFz9g",
        "colab_type": "code",
        "colab": {
          "base_uri": "https://localhost:8080/",
          "height": 134
        },
        "outputId": "b695622c-c3c2-47ad-b054-fb21807c99f5"
      },
      "source": [
        "Y = np.arange(24).reshape(2,3,4)\n",
        "print(Y)\n"
      ],
      "execution_count": 40,
      "outputs": [
        {
          "output_type": "stream",
          "text": [
            "[[[ 0  1  2  3]\n",
            "  [ 4  5  6  7]\n",
            "  [ 8  9 10 11]]\n",
            "\n",
            " [[12 13 14 15]\n",
            "  [16 17 18 19]\n",
            "  [20 21 22 23]]]\n"
          ],
          "name": "stdout"
        }
      ]
    },
    {
      "cell_type": "code",
      "metadata": {
        "id": "d06OdfBOGg7Y",
        "colab_type": "code",
        "colab": {
          "base_uri": "https://localhost:8080/",
          "height": 67
        },
        "outputId": "53fd48f4-278c-46f5-97ba-49776ec8fb71"
      },
      "source": [
        "# sum of these two matrices (element-wise)\n",
        "print(Y.sum(axis=0))\n"
      ],
      "execution_count": 41,
      "outputs": [
        {
          "output_type": "stream",
          "text": [
            "[[12 14 16 18]\n",
            " [20 22 24 26]\n",
            " [28 30 32 34]]\n"
          ],
          "name": "stdout"
        }
      ]
    },
    {
      "cell_type": "code",
      "metadata": {
        "id": "gqnvO_ytGj1g",
        "colab_type": "code",
        "colab": {
          "base_uri": "https://localhost:8080/",
          "height": 50
        },
        "outputId": "90ce99c1-5b65-4d7c-995f-75ff9cc47054"
      },
      "source": [
        "# the sum of the (along the) rows of the two matrices (element-wise)\n",
        "print(Y.sum(axis=1))\n"
      ],
      "execution_count": 42,
      "outputs": [
        {
          "output_type": "stream",
          "text": [
            "[[12 15 18 21]\n",
            " [48 51 54 57]]\n"
          ],
          "name": "stdout"
        }
      ]
    },
    {
      "cell_type": "code",
      "metadata": {
        "id": "-L1H7JZcGmak",
        "colab_type": "code",
        "colab": {
          "base_uri": "https://localhost:8080/",
          "height": 50
        },
        "outputId": "cac5e774-81bd-4797-9e3a-6c11247c98ef"
      },
      "source": [
        "#means the sum of the (along with the) columns of the two matrices (element-wise)\n",
        "print(Y.sum(axis=2))"
      ],
      "execution_count": 43,
      "outputs": [
        {
          "output_type": "stream",
          "text": [
            "[[ 6 22 38]\n",
            " [54 70 86]]\n"
          ],
          "name": "stdout"
        }
      ]
    },
    {
      "cell_type": "markdown",
      "metadata": {
        "id": "sv8aXHLVIcKk",
        "colab_type": "text"
      },
      "source": [
        "#Numpy - Mathematical and Statistical functions on NumPy Arrays - Transpose"
      ]
    },
    {
      "cell_type": "code",
      "metadata": {
        "id": "QaHa4W2vIeGl",
        "colab_type": "code",
        "colab": {
          "base_uri": "https://localhost:8080/",
          "height": 101
        },
        "outputId": "51535cdd-87b0-4537-f01c-2c607e39c09d"
      },
      "source": [
        "M = np.arange(6).reshape(2, 3)\n",
        "print(M)\n",
        "print(\"Transpose = \", M.T)"
      ],
      "execution_count": 44,
      "outputs": [
        {
          "output_type": "stream",
          "text": [
            "[[0 1 2]\n",
            " [3 4 5]]\n",
            "Transpose =  [[0 3]\n",
            " [1 4]\n",
            " [2 5]]\n"
          ],
          "name": "stdout"
        }
      ]
    },
    {
      "cell_type": "markdown",
      "metadata": {
        "id": "di499FisI5Yy",
        "colab_type": "text"
      },
      "source": [
        "#Numpy - Broadcasting in NumPy Arrays"
      ]
    },
    {
      "cell_type": "code",
      "metadata": {
        "id": "Jd-KjiU-I4J2",
        "colab_type": "code",
        "colab": {}
      },
      "source": [
        "#In any NumPy mathematical operation, if the shape of any of the participating arrays is not sufficient, broadcasting rules come into play.\n",
        "#Broadcasting, generally, tries to adjust the shape of one or both of the arrays to bring them to required matching shape, \n",
        "#by copying the existing elements required number of times, so that the mathematical operation could be performed between the two NumPy arrays. \n",
        "#There are two broadcasting rules:"
      ],
      "execution_count": 45,
      "outputs": []
    },
    {
      "cell_type": "code",
      "metadata": {
        "id": "7zrpLTexKFAZ",
        "colab_type": "code",
        "colab": {
          "base_uri": "https://localhost:8080/",
          "height": 67
        },
        "outputId": "227dc7c7-2352-47a3-ca3c-df7265f15df7"
      },
      "source": [
        "#First Rule: If the arrays do not have the same rank, then a 1 will be prepended to the smaller ranking arrays until their ranks match.\n",
        "Q = np.array( [ [ [1, 3 ] ] ] )\n",
        "P = np.array( [ 5 ] )\n",
        "\n",
        "S = Q + P\n",
        "\n",
        "print(Q)\n",
        "print(P)\n",
        "print(S)"
      ],
      "execution_count": 46,
      "outputs": [
        {
          "output_type": "stream",
          "text": [
            "[[[1 3]]]\n",
            "[5]\n",
            "[[[6 8]]]\n"
          ],
          "name": "stdout"
        }
      ]
    },
    {
      "cell_type": "code",
      "metadata": {
        "id": "Kdc4HjbAKdNy",
        "colab_type": "code",
        "colab": {
          "base_uri": "https://localhost:8080/",
          "height": 134
        },
        "outputId": "8707b32e-55d0-44ec-ef43-9526795440f0"
      },
      "source": [
        "#Second Rule: Arrays with a 1 along with a particular dimension act as if they had the size of the array with the largest shape along that dimension. \n",
        "#The value of the array element is repeated along that dimension.\n",
        "X_broad = np.ones((3,3), dtype=float)\n",
        "print(X_broad)\n",
        "Y_broad = np.arange(3)\n",
        "print(Y_broad)\n",
        "Z_broad = X_broad + Y_broad\n",
        "print(Z_broad)"
      ],
      "execution_count": 47,
      "outputs": [
        {
          "output_type": "stream",
          "text": [
            "[[1. 1. 1.]\n",
            " [1. 1. 1.]\n",
            " [1. 1. 1.]]\n",
            "[0 1 2]\n",
            "[[1. 2. 3.]\n",
            " [1. 2. 3.]\n",
            " [1. 2. 3.]]\n"
          ],
          "name": "stdout"
        }
      ]
    },
    {
      "cell_type": "code",
      "metadata": {
        "id": "zIc2bjfDK0Dj",
        "colab_type": "code",
        "colab": {
          "base_uri": "https://localhost:8080/",
          "height": 134
        },
        "outputId": "62f61888-1ee1-4c27-84ec-c0beefe3533d"
      },
      "source": [
        "X_broad = np.arange(3).reshape((3,1))\n",
        "print(X_broad)\n",
        "Y_broad = np.arange(3)\n",
        "print(Y_broad)\n",
        "Z_broad = X_broad + Y_broad\n",
        "print(Z_broad)"
      ],
      "execution_count": 48,
      "outputs": [
        {
          "output_type": "stream",
          "text": [
            "[[0]\n",
            " [1]\n",
            " [2]]\n",
            "[0 1 2]\n",
            "[[0 1 2]\n",
            " [1 2 3]\n",
            " [2 3 4]]\n"
          ],
          "name": "stdout"
        }
      ]
    }
  ]
}