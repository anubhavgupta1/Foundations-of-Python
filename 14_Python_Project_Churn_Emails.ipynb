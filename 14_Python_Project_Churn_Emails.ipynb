{
  "nbformat": 4,
  "nbformat_minor": 0,
  "metadata": {
    "colab": {
      "name": "13_Python Project - Churn Emails.ipynb",
      "provenance": [],
      "authorship_tag": "ABX9TyPlCmBYtVQ/942w/ZD9is2k",
      "include_colab_link": true
    },
    "kernelspec": {
      "name": "python3",
      "display_name": "Python 3"
    }
  },
  "cells": [
    {
      "cell_type": "markdown",
      "metadata": {
        "id": "view-in-github",
        "colab_type": "text"
      },
      "source": [
        "<a href=\"https://colab.research.google.com/github/anubhavgupta1/Foundations-of-Python/blob/master/13_Python_Project_Churn_Emails.ipynb\" target=\"_parent\"><img src=\"https://colab.research.google.com/assets/colab-badge.svg\" alt=\"Open In Colab\"/></a>"
      ]
    },
    {
      "cell_type": "code",
      "metadata": {
        "id": "kNMnIz-OUwpa",
        "colab_type": "code",
        "colab": {
          "base_uri": "https://localhost:8080/",
          "height": 255
        },
        "outputId": "d4d171f2-5466-4d4f-943e-eaf0a9daa15a"
      },
      "source": [
        "!ls\n",
        "!apt-get install -y -qq software-properties-common python-software-properties module-init-tools\n",
        "!add-apt-repository -y ppa:alessandro-strada/ppa 2>&1 > /dev/null\n",
        "!apt-get update -qq 2>&1 > /dev/null\n",
        "!apt-get -y install -qq google-drive-ocamlfuse fuse\n",
        "from google.colab import auth\n",
        "auth.authenticate_user()\n",
        "from oauth2client.client import GoogleCredentials\n",
        "creds = GoogleCredentials.get_application_default()\n",
        "import getpass\n",
        "!google-drive-ocamlfuse -headless -id={creds.client_id} -secret={creds.client_secret} < /dev/null 2>&1 | grep URL\n",
        "vcode = getpass.getpass()\n",
        "!echo {vcode} | google-drive-ocamlfuse -headless -id={creds.client_id} -secret={creds.client_secret}\n",
        "\n",
        "\n",
        "!mkdir -p drive\n",
        "!google-drive-ocamlfuse drive\n",
        "\n",
        "import os\n",
        "os.chdir(\"drive/import/\")\n",
        "!ls"
      ],
      "execution_count": 1,
      "outputs": [
        {
          "output_type": "stream",
          "text": [
            "sample_data\n",
            "E: Package 'python-software-properties' has no installation candidate\n",
            "Selecting previously unselected package google-drive-ocamlfuse.\n",
            "(Reading database ... 144487 files and directories currently installed.)\n",
            "Preparing to unpack .../google-drive-ocamlfuse_0.7.22-0ubuntu3~ubuntu18.04.1_amd64.deb ...\n",
            "Unpacking google-drive-ocamlfuse (0.7.22-0ubuntu3~ubuntu18.04.1) ...\n",
            "Setting up google-drive-ocamlfuse (0.7.22-0ubuntu3~ubuntu18.04.1) ...\n",
            "Processing triggers for man-db (2.8.3-2ubuntu0.1) ...\n",
            "Please, open the following URL in a web browser: https://accounts.google.com/o/oauth2/auth?client_id=32555940559.apps.googleusercontent.com&redirect_uri=urn%3Aietf%3Awg%3Aoauth%3A2.0%3Aoob&scope=https%3A%2F%2Fwww.googleapis.com%2Fauth%2Fdrive&response_type=code&access_type=offline&approval_prompt=force\n",
            "··········\n",
            "Please, open the following URL in a web browser: https://accounts.google.com/o/oauth2/auth?client_id=32555940559.apps.googleusercontent.com&redirect_uri=urn%3Aietf%3Awg%3Aoauth%3A2.0%3Aoob&scope=https%3A%2F%2Fwww.googleapis.com%2Fauth%2Fdrive&response_type=code&access_type=offline&approval_prompt=force\n",
            "Please enter the verification code: Access token retrieved correctly.\n",
            "housing.csv  mbox-short.txt  mbox.txt  my_lib.py  __pycache__\n"
          ],
          "name": "stdout"
        }
      ]
    },
    {
      "cell_type": "markdown",
      "metadata": {
        "id": "GcpRbDKOjRhN",
        "colab_type": "text"
      },
      "source": [
        "* Python Project - Churn Emails - Count the Number of Lines \n",
        "* Define a function number_of_lines\n",
        "* Open the file mbox-short.txt \n",
        "* Read the file into one string by using read method on file handle\n",
        "* Write logic to count the number of lines\n",
        "* Return the count of the number of lines\n",
        "* PS - If your logic is correct then your function should return 1910."
      ]
    },
    {
      "cell_type": "code",
      "metadata": {
        "id": "zY1untiwiJ4e",
        "colab_type": "code",
        "colab": {
          "base_uri": "https://localhost:8080/",
          "height": 34
        },
        "outputId": "7dbbecbb-3c59-4a3b-9398-a63cf3d52722"
      },
      "source": [
        "def number_of_lines():\n",
        "    fhand = open('mbox-short.txt')\n",
        "    inp = fhand.read()\n",
        "    fhand.close()\n",
        "    count = 0\n",
        "    for c in inp:\n",
        "        if c == '\\n':\n",
        "            count += 1\n",
        "    return count\n",
        "number_of_lines()"
      ],
      "execution_count": 2,
      "outputs": [
        {
          "output_type": "execute_result",
          "data": {
            "text/plain": [
              "1908"
            ]
          },
          "metadata": {
            "tags": []
          },
          "execution_count": 2
        }
      ]
    },
    {
      "cell_type": "markdown",
      "metadata": {
        "id": "YBs_Feeojoy7",
        "colab_type": "text"
      },
      "source": [
        "* Python Project - Churn Emails - Count the Number of Subject Lines\n",
        "* Write a function count_number_of_lines which returns the count of the number of lines starting with Subject: in the file mbox-short.txt\n",
        "\n",
        "* PS - If your logic is correct then your function should return 27."
      ]
    },
    {
      "cell_type": "code",
      "metadata": {
        "id": "YE52DnrpiU8T",
        "colab_type": "code",
        "colab": {
          "base_uri": "https://localhost:8080/",
          "height": 34
        },
        "outputId": "b454e5d8-46d5-468c-8a13-8b579537034d"
      },
      "source": [
        "def count_number_of_lines():\n",
        "    with open('mbox-short.txt') as f:\n",
        "        count = 0\n",
        "        for line in f:\n",
        "            line = line.rstrip() # Remove new line characters from right\n",
        "            if line.startswith('Subject:'):\n",
        "                count = count + 1\n",
        "    return count\n",
        "count_number_of_lines()"
      ],
      "execution_count": 3,
      "outputs": [
        {
          "output_type": "execute_result",
          "data": {
            "text/plain": [
              "27"
            ]
          },
          "metadata": {
            "tags": []
          },
          "execution_count": 3
        }
      ]
    },
    {
      "cell_type": "markdown",
      "metadata": {
        "id": "BkEaEYV6j6x9",
        "colab_type": "text"
      },
      "source": [
        "* Python Project - Churn Emails - Find Average Spam Confidence\n",
        "* Define a function average_spam_confidence which calculates the average spam confidence and returns it\n",
        "* Open the file mbox-short.txt\n",
        "* Loop through the file handle\n",
        "* Select only those lines starts with X-DSPAM-Confidence:\n",
        "* Split the lines at : and take the float value which is spam confidence\n",
        "* Find the average of this spam confidence in the entire file and return it.\n",
        "* PS - If your logic is correct then the correct spam confidence score should be 0.7507185185185187."
      ]
    },
    {
      "cell_type": "code",
      "metadata": {
        "id": "G-_rl1oOicwE",
        "colab_type": "code",
        "colab": {
          "base_uri": "https://localhost:8080/",
          "height": 34
        },
        "outputId": "e50c9ff2-2399-4172-a348-a1aa17cd773f"
      },
      "source": [
        "def average_spam_confidence():\n",
        "    with open('mbox-short.txt') as f:\n",
        "        count = 0\n",
        "        spam_confidence_sum = 0\n",
        "        for line in f:\n",
        "            line = line.rstrip() # Remove new line characters from right\n",
        "            if line.startswith('X-DSPAM-Confidence:'):\n",
        "                var, value = line.split(':')\n",
        "                spam_confidence_sum = spam_confidence_sum + float(value)\n",
        "                count = count + 1\n",
        "    return spam_confidence_sum/count\n",
        "average_spam_confidence()"
      ],
      "execution_count": 4,
      "outputs": [
        {
          "output_type": "execute_result",
          "data": {
            "text/plain": [
              "0.7507185185185187"
            ]
          },
          "metadata": {
            "tags": []
          },
          "execution_count": 4
        }
      ]
    },
    {
      "cell_type": "markdown",
      "metadata": {
        "id": "FU1o6mmpkLzP",
        "colab_type": "text"
      },
      "source": [
        "* Python Project - Churn Emails - Find Which Day of the Week the Email was sent\n",
        "* Write a function find_email_sent_days which reads the file mbox-short.txt and categorizes each mail message by which day of the week the email was sent.\n",
        "\n",
        "* To do this do the following:\n",
        "\n",
        "* Open the file and read it line by line\n",
        "* Look for lines that start with \"From\"\n",
        "* For those lines which start from \"From\", then look for the third word and keep a running count of each of the days of the week. How do you find the day of the week, is an exercise for you.\n",
        "* Note: You have to store the results in a dictionary. Only store those day of the week that exists. For Example, if there is no line for Mon then it should not be in the dictionary elements.\n",
        "\n",
        "* At the end of the program return the contents of your dictionary (order does not matter)\n",
        "* Sample Lines from the file:\n",
        "* From stephen.marquard@uct.ac.za Sat Jan  5 10:14:16 2008\n",
        "* From stephen.marquard@uct.ac.za Sat Jan  5 15:14:16 2008\n",
        "* From stephen.marquard@uct.ac.za Sun Jan  6 09:14:16 2008\n",
        "* Output:\n",
        "* {'Sat': 2, 'Sun': 1}\n",
        "* PS - If your logic is correct then your function should return this dictionary {'Sat': 1, 'Fri': 20, 'Thu': 6}."
      ]
    },
    {
      "cell_type": "code",
      "metadata": {
        "id": "9Q7lziAEijyu",
        "colab_type": "code",
        "colab": {
          "base_uri": "https://localhost:8080/",
          "height": 34
        },
        "outputId": "bb075a67-9b3f-4a69-d247-b00f005ef613"
      },
      "source": [
        "def find_email_sent_days():\n",
        "    daysdict = {}\n",
        "    dayslist = []\n",
        "\n",
        "    with open(\"mbox-short.txt\") as f:\n",
        "        for line in f:\n",
        "            dayslist = line.split()\n",
        "            if len(dayslist) > 3 and line.startswith('From'):\n",
        "                day = dayslist[2]\n",
        "                if day not in daysdict:\n",
        "                    daysdict[day] = 1\n",
        "                else:\n",
        "                    daysdict[day] += 1\n",
        "    return daysdict\n",
        "find_email_sent_days()"
      ],
      "execution_count": 5,
      "outputs": [
        {
          "output_type": "execute_result",
          "data": {
            "text/plain": [
              "{'Fri': 20, 'Sat': 1, 'Thu': 6}"
            ]
          },
          "metadata": {
            "tags": []
          },
          "execution_count": 5
        }
      ]
    },
    {
      "cell_type": "markdown",
      "metadata": {
        "id": "_9pEWZq4sbah",
        "colab_type": "text"
      },
      "source": [
        "* Python Project - Churn Emails - Count Number of Messages From Each Email Address\n",
        "* Write a function count_message_from_email which reads the file mbox-short.txt.\n",
        "\n",
        "* This function builds a histogram using a dictionary to count how many messages have come from each email address and returns the dictionary.\n",
        "\n",
        "* Output:\n",
        "\n",
        "* If your logic is correct then your function should return a dictionary like the following:\n",
        "\n",
        "* {'stephen.marquard@uct.ac.za': 2, 'louis@media.berkeley.edu': 3, 'zqian@umich.edu': 4, 'rjlowe@iupui.edu': 2, 'cwen@iupui.edu': 5, 'gsilver@umich.edu': 3, 'wagnermr@iupui.edu': 1, 'antranig@caret.cam.ac.uk': 1, 'gopal.ramasammycook@gmail.com': 1, 'david.horwitz@uct.ac.za': 4, 'ray@media.berkeley.edu': 1}"
      ]
    },
    {
      "cell_type": "code",
      "metadata": {
        "id": "qdC1INITiprI",
        "colab_type": "code",
        "colab": {
          "base_uri": "https://localhost:8080/",
          "height": 202
        },
        "outputId": "f4b9cdeb-316b-430c-a784-8c7782fe05e9"
      },
      "source": [
        "def count_message_from_email():\n",
        "    lineslist=[]\n",
        "    emaildict={}\n",
        "    with open(\"mbox-short.txt\") as f:\n",
        "      for line in f:\n",
        "        lineslist = line.split()\n",
        "        if line.startswith('From:'):\n",
        "          email=lineslist[1]\n",
        "          if email not in emaildict:\n",
        "            emaildict[email] = 1\n",
        "          else:\n",
        "            emaildict[email] += 1\n",
        "    return emaildict\n",
        "count_message_from_email()"
      ],
      "execution_count": 6,
      "outputs": [
        {
          "output_type": "execute_result",
          "data": {
            "text/plain": [
              "{'antranig@caret.cam.ac.uk': 1,\n",
              " 'cwen@iupui.edu': 5,\n",
              " 'david.horwitz@uct.ac.za': 4,\n",
              " 'gopal.ramasammycook@gmail.com': 1,\n",
              " 'gsilver@umich.edu': 3,\n",
              " 'louis@media.berkeley.edu': 3,\n",
              " 'ray@media.berkeley.edu': 1,\n",
              " 'rjlowe@iupui.edu': 2,\n",
              " 'stephen.marquard@uct.ac.za': 2,\n",
              " 'wagnermr@iupui.edu': 1,\n",
              " 'zqian@umich.edu': 4}"
            ]
          },
          "metadata": {
            "tags": []
          },
          "execution_count": 6
        }
      ]
    },
    {
      "cell_type": "markdown",
      "metadata": {
        "id": "GyFB2CMUs7YN",
        "colab_type": "text"
      },
      "source": [
        "* Python Project - Churn Emails - Count Number of Messages From Each Domain\n",
        "* Write a function count_message_from_domain which reads the file mbox-short.txt.\n",
        "\n",
        "* This function builds a histogram using a dictionary to count how many messages have come from each domain(Instead of from email address), and returns the dictionary.\n",
        "\n",
        "* If your logic is correct then your function should return below dictionary\n",
        "* {'uct.ac.za': 6,\n",
        " 'media.berkeley.edu': 4,\n",
        " 'umich.edu': 7,\n",
        " 'iupui.edu': 8,\n",
        " 'caret.cam.ac.uk': 1,\n",
        " 'gmail.com': 1}"
      ]
    },
    {
      "cell_type": "code",
      "metadata": {
        "id": "s2Rp-DOliv-w",
        "colab_type": "code",
        "colab": {
          "base_uri": "https://localhost:8080/",
          "height": 118
        },
        "outputId": "bc823e32-ec83-4cb7-a2c8-f9a91ff3a2e7"
      },
      "source": [
        "def count_message_from_domain():\n",
        "    lineslist=[]\n",
        "    domaindict={}\n",
        "    with open(\"mbox-short.txt\") as f:\n",
        "        for line in f:\n",
        "            lineslist = line.split()\n",
        "            if line.startswith('From:'):\n",
        "                email=lineslist[1]\n",
        "                domain = email.split('@')[1] \n",
        "                if domain not in domaindict:\n",
        "                    domaindict[domain] = 1\n",
        "                else:\n",
        "                    domaindict[domain] += 1\n",
        "    return domaindict\n",
        "count_message_from_domain()"
      ],
      "execution_count": 7,
      "outputs": [
        {
          "output_type": "execute_result",
          "data": {
            "text/plain": [
              "{'caret.cam.ac.uk': 1,\n",
              " 'gmail.com': 1,\n",
              " 'iupui.edu': 8,\n",
              " 'media.berkeley.edu': 4,\n",
              " 'uct.ac.za': 6,\n",
              " 'umich.edu': 7}"
            ]
          },
          "metadata": {
            "tags": []
          },
          "execution_count": 7
        }
      ]
    }
  ]
}
