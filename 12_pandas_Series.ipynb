{
  "nbformat": 4,
  "nbformat_minor": 0,
  "metadata": {
    "colab": {
      "name": "11_pandas : Series.ipynb",
      "provenance": [],
      "authorship_tag": "ABX9TyNmu3fyV6WCg99T2RxB2OJw",
      "include_colab_link": true
    },
    "kernelspec": {
      "name": "python3",
      "display_name": "Python 3"
    }
  },
  "cells": [
    {
      "cell_type": "markdown",
      "metadata": {
        "id": "view-in-github",
        "colab_type": "text"
      },
      "source": [
        "<a href=\"https://colab.research.google.com/github/anubhavgupta1/Foundations-of-Python/blob/master/11_pandas_Series.ipynb\" target=\"_parent\"><img src=\"https://colab.research.google.com/assets/colab-badge.svg\" alt=\"Open In Colab\"/></a>"
      ]
    },
    {
      "cell_type": "code",
      "metadata": {
        "id": "rdjkS3r-rPVB",
        "colab_type": "code",
        "colab": {}
      },
      "source": [
        "import pandas as pd \n",
        "import numpy as np\n",
        "import matplotlib.pyplot as plt\n"
      ],
      "execution_count": 16,
      "outputs": []
    },
    {
      "cell_type": "code",
      "metadata": {
        "id": "0oJokXQirf6T",
        "colab_type": "code",
        "colab": {
          "base_uri": "https://localhost:8080/",
          "height": 101
        },
        "outputId": "c288c454-6477-4ec6-e797-6a1fe50aeeb2"
      },
      "source": [
        "# Series Objects\n",
        "a = pd.Series([-2,3,4,-5])\n",
        "a"
      ],
      "execution_count": 2,
      "outputs": [
        {
          "output_type": "execute_result",
          "data": {
            "text/plain": [
              "0   -2\n",
              "1    3\n",
              "2    4\n",
              "3   -5\n",
              "dtype: int64"
            ]
          },
          "metadata": {
            "tags": []
          },
          "execution_count": 2
        }
      ]
    },
    {
      "cell_type": "code",
      "metadata": {
        "id": "Y0wEm01VsMpY",
        "colab_type": "code",
        "colab": {
          "base_uri": "https://localhost:8080/",
          "height": 101
        },
        "outputId": "ba14e2a1-18ad-4517-e359-60104fb4ed61"
      },
      "source": [
        "#square\n",
        "np.square(a)"
      ],
      "execution_count": 3,
      "outputs": [
        {
          "output_type": "execute_result",
          "data": {
            "text/plain": [
              "0     4\n",
              "1     9\n",
              "2    16\n",
              "3    25\n",
              "dtype: int64"
            ]
          },
          "metadata": {
            "tags": []
          },
          "execution_count": 3
        }
      ]
    },
    {
      "cell_type": "code",
      "metadata": {
        "id": "6P1tac_xsgjr",
        "colab_type": "code",
        "colab": {
          "base_uri": "https://localhost:8080/",
          "height": 101
        },
        "outputId": "3d9bc11a-4dda-4ddb-a5e8-8800aaf67de4"
      },
      "source": [
        "#arithmetic\n",
        "a + [1000,2000,3000,4000]"
      ],
      "execution_count": 4,
      "outputs": [
        {
          "output_type": "execute_result",
          "data": {
            "text/plain": [
              "0     998\n",
              "1    2003\n",
              "2    3004\n",
              "3    3995\n",
              "dtype: int64"
            ]
          },
          "metadata": {
            "tags": []
          },
          "execution_count": 4
        }
      ]
    },
    {
      "cell_type": "code",
      "metadata": {
        "id": "fSNY2VPzsynC",
        "colab_type": "code",
        "colab": {
          "base_uri": "https://localhost:8080/",
          "height": 101
        },
        "outputId": "bbdca2f5-86fd-41f7-8977-80e019cc6c9e"
      },
      "source": [
        "#Broadcasting\n",
        "a + 1000"
      ],
      "execution_count": 5,
      "outputs": [
        {
          "output_type": "execute_result",
          "data": {
            "text/plain": [
              "0     998\n",
              "1    1003\n",
              "2    1004\n",
              "3     995\n",
              "dtype: int64"
            ]
          },
          "metadata": {
            "tags": []
          },
          "execution_count": 5
        }
      ]
    },
    {
      "cell_type": "code",
      "metadata": {
        "id": "ftDjgEbNs9MO",
        "colab_type": "code",
        "colab": {
          "base_uri": "https://localhost:8080/",
          "height": 101
        },
        "outputId": "36d27060-2ab2-410a-a864-46ee758c9271"
      },
      "source": [
        "#Binary and conditionals\n",
        "a<0"
      ],
      "execution_count": 6,
      "outputs": [
        {
          "output_type": "execute_result",
          "data": {
            "text/plain": [
              "0     True\n",
              "1    False\n",
              "2    False\n",
              "3     True\n",
              "dtype: bool"
            ]
          },
          "metadata": {
            "tags": []
          },
          "execution_count": 6
        }
      ]
    },
    {
      "cell_type": "code",
      "metadata": {
        "id": "hqT_iNVvtYLq",
        "colab_type": "code",
        "colab": {
          "base_uri": "https://localhost:8080/",
          "height": 101
        },
        "outputId": "32b5ca4d-d5a6-482d-cd0a-98ac12fc9e7f"
      },
      "source": [
        "#index labels\n",
        "ind = [\"alice\", \"bob\", \"Charles\",\"Darwin\"]\n",
        "aa = pd.Series([-2,3,4,-5], index= ind)\n",
        "aa"
      ],
      "execution_count": 7,
      "outputs": [
        {
          "output_type": "execute_result",
          "data": {
            "text/plain": [
              "alice     -2\n",
              "bob        3\n",
              "Charles    4\n",
              "Darwin    -5\n",
              "dtype: int64"
            ]
          },
          "metadata": {
            "tags": []
          },
          "execution_count": 7
        }
      ]
    },
    {
      "cell_type": "code",
      "metadata": {
        "id": "byuRnfsqt2Sy",
        "colab_type": "code",
        "colab": {
          "base_uri": "https://localhost:8080/",
          "height": 84
        },
        "outputId": "5babe6ff-44b4-4200-ba36-b08d3c506282"
      },
      "source": [
        "# access\n",
        "print(aa[\"bob\"])\n",
        "print(aa[1])\n",
        "print(aa.loc[\"bob\"])\n",
        "print(aa.iloc[1])"
      ],
      "execution_count": 8,
      "outputs": [
        {
          "output_type": "stream",
          "text": [
            "3\n",
            "3\n",
            "3\n",
            "3\n"
          ],
          "name": "stdout"
        }
      ]
    },
    {
      "cell_type": "code",
      "metadata": {
        "id": "PKeBsvjRulq3",
        "colab_type": "code",
        "colab": {
          "base_uri": "https://localhost:8080/",
          "height": 101
        },
        "outputId": "ce1ae71e-bec2-40df-f315-5aa9dfb535a3"
      },
      "source": [
        "#intitialisation from dictionaries\n",
        "weights = {\"alice\" : 68, \"bob\" : 83, \"Charles\" : 86,\"Darwin\" : 38}\n",
        "aaa = pd.Series(weights)\n",
        "aaa"
      ],
      "execution_count": 9,
      "outputs": [
        {
          "output_type": "execute_result",
          "data": {
            "text/plain": [
              "alice      68\n",
              "bob        83\n",
              "Charles    86\n",
              "Darwin     38\n",
              "dtype: int64"
            ]
          },
          "metadata": {
            "tags": []
          },
          "execution_count": 9
        }
      ]
    },
    {
      "cell_type": "code",
      "metadata": {
        "id": "E7nPpuM7vGoS",
        "colab_type": "code",
        "colab": {
          "base_uri": "https://localhost:8080/",
          "height": 67
        },
        "outputId": "fa7c1ae5-2e0b-4d11-ed02-234e0fa8ee46"
      },
      "source": [
        "#we can also control which element we want to include in the series and in what order by explicitly specifying the desired index\n",
        "#index labels\n",
        "ind = [\"Darwin\",\"Charles\"]\n",
        "aaaa = pd.Series(weights, index= ind)\n",
        "aaaa"
      ],
      "execution_count": 10,
      "outputs": [
        {
          "output_type": "execute_result",
          "data": {
            "text/plain": [
              "Darwin     38\n",
              "Charles    86\n",
              "dtype: int64"
            ]
          },
          "metadata": {
            "tags": []
          },
          "execution_count": 10
        }
      ]
    },
    {
      "cell_type": "code",
      "metadata": {
        "id": "Bysbg0GSxQaZ",
        "colab_type": "code",
        "colab": {
          "base_uri": "https://localhost:8080/",
          "height": 101
        },
        "outputId": "021f8610-43e1-4abe-8ec2-d1ece934d24c"
      },
      "source": [
        "aa + aaa"
      ],
      "execution_count": 11,
      "outputs": [
        {
          "output_type": "execute_result",
          "data": {
            "text/plain": [
              "alice      66\n",
              "bob        86\n",
              "Charles    90\n",
              "Darwin     33\n",
              "dtype: int64"
            ]
          },
          "metadata": {
            "tags": []
          },
          "execution_count": 11
        }
      ]
    },
    {
      "cell_type": "code",
      "metadata": {
        "id": "shSTCRUVxje9",
        "colab_type": "code",
        "colab": {
          "base_uri": "https://localhost:8080/",
          "height": 101
        },
        "outputId": "b37aa748-b477-46fb-a03d-22f33e97780d"
      },
      "source": [
        "aa + aaaa"
      ],
      "execution_count": 12,
      "outputs": [
        {
          "output_type": "execute_result",
          "data": {
            "text/plain": [
              "Charles    90.0\n",
              "Darwin     33.0\n",
              "alice       NaN\n",
              "bob         NaN\n",
              "dtype: float64"
            ]
          },
          "metadata": {
            "tags": []
          },
          "execution_count": 12
        }
      ]
    },
    {
      "cell_type": "code",
      "metadata": {
        "id": "mMq7OmgO2Gmy",
        "colab_type": "code",
        "colab": {
          "base_uri": "https://localhost:8080/",
          "height": 168
        },
        "outputId": "dd8f36d2-e01c-4bc4-b71f-379fb1352c52"
      },
      "source": [
        "aa + pd.Series([2,98,63,45])"
      ],
      "execution_count": 13,
      "outputs": [
        {
          "output_type": "execute_result",
          "data": {
            "text/plain": [
              "0         NaN\n",
              "1         NaN\n",
              "2         NaN\n",
              "3         NaN\n",
              "Charles   NaN\n",
              "Darwin    NaN\n",
              "alice     NaN\n",
              "bob       NaN\n",
              "dtype: float64"
            ]
          },
          "metadata": {
            "tags": []
          },
          "execution_count": 13
        }
      ]
    },
    {
      "cell_type": "code",
      "metadata": {
        "id": "lc0e_ke02bLr",
        "colab_type": "code",
        "colab": {
          "base_uri": "https://localhost:8080/",
          "height": 67
        },
        "outputId": "b54fbd7e-5033-4491-f919-4fe90b2d61c2"
      },
      "source": [
        "#initialization with Scalor\n",
        "b = pd.Series(42,ind)\n",
        "b"
      ],
      "execution_count": 14,
      "outputs": [
        {
          "output_type": "execute_result",
          "data": {
            "text/plain": [
              "Darwin     42\n",
              "Charles    42\n",
              "dtype: int64"
            ]
          },
          "metadata": {
            "tags": []
          },
          "execution_count": 14
        }
      ]
    },
    {
      "cell_type": "code",
      "metadata": {
        "id": "0UqbEwST3Axf",
        "colab_type": "code",
        "colab": {
          "base_uri": "https://localhost:8080/",
          "height": 235
        },
        "outputId": "3c4f717d-2478-4ff9-b08a-6dd8f35fdd91"
      },
      "source": [
        "#initialization with list\n",
        "temprature = [4.4,5.1,6.1,6.2,6.1,6.1,5.7,5.2,4.7,4.1,3.9,3.5]\n",
        "bb = pd.Series(temprature,name = \"Temprature\")\n",
        "bb"
      ],
      "execution_count": 15,
      "outputs": [
        {
          "output_type": "execute_result",
          "data": {
            "text/plain": [
              "0     4.4\n",
              "1     5.1\n",
              "2     6.1\n",
              "3     6.2\n",
              "4     6.1\n",
              "5     6.1\n",
              "6     5.7\n",
              "7     5.2\n",
              "8     4.7\n",
              "9     4.1\n",
              "10    3.9\n",
              "11    3.5\n",
              "Name: Temprature, dtype: float64"
            ]
          },
          "metadata": {
            "tags": []
          },
          "execution_count": 15
        }
      ]
    },
    {
      "cell_type": "code",
      "metadata": {
        "id": "trFnhs7v3nUY",
        "colab_type": "code",
        "colab": {
          "base_uri": "https://localhost:8080/",
          "height": 265
        },
        "outputId": "62345e8b-57e6-42cd-ef54-745c27a225fe"
      },
      "source": [
        "bb.plot()\n",
        "plt.show()"
      ],
      "execution_count": 17,
      "outputs": [
        {
          "output_type": "display_data",
          "data": {
            "image/png": "[encoded data removed]",
            "text/plain": [
              "<Figure size 432x288 with 1 Axes>"
            ]
          },
          "metadata": {
            "tags": [],
            "needs_background": "light"
          }
        }
      ]
    }
  ]
}
