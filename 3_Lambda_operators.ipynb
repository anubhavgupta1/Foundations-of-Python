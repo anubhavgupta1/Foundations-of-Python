{
  "nbformat": 4,
  "nbformat_minor": 0,
  "metadata": {
    "colab": {
      "name": "Foundations of Python-II-Lambda-operators.ipynb",
      "provenance": [],
      "authorship_tag": "ABX9TyPDZZOEh7H/LqWPcv+G6REf",
      "include_colab_link": true
    },
    "kernelspec": {
      "name": "python3",
      "display_name": "Python 3"
    }
  },
  "cells": [
    {
      "cell_type": "markdown",
      "metadata": {
        "id": "view-in-github",
        "colab_type": "text"
      },
      "source": [
        "<a href=\"https://colab.research.google.com/github/anubhavgupta1/Foundations-of-Python/blob/master/3_Lambda_operators.ipynb\" target=\"_parent\"><img src=\"https://colab.research.google.com/assets/colab-badge.svg\" alt=\"Open In Colab\"/></a>"
      ]
    },
    {
      "cell_type": "markdown",
      "metadata": {
        "id": "6ccdOlfpw5VY",
        "colab_type": "text"
      },
      "source": [
        "#Lambda Operator"
      ]
    },
    {
      "cell_type": "code",
      "metadata": {
        "id": "SRXlJYgisDBl",
        "colab_type": "code",
        "colab": {
          "base_uri": "https://localhost:8080/",
          "height": 34
        },
        "outputId": "a8ceb79c-8035-48b9-caee-47340b4fa605"
      },
      "source": [
        " f = lambda x, y : x + y\n",
        " f(1,1)"
      ],
      "execution_count": null,
      "outputs": [
        {
          "output_type": "execute_result",
          "data": {
            "text/plain": [
              "2"
            ]
          },
          "metadata": {
            "tags": []
          },
          "execution_count": 1
        }
      ]
    },
    {
      "cell_type": "code",
      "metadata": {
        "id": "gvMdrZjFxIHT",
        "colab_type": "code",
        "colab": {
          "base_uri": "https://localhost:8080/",
          "height": 34
        },
        "outputId": "190aa417-3aad-4f11-be5f-97abbf8b922e"
      },
      "source": [
        "f(2,4)"
      ],
      "execution_count": null,
      "outputs": [
        {
          "output_type": "execute_result",
          "data": {
            "text/plain": [
              "6"
            ]
          },
          "metadata": {
            "tags": []
          },
          "execution_count": 2
        }
      ]
    },
    {
      "cell_type": "code",
      "metadata": {
        "id": "4TzIlnPDxLqx",
        "colab_type": "code",
        "colab": {}
      },
      "source": [
        "foo = [2, 18, 9, 22, 17, 24, 8, 12, 27]"
      ],
      "execution_count": null,
      "outputs": []
    },
    {
      "cell_type": "code",
      "metadata": {
        "id": "iQzpVBgjxPFU",
        "colab_type": "code",
        "colab": {
          "base_uri": "https://localhost:8080/",
          "height": 34
        },
        "outputId": "372e7cd2-e23f-43d5-8db5-a6d145f151df"
      },
      "source": [
        "# filter() function\n",
        "\n",
        "divisible_by_3 = filter(lambda x: x % 3 == 0, foo)\n",
        "print(list(divisible_by_3))"
      ],
      "execution_count": null,
      "outputs": [
        {
          "output_type": "stream",
          "text": [
            "[18, 9, 24, 12, 27]\n"
          ],
          "name": "stdout"
        }
      ]
    },
    {
      "cell_type": "code",
      "metadata": {
        "id": "H9ksOEYfxVYi",
        "colab_type": "code",
        "colab": {
          "base_uri": "https://localhost:8080/",
          "height": 34
        },
        "outputId": "2b44f176-c978-4689-f71f-ec8c1d38c2e2"
      },
      "source": [
        "# map() function\n",
        "\n",
        "lambda_map = map(lambda x: x * 2 + 10, foo)\n",
        "print(list(lambda_map))"
      ],
      "execution_count": null,
      "outputs": [
        {
          "output_type": "stream",
          "text": [
            "[14, 46, 28, 54, 44, 58, 26, 34, 64]\n"
          ],
          "name": "stdout"
        }
      ]
    },
    {
      "cell_type": "code",
      "metadata": {
        "id": "HW4uvl7HxcbN",
        "colab_type": "code",
        "colab": {
          "base_uri": "https://localhost:8080/",
          "height": 34
        },
        "outputId": "2a3cc3ec-21cc-4d03-f1cb-1ac99056a47a"
      },
      "source": [
        "# reduce() function\n",
        "\n",
        "import functools\n",
        "lambda_reduce = functools.reduce(lambda x, y: x + y, foo)\n",
        "print(lambda_reduce)"
      ],
      "execution_count": null,
      "outputs": [
        {
          "output_type": "stream",
          "text": [
            "139\n"
          ],
          "name": "stdout"
        }
      ]
    }
  ]
}