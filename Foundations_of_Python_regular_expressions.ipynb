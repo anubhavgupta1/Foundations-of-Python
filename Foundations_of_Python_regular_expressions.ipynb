{
  "nbformat": 4,
  "nbformat_minor": 0,
  "metadata": {
    "colab": {
      "name": "Foundations of Python regular expressions.ipynb",
      "provenance": [],
      "authorship_tag": "ABX9TyNyZDs9k51MJhXG5mIdBCzd",
      "include_colab_link": true
    },
    "kernelspec": {
      "name": "python3",
      "display_name": "Python 3"
    }
  },
  "cells": [
    {
      "cell_type": "markdown",
      "metadata": {
        "id": "view-in-github",
        "colab_type": "text"
      },
      "source": [
        "<a href=\"https://colab.research.google.com/github/anubhavgupta1/Foundations-of-Python/blob/master/Foundations_of_Python_regular_expressions.ipynb\" target=\"_parent\"><img src=\"https://colab.research.google.com/assets/colab-badge.svg\" alt=\"Open In Colab\"/></a>"
      ]
    },
    {
      "cell_type": "code",
      "metadata": {
        "id": "6YJOJIDxKlDq",
        "colab_type": "code",
        "colab": {}
      },
      "source": [
        "import re"
      ],
      "execution_count": 1,
      "outputs": []
    },
    {
      "cell_type": "code",
      "metadata": {
        "id": "exnWGHsNaPzF",
        "colab_type": "code",
        "colab": {
          "base_uri": "https://localhost:8080/",
          "height": 34
        },
        "outputId": "72604fbf-a502-42db-d786-c0e803cc6815"
      },
      "source": [
        "x = \"aaa\"\n",
        "y = re.findall(\"a\", x)\n",
        "print(y)"
      ],
      "execution_count": 2,
      "outputs": [
        {
          "output_type": "stream",
          "text": [
            "['a', 'a', 'a']\n"
          ],
          "name": "stdout"
        }
      ]
    },
    {
      "cell_type": "code",
      "metadata": {
        "id": "DLUD705caZxu",
        "colab_type": "code",
        "colab": {
          "base_uri": "https://localhost:8080/",
          "height": 34
        },
        "outputId": "45413ae8-5c54-427b-8b6e-326f40385baf"
      },
      "source": [
        "x = \"aaa\"\n",
        "y = re.findall(\"aa\", x)\n",
        "print(y)"
      ],
      "execution_count": 3,
      "outputs": [
        {
          "output_type": "stream",
          "text": [
            "['aa']\n"
          ],
          "name": "stdout"
        }
      ]
    },
    {
      "cell_type": "code",
      "metadata": {
        "id": "TFHoV_-scqSt",
        "colab_type": "code",
        "colab": {
          "base_uri": "https://localhost:8080/",
          "height": 34
        },
        "outputId": "fda6f08a-b93a-4020-b1ab-bcb30dfe6ce3"
      },
      "source": [
        "x = \"this is a aa cab and that is a aaa\"\n",
        "y = re.findall(\"and\", x)\n",
        "print(y)"
      ],
      "execution_count": 4,
      "outputs": [
        {
          "output_type": "stream",
          "text": [
            "['and']\n"
          ],
          "name": "stdout"
        }
      ]
    },
    {
      "cell_type": "code",
      "metadata": {
        "id": "m3FrxFApKtvy",
        "colab_type": "code",
        "colab": {
          "base_uri": "https://localhost:8080/",
          "height": 34
        },
        "outputId": "4639234f-b129-4f43-a537-f89d2e9bdf62"
      },
      "source": [
        "#Any character (except newline character)\n",
        "# match any single character\n",
        "x = \"this is a line\"\n",
        "y = re.findall(\".\", x)\n",
        "print(y)"
      ],
      "execution_count": 5,
      "outputs": [
        {
          "output_type": "stream",
          "text": [
            "['t', 'h', 'i', 's', ' ', 'i', 's', ' ', 'a', ' ', 'l', 'i', 'n', 'e']\n"
          ],
          "name": "stdout"
        }
      ]
    },
    {
      "cell_type": "code",
      "metadata": {
        "id": "wNcksvC4dVZf",
        "colab_type": "code",
        "colab": {
          "base_uri": "https://localhost:8080/",
          "height": 34
        },
        "outputId": "8064d5ec-aae6-4ed6-ca00-4c9f461f329c"
      },
      "source": [
        "# match any word of length 2 \n",
        "x = \"this is a line\"\n",
        "y = re.findall(\"..\", x)\n",
        "print(y)"
      ],
      "execution_count": 6,
      "outputs": [
        {
          "output_type": "stream",
          "text": [
            "['th', 'is', ' i', 's ', 'a ', 'li', 'ne']\n"
          ],
          "name": "stdout"
        }
      ]
    },
    {
      "cell_type": "code",
      "metadata": {
        "id": "CQChPoIHeKga",
        "colab_type": "code",
        "colab": {
          "base_uri": "https://localhost:8080/",
          "height": 34
        },
        "outputId": "7a85b662-57ca-4b26-aa98-76f0fc55f145"
      },
      "source": [
        "# match any word of length 3\n",
        "x = \"this is a line\"\n",
        "y = re.findall(\"...\", x)\n",
        "print(y)"
      ],
      "execution_count": 7,
      "outputs": [
        {
          "output_type": "stream",
          "text": [
            "['thi', 's i', 's a', ' li']\n"
          ],
          "name": "stdout"
        }
      ]
    },
    {
      "cell_type": "code",
      "metadata": {
        "id": "tb7YPAXXeXQO",
        "colab_type": "code",
        "colab": {
          "base_uri": "https://localhost:8080/",
          "height": 34
        },
        "outputId": "068c23ae-f0f1-4b94-caed-d77bbf78967b"
      },
      "source": [
        "# match any word of length 4\n",
        "x = \"this is a line\"\n",
        "y = re.findall(\"....\", x)\n",
        "print(y)"
      ],
      "execution_count": 8,
      "outputs": [
        {
          "output_type": "stream",
          "text": [
            "['this', ' is ', 'a li']\n"
          ],
          "name": "stdout"
        }
      ]
    },
    {
      "cell_type": "code",
      "metadata": {
        "id": "s8bjx5B3eqNc",
        "colab_type": "code",
        "colab": {
          "base_uri": "https://localhost:8080/",
          "height": 34
        },
        "outputId": "758848ba-61a0-4c5b-ed0b-fb2b5ab9349e"
      },
      "source": [
        "# space followed by any double characters and then space\n",
        "x = \"this is a aa and that is a aaa\"\n",
        "y = re.findall(\" .. \", x)\n",
        "print(y)"
      ],
      "execution_count": 9,
      "outputs": [
        {
          "output_type": "stream",
          "text": [
            "[' is ', ' aa ', ' is ']\n"
          ],
          "name": "stdout"
        }
      ]
    },
    {
      "cell_type": "code",
      "metadata": {
        "id": "GMR-LdCJfTdl",
        "colab_type": "code",
        "colab": {
          "base_uri": "https://localhost:8080/",
          "height": 34
        },
        "outputId": "a419fe32-bf7d-44e4-f840-2fd5acd79aa0"
      },
      "source": [
        "# matches any word that starts with t and ends with any three characters\n",
        "x = \"this is a aa and that is a aaa\"\n",
        "y = re.findall(\"t...\", x)\n",
        "print(y)"
      ],
      "execution_count": 10,
      "outputs": [
        {
          "output_type": "stream",
          "text": [
            "['this', 'that']\n"
          ],
          "name": "stdout"
        }
      ]
    },
    {
      "cell_type": "code",
      "metadata": {
        "id": "Qm8_GP9rASII",
        "colab_type": "code",
        "colab": {
          "base_uri": "https://localhost:8080/",
          "height": 34
        },
        "outputId": "6bf26846-8132-40ac-e627-c106d4e79609"
      },
      "source": [
        "# matches any word that starts with a and ends with anyone character\n",
        "x = \"this is a aa and that is a aaa\"\n",
        "y = re.findall(\"a.\", x)\n",
        "print(y)"
      ],
      "execution_count": 11,
      "outputs": [
        {
          "output_type": "stream",
          "text": [
            "['a ', 'aa', 'an', 'at', 'a ', 'aa']\n"
          ],
          "name": "stdout"
        }
      ]
    },
    {
      "cell_type": "code",
      "metadata": {
        "id": "2yCIzFqVA0qz",
        "colab_type": "code",
        "colab": {
          "base_uri": "https://localhost:8080/",
          "height": 34
        },
        "outputId": "88638133-4775-4ecd-f111-f335a6e2700e"
      },
      "source": [
        "# Check if the string contains \"a\" followed by 0 or more \"a\" characters:\n",
        "x = \"this is a aa and that is a aaa\"\n",
        "y = re.findall(\"aa*\", x)\n",
        "print(y)"
      ],
      "execution_count": 12,
      "outputs": [
        {
          "output_type": "stream",
          "text": [
            "['a', 'aa', 'a', 'a', 'a', 'aaa']\n"
          ],
          "name": "stdout"
        }
      ]
    },
    {
      "cell_type": "code",
      "metadata": {
        "id": "l_j93szBanPZ",
        "colab_type": "code",
        "colab": {
          "base_uri": "https://localhost:8080/",
          "height": 34
        },
        "outputId": "58866a8f-bed2-44f8-edd0-0e858502ad06"
      },
      "source": [
        "# word that contains atleast one a \n",
        "# + means one or more characters of the preceeding characters\n",
        "x = \"this is a aa cab and that is aaa banana\"\n",
        "y = re.findall(\"a+\", x)\n",
        "print(y)"
      ],
      "execution_count": 13,
      "outputs": [
        {
          "output_type": "stream",
          "text": [
            "['a', 'aa', 'a', 'a', 'a', 'aaa', 'a', 'a', 'a']\n"
          ],
          "name": "stdout"
        }
      ]
    },
    {
      "cell_type": "code",
      "metadata": {
        "id": "4jmlxZnWGB1A",
        "colab_type": "code",
        "colab": {
          "base_uri": "https://localhost:8080/",
          "height": 34
        },
        "outputId": "2e3e98ac-92d7-43e2-b3ac-9158ea6355be"
      },
      "source": [
        "# Check if the string contains One or more occurrences of \"aa\" characters:\n",
        "x = \"this is a plain text\"\n",
        "y = re.findall(\"aa+\", x)\n",
        "print(y)"
      ],
      "execution_count": 14,
      "outputs": [
        {
          "output_type": "stream",
          "text": [
            "[]\n"
          ],
          "name": "stdout"
        }
      ]
    },
    {
      "cell_type": "code",
      "metadata": {
        "id": "mhCz7lSiETLV",
        "colab_type": "code",
        "colab": {
          "base_uri": "https://localhost:8080/",
          "height": 34
        },
        "outputId": "e8c70492-8c62-468e-c20a-0d07e5acb8c1"
      },
      "source": [
        "# Check if the string contains 1 or more \"aa\" characters:\n",
        "x = \"this is a aa and that is a aaa\"\n",
        "y = re.findall(\"aa+\", x)\n",
        "print(y)"
      ],
      "execution_count": 15,
      "outputs": [
        {
          "output_type": "stream",
          "text": [
            "['aa', 'aaa']\n"
          ],
          "name": "stdout"
        }
      ]
    },
    {
      "cell_type": "code",
      "metadata": {
        "id": "9Byk0zKiME81",
        "colab_type": "code",
        "colab": {
          "base_uri": "https://localhost:8080/",
          "height": 34
        },
        "outputId": "aa4f2daf-f740-47e6-feaf-438c3952c9bc"
      },
      "source": [
        "# + :\tOne or more occurrences\n",
        "y = re.findall(\"e+\", \"sandeeeeeep\")\n",
        "print(y)"
      ],
      "execution_count": 16,
      "outputs": [
        {
          "output_type": "stream",
          "text": [
            "['eeeeee']\n"
          ],
          "name": "stdout"
        }
      ]
    },
    {
      "cell_type": "code",
      "metadata": {
        "id": "wFfRWpFgMnPe",
        "colab_type": "code",
        "colab": {
          "base_uri": "https://localhost:8080/",
          "height": 34
        },
        "outputId": "e31c44ba-d430-4be9-dc4c-b83614aa9a64"
      },
      "source": [
        "x = \"this is a aix and that is a aixx\"\n",
        "\n",
        "#Check if the string contains \"ai\" followed by 1 or more \"x\" characters:\n",
        "\n",
        "y = re.findall(\"aix+\", x)\n",
        "\n",
        "print(y)"
      ],
      "execution_count": 17,
      "outputs": [
        {
          "output_type": "stream",
          "text": [
            "['aix', 'aixx']\n"
          ],
          "name": "stdout"
        }
      ]
    },
    {
      "cell_type": "code",
      "metadata": {
        "id": "UDrR1KiWNBF5",
        "colab_type": "code",
        "colab": {
          "base_uri": "https://localhost:8080/",
          "height": 34
        },
        "outputId": "6f36393a-29f6-4dba-c701-92e27b2a3a60"
      },
      "source": [
        "x = \"The rain in Spain falls mainly in the plainxxx!\"\n",
        "\n",
        "#Check if the string contains \"ai\" followed by 1 or more \"x\" characters:\n",
        "\n",
        "y = re.findall(\"aix+\", x)\n",
        "\n",
        "print(y)"
      ],
      "execution_count": 18,
      "outputs": [
        {
          "output_type": "stream",
          "text": [
            "[]\n"
          ],
          "name": "stdout"
        }
      ]
    },
    {
      "cell_type": "code",
      "metadata": {
        "id": "QqHKfIx2NS1T",
        "colab_type": "code",
        "colab": {
          "base_uri": "https://localhost:8080/",
          "height": 34
        },
        "outputId": "29c7c5ab-be8b-4995-c06b-29a6112fb20f"
      },
      "source": [
        "x = \"The rain in Spain falls mainly in the plain!\"\n",
        "\n",
        "#Check if the string contains \"ai\" followed by 1 or more \"x\" characters:\n",
        "\n",
        "y = re.findall(\"aix+\", x)\n",
        "\n",
        "print(y)"
      ],
      "execution_count": 19,
      "outputs": [
        {
          "output_type": "stream",
          "text": [
            "[]\n"
          ],
          "name": "stdout"
        }
      ]
    },
    {
      "cell_type": "code",
      "metadata": {
        "id": "iCRLGkEHONOG",
        "colab_type": "code",
        "colab": {
          "base_uri": "https://localhost:8080/",
          "height": 34
        },
        "outputId": "f8840919-1180-475a-8d29-850ba2a279b9"
      },
      "source": [
        "y = re.findall(\"e+\", \"\")\n",
        "print(y)"
      ],
      "execution_count": 20,
      "outputs": [
        {
          "output_type": "stream",
          "text": [
            "[]\n"
          ],
          "name": "stdout"
        }
      ]
    },
    {
      "cell_type": "code",
      "metadata": {
        "id": "0NiqftMNNewI",
        "colab_type": "code",
        "colab": {
          "base_uri": "https://localhost:8080/",
          "height": 34
        },
        "outputId": "a91aceba-0961-41bd-9a06-5ed769fd03db"
      },
      "source": [
        "# * : \tZero or more occurrences\n",
        "x = \"The rain in Spain falls maixnly in the plain!\"\n",
        "\n",
        "#Check if the string contains \"ai\" followed by 0 or more \"x\" characters:\n",
        "\n",
        "y = re.findall(\"aix*\", x)\n",
        "\n",
        "print(y)"
      ],
      "execution_count": 21,
      "outputs": [
        {
          "output_type": "stream",
          "text": [
            "['ai', 'ai', 'aix', 'ai']\n"
          ],
          "name": "stdout"
        }
      ]
    },
    {
      "cell_type": "code",
      "metadata": {
        "id": "oq_nMczQNvbq",
        "colab_type": "code",
        "colab": {
          "base_uri": "https://localhost:8080/",
          "height": 34
        },
        "outputId": "dba6198d-3c07-47a6-bd9f-0bb4c6730e13"
      },
      "source": [
        "y = re.findall(\"e*\", \"\")\n",
        "print(y)"
      ],
      "execution_count": 22,
      "outputs": [
        {
          "output_type": "stream",
          "text": [
            "['']\n"
          ],
          "name": "stdout"
        }
      ]
    },
    {
      "cell_type": "code",
      "metadata": {
        "id": "7QnIkfAJOXcs",
        "colab_type": "code",
        "colab": {
          "base_uri": "https://localhost:8080/",
          "height": 34
        },
        "outputId": "05348fef-8f80-42f6-dd21-9e9dcad378b7"
      },
      "source": [
        "# finds words that ends with space\n",
        "x = \"this is a aa and that is a aaa\"\n",
        "y = re.findall(\".+ \", x)\n",
        "print(y)"
      ],
      "execution_count": 23,
      "outputs": [
        {
          "output_type": "stream",
          "text": [
            "['this is a aa and that is a ']\n"
          ],
          "name": "stdout"
        }
      ]
    },
    {
      "cell_type": "code",
      "metadata": {
        "id": "nzEA8V1lJxX9",
        "colab_type": "code",
        "colab": {
          "base_uri": "https://localhost:8080/",
          "height": 34
        },
        "outputId": "81aaba50-91eb-41f1-b028-52bea3194922"
      },
      "source": [
        "# finds words that starts with space\n",
        "x = \"this is a aa and that is a aaa\"\n",
        "y = re.findall(\" .+\", x)\n",
        "print(y)"
      ],
      "execution_count": 24,
      "outputs": [
        {
          "output_type": "stream",
          "text": [
            "[' is a aa and that is a aaa']\n"
          ],
          "name": "stdout"
        }
      ]
    },
    {
      "cell_type": "code",
      "metadata": {
        "id": "lB35e_iqKTk8",
        "colab_type": "code",
        "colab": {
          "base_uri": "https://localhost:8080/",
          "height": 34
        },
        "outputId": "d89208db-ad76-4a48-decd-076886f9eec9"
      },
      "source": [
        "# finds words that starts with space and ends with space\n",
        "x = \"this is a aa and that is a aaa\"\n",
        "y = re.findall(\" .+ \", x)\n",
        "print(y)"
      ],
      "execution_count": 25,
      "outputs": [
        {
          "output_type": "stream",
          "text": [
            "[' is a aa and that is a ']\n"
          ],
          "name": "stdout"
        }
      ]
    },
    {
      "cell_type": "code",
      "metadata": {
        "id": "Hkai-nZLKaza",
        "colab_type": "code",
        "colab": {
          "base_uri": "https://localhost:8080/",
          "height": 34
        },
        "outputId": "4c2100d6-9fc0-4fb9-b020-95c50b012835"
      },
      "source": [
        "# finds words that ends with t\n",
        "x = \"this is a aa and that is a aaa\"\n",
        "y = re.findall(\".+t\", x)\n",
        "print(y)"
      ],
      "execution_count": 26,
      "outputs": [
        {
          "output_type": "stream",
          "text": [
            "['this is a aa and that']\n"
          ],
          "name": "stdout"
        }
      ]
    },
    {
      "cell_type": "code",
      "metadata": {
        "id": "h2KOZuLsK4hc",
        "colab_type": "code",
        "colab": {
          "base_uri": "https://localhost:8080/",
          "height": 34
        },
        "outputId": "b6e87deb-0c89-4289-8835-ebc0c4eb6fde"
      },
      "source": [
        "# finds words that starts with space\n",
        "x = \"this is a aa and that is a aaa\"\n",
        "y = re.findall(\"t.+\", x)\n",
        "print(y)"
      ],
      "execution_count": 27,
      "outputs": [
        {
          "output_type": "stream",
          "text": [
            "['this is a aa and that is a aaa']\n"
          ],
          "name": "stdout"
        }
      ]
    },
    {
      "cell_type": "code",
      "metadata": {
        "id": "-Rc1EIOTLGBS",
        "colab_type": "code",
        "colab": {
          "base_uri": "https://localhost:8080/",
          "height": 34
        },
        "outputId": "47353cf7-0140-482d-f9f4-fce7e7334d28"
      },
      "source": [
        "# finds words that starts with i and ends with t\n",
        "x = \"this is a aa and that is a aaa\"\n",
        "y = re.findall(\"i.+t\", x)\n",
        "print(y)"
      ],
      "execution_count": 28,
      "outputs": [
        {
          "output_type": "stream",
          "text": [
            "['is is a aa and that']\n"
          ],
          "name": "stdout"
        }
      ]
    },
    {
      "cell_type": "code",
      "metadata": {
        "id": "seDZHvUuLRUk",
        "colab_type": "code",
        "colab": {
          "base_uri": "https://localhost:8080/",
          "height": 34
        },
        "outputId": "361deff4-00a8-406c-a8f3-a4f4f4f303f6"
      },
      "source": [
        "# matches with everything\n",
        "x = \"this is a aa and that is a aaa\"\n",
        "y = re.findall(\".*\", x)\n",
        "print(y)"
      ],
      "execution_count": 29,
      "outputs": [
        {
          "output_type": "stream",
          "text": [
            "['this is a aa and that is a aaa', '']\n"
          ],
          "name": "stdout"
        }
      ]
    },
    {
      "cell_type": "code",
      "metadata": {
        "id": "mLU-e31XMj3x",
        "colab_type": "code",
        "colab": {
          "base_uri": "https://localhost:8080/",
          "height": 34
        },
        "outputId": "af1a05e6-0c51-4db1-8939-0ae0ca0dc0e6"
      },
      "source": [
        "# escape special meaning\n",
        "x = \"this is a 1+1 and that is a 2+4+6\"\n",
        "y = re.findall(\"\\\\+\", x)\n",
        "print(y)"
      ],
      "execution_count": 30,
      "outputs": [
        {
          "output_type": "stream",
          "text": [
            "['+', '+', '+']\n"
          ],
          "name": "stdout"
        }
      ]
    },
    {
      "cell_type": "code",
      "metadata": {
        "id": "uoCai814N2c_",
        "colab_type": "code",
        "colab": {
          "base_uri": "https://localhost:8080/",
          "height": 34
        },
        "outputId": "564ccf49-7407-41dd-dd4b-a9da59b77240"
      },
      "source": [
        "\n",
        "x = \"this is a aa and that is a aaa\"\n",
        "y = re.findall(\".a\", x)\n",
        "print(y)"
      ],
      "execution_count": 31,
      "outputs": [
        {
          "output_type": "stream",
          "text": [
            "[' a', ' a', ' a', 'ha', ' a', ' a', 'aa']\n"
          ],
          "name": "stdout"
        }
      ]
    },
    {
      "cell_type": "code",
      "metadata": {
        "id": "Jyb2DlXcOlX1",
        "colab_type": "code",
        "colab": {
          "base_uri": "https://localhost:8080/",
          "height": 34
        },
        "outputId": "d29b688c-ad13-4b3b-f922-462efda6e51a"
      },
      "source": [
        "\n",
        "x = \"this is a 1+1 and that is a 2+4+6\"\n",
        "y = re.findall(\".\\\\+\", x)\n",
        "print(y)"
      ],
      "execution_count": 32,
      "outputs": [
        {
          "output_type": "stream",
          "text": [
            "['1+', '2+', '4+']\n"
          ],
          "name": "stdout"
        }
      ]
    },
    {
      "cell_type": "code",
      "metadata": {
        "id": "wQwYLFW6ElsH",
        "colab_type": "code",
        "colab": {
          "base_uri": "https://localhost:8080/",
          "height": 34
        },
        "outputId": "22d0b80a-be91-4e1b-f500-02f6b8c2a283"
      },
      "source": [
        "#to capture begining of line\n",
        "x = \"this is a aa and that is a aaa\"\n",
        "y = re.findall(\"^t....\", x)\n",
        "print(y)"
      ],
      "execution_count": 33,
      "outputs": [
        {
          "output_type": "stream",
          "text": [
            "['this ']\n"
          ],
          "name": "stdout"
        }
      ]
    },
    {
      "cell_type": "code",
      "metadata": {
        "id": "1A9TdReKFbMU",
        "colab_type": "code",
        "colab": {
          "base_uri": "https://localhost:8080/",
          "height": 34
        },
        "outputId": "d93dc72e-63dd-4267-c1d4-3769183de1ef"
      },
      "source": [
        "#to capture end of line\n",
        "x = \"this is a aa and that is a aaa\"\n",
        "y = re.findall(\"........a$\", x)\n",
        "print(y)"
      ],
      "execution_count": 34,
      "outputs": [
        {
          "output_type": "stream",
          "text": [
            "[' is a aaa']\n"
          ],
          "name": "stdout"
        }
      ]
    },
    {
      "cell_type": "code",
      "metadata": {
        "id": "qZ5oCb-1HaQT",
        "colab_type": "code",
        "colab": {
          "base_uri": "https://localhost:8080/",
          "height": 34
        },
        "outputId": "fc742ef1-403b-4962-d3f4-85201a57b4d9"
      },
      "source": [
        "#to match with whitespace\n",
        "x = \"this is a aa and that is a aaa\"\n",
        "y = re.findall(\".\\s.\", x)\n",
        "print(y)"
      ],
      "execution_count": 35,
      "outputs": [
        {
          "output_type": "stream",
          "text": [
            "['s i', 's a', 'a a', 'd t', 't i', 's a']\n"
          ],
          "name": "stdout"
        }
      ]
    },
    {
      "cell_type": "code",
      "metadata": {
        "id": "MZrjOxRMSb70",
        "colab_type": "code",
        "colab": {
          "base_uri": "https://localhost:8080/",
          "height": 34
        },
        "outputId": "00ca1664-69aa-4268-fc02-abb455497a85"
      },
      "source": [
        "# a followed by space \n",
        "x = \"this is a aa and that is a aaa\"\n",
        "y = re.findall(\"a +\", x)\n",
        "print(y)"
      ],
      "execution_count": 36,
      "outputs": [
        {
          "output_type": "stream",
          "text": [
            "['a ', 'a ', 'a ']\n"
          ],
          "name": "stdout"
        }
      ]
    },
    {
      "cell_type": "code",
      "metadata": {
        "id": "pp027jAITErG",
        "colab_type": "code",
        "colab": {
          "base_uri": "https://localhost:8080/",
          "height": 34
        },
        "outputId": "87a1b1fb-22dd-4a41-ea40-d1a48f9621ba"
      },
      "source": [
        "# a followed by space \n",
        "x = \"this is a aa and that is a aaa\"\n",
        "y = re.findall(\"a\\s\", x)\n",
        "print(y)"
      ],
      "execution_count": 37,
      "outputs": [
        {
          "output_type": "stream",
          "text": [
            "['a ', 'a ', 'a ']\n"
          ],
          "name": "stdout"
        }
      ]
    },
    {
      "cell_type": "code",
      "metadata": {
        "id": "nO68z2BxTH59",
        "colab_type": "code",
        "colab": {
          "base_uri": "https://localhost:8080/",
          "height": 34
        },
        "outputId": "8cdce710-243a-4eea-9035-bcf71c597d0e"
      },
      "source": [
        "# a followed by non white space character\n",
        "x = \"this is a aa and that is a aaa\"\n",
        "y = re.findall(\"a\\S\", x)\n",
        "print(y)"
      ],
      "execution_count": 38,
      "outputs": [
        {
          "output_type": "stream",
          "text": [
            "['aa', 'an', 'at', 'aa']\n"
          ],
          "name": "stdout"
        }
      ]
    },
    {
      "cell_type": "code",
      "metadata": {
        "id": "ClKOp-STTtal",
        "colab_type": "code",
        "colab": {
          "base_uri": "https://localhost:8080/",
          "height": 34
        },
        "outputId": "6b4a1a9a-fbb9-4bea-f846-0281319ffc03"
      },
      "source": [
        "# a followed by 0 or more space\n",
        "x = \"this is a aa and that is a aaa\"\n",
        "y = re.findall(\"a ?\", x)\n",
        "print(y)"
      ],
      "execution_count": 39,
      "outputs": [
        {
          "output_type": "stream",
          "text": [
            "['a ', 'a', 'a ', 'a', 'a', 'a ', 'a', 'a', 'a']\n"
          ],
          "name": "stdout"
        }
      ]
    },
    {
      "cell_type": "code",
      "metadata": {
        "id": "gQD0LHVmUmYR",
        "colab_type": "code",
        "colab": {
          "base_uri": "https://localhost:8080/",
          "height": 34
        },
        "outputId": "921bedae-b699-45eb-afa7-315cd2383502"
      },
      "source": [
        "# th followed by 0 or more space\n",
        "x = \"this is a aa and that is a aaa\"\n",
        "y = re.findall(\"th ?\", x)\n",
        "print(y)"
      ],
      "execution_count": 40,
      "outputs": [
        {
          "output_type": "stream",
          "text": [
            "['th', 'th']\n"
          ],
          "name": "stdout"
        }
      ]
    },
    {
      "cell_type": "code",
      "metadata": {
        "id": "4P0PbDE_UsNi",
        "colab_type": "code",
        "colab": {
          "base_uri": "https://localhost:8080/",
          "height": 34
        },
        "outputId": "35062edb-123d-4588-afce-8c25777814c3"
      },
      "source": [
        "# t followed by 0 or more h\n",
        "x = \"this is a aa and that is a aaa\"\n",
        "y = re.findall(\"th?\", x)\n",
        "print(y)"
      ],
      "execution_count": 41,
      "outputs": [
        {
          "output_type": "stream",
          "text": [
            "['th', 'th', 't']\n"
          ],
          "name": "stdout"
        }
      ]
    },
    {
      "cell_type": "code",
      "metadata": {
        "id": "kaz7ScixVLLT",
        "colab_type": "code",
        "colab": {
          "base_uri": "https://localhost:8080/",
          "height": 34
        },
        "outputId": "05c63e9a-3475-4883-bbc4-2d7fad7d74af"
      },
      "source": [
        "# th followed by 0 or more i\n",
        "x = \"this is a aa and that is a aaa\"\n",
        "y = re.findall(\"thi?\", x)\n",
        "print(y)"
      ],
      "execution_count": 42,
      "outputs": [
        {
          "output_type": "stream",
          "text": [
            "['thi', 'th']\n"
          ],
          "name": "stdout"
        }
      ]
    },
    {
      "cell_type": "code",
      "metadata": {
        "id": "g2TVtKd1VO5A",
        "colab_type": "code",
        "colab": {
          "base_uri": "https://localhost:8080/",
          "height": 34
        },
        "outputId": "85be9e6d-be6e-4840-f505-ac63a6ffbaca"
      },
      "source": [
        "# to match with either as, ts, or is\n",
        "x = \"this is a aa and that is a aaa\"\n",
        "y = re.findall(\"[ait]s\", x)\n",
        "print(y)"
      ],
      "execution_count": 43,
      "outputs": [
        {
          "output_type": "stream",
          "text": [
            "['is', 'is', 'is']\n"
          ],
          "name": "stdout"
        }
      ]
    },
    {
      "cell_type": "code",
      "metadata": {
        "id": "mHp9qmLzY_lB",
        "colab_type": "code",
        "colab": {
          "base_uri": "https://localhost:8080/",
          "height": 34
        },
        "outputId": "5781c20b-aa9c-4800-bdc5-0ed1265c8c41"
      },
      "source": [
        "# to match with either thas, that, thit, that\n",
        "x = \"this is a aa and that is a aaa\"\n",
        "y = re.findall(\"th[ai][st]\", x)\n",
        "print(y)"
      ],
      "execution_count": 44,
      "outputs": [
        {
          "output_type": "stream",
          "text": [
            "['this', 'that']\n"
          ],
          "name": "stdout"
        }
      ]
    },
    {
      "cell_type": "code",
      "metadata": {
        "id": "aO5xV6OaZYkZ",
        "colab_type": "code",
        "colab": {
          "base_uri": "https://localhost:8080/",
          "height": 34
        },
        "outputId": "473f7f29-eb93-4114-a1ef-96d494dbe8f0"
      },
      "source": [
        "# to find vowels\n",
        "x = \"this is a aa and that is a aaa\"\n",
        "y = re.findall(\"[aeiou]\", x)\n",
        "print(y)"
      ],
      "execution_count": 45,
      "outputs": [
        {
          "output_type": "stream",
          "text": [
            "['i', 'i', 'a', 'a', 'a', 'a', 'a', 'i', 'a', 'a', 'a', 'a']\n"
          ],
          "name": "stdout"
        }
      ]
    },
    {
      "cell_type": "code",
      "metadata": {
        "id": "RPzRzjmqZuWw",
        "colab_type": "code",
        "colab": {
          "base_uri": "https://localhost:8080/",
          "height": 34
        },
        "outputId": "055c74cc-52c3-4d07-db7f-261b966d32a0"
      },
      "source": [
        "# to find two vowels continuously\n",
        "x = \"this is a aa and that is a aaa\"\n",
        "y = re.findall(\"[aeiou][aeiou]\", x)\n",
        "print(y)"
      ],
      "execution_count": 46,
      "outputs": [
        {
          "output_type": "stream",
          "text": [
            "['aa', 'aa']\n"
          ],
          "name": "stdout"
        }
      ]
    },
    {
      "cell_type": "code",
      "metadata": {
        "id": "d_54OvMAZ9GT",
        "colab_type": "code",
        "colab": {
          "base_uri": "https://localhost:8080/",
          "height": 34
        },
        "outputId": "dc064a0d-3e89-448d-9e1c-cd6cc5cd55cd"
      },
      "source": [
        "# to find one or more vowels continuously\n",
        "x = \"this is a aa and that is a aaa\"\n",
        "y = re.findall(\"[aeiou]+\", x)\n",
        "print(y)"
      ],
      "execution_count": 47,
      "outputs": [
        {
          "output_type": "stream",
          "text": [
            "['i', 'i', 'a', 'aa', 'a', 'a', 'i', 'a', 'aaa']\n"
          ],
          "name": "stdout"
        }
      ]
    },
    {
      "cell_type": "code",
      "metadata": {
        "id": "gDs2pJdLaikk",
        "colab_type": "code",
        "colab": {
          "base_uri": "https://localhost:8080/",
          "height": 34
        },
        "outputId": "f8f4b8d3-6701-4711-f578-3f6fbe2f17c6"
      },
      "source": [
        "# to find everything other than vowels i.e consonants and whitespaces\n",
        "x = \"this is a aa and that is a aaa\"\n",
        "y = re.findall(\"[^aeiou]\", x)\n",
        "print(y)"
      ],
      "execution_count": 48,
      "outputs": [
        {
          "output_type": "stream",
          "text": [
            "['t', 'h', 's', ' ', 's', ' ', ' ', ' ', 'n', 'd', ' ', 't', 'h', 't', ' ', 's', ' ', ' ']\n"
          ],
          "name": "stdout"
        }
      ]
    },
    {
      "cell_type": "code",
      "metadata": {
        "id": "Hy-dvSLabWgZ",
        "colab_type": "code",
        "colab": {
          "base_uri": "https://localhost:8080/",
          "height": 34
        },
        "outputId": "3d5f7dda-3667-4c07-fbc1-60ab7f272278"
      },
      "source": [
        "# to find vowel followed by non vowel \n",
        "x = \"this is a aa and that is a aaa\"\n",
        "y = re.findall(\"[aeiou][^aeiou]\", x)\n",
        "print(y)"
      ],
      "execution_count": 49,
      "outputs": [
        {
          "output_type": "stream",
          "text": [
            "['is', 'is', 'a ', 'a ', 'an', 'at', 'is', 'a ']\n"
          ],
          "name": "stdout"
        }
      ]
    },
    {
      "cell_type": "code",
      "metadata": {
        "id": "r7jSccKIbzsk",
        "colab_type": "code",
        "colab": {
          "base_uri": "https://localhost:8080/",
          "height": 34
        },
        "outputId": "5b05094f-620f-4579-f5b7-74d7e3fc45e7"
      },
      "source": [
        "# range\n",
        "x = \"this is a aa and that is a aaa\"\n",
        "y = re.findall(\"[a-e]\", x)\n",
        "print(y)"
      ],
      "execution_count": 50,
      "outputs": [
        {
          "output_type": "stream",
          "text": [
            "['a', 'a', 'a', 'a', 'd', 'a', 'a', 'a', 'a', 'a']\n"
          ],
          "name": "stdout"
        }
      ]
    },
    {
      "cell_type": "code",
      "metadata": {
        "id": "Y7Abg-vpcD8o",
        "colab_type": "code",
        "colab": {
          "base_uri": "https://localhost:8080/",
          "height": 34
        },
        "outputId": "a36b8d45-d945-4457-e5cb-2a4e42551af4"
      },
      "source": [
        "# range\n",
        "x = \"this is a aa and that is a aaa\"\n",
        "y = re.findall(\"[a-s]\", x)\n",
        "print(y)"
      ],
      "execution_count": 51,
      "outputs": [
        {
          "output_type": "stream",
          "text": [
            "['h', 'i', 's', 'i', 's', 'a', 'a', 'a', 'a', 'n', 'd', 'h', 'a', 'i', 's', 'a', 'a', 'a', 'a']\n"
          ],
          "name": "stdout"
        }
      ]
    },
    {
      "cell_type": "code",
      "metadata": {
        "id": "8MkdEVc9cMdD",
        "colab_type": "code",
        "colab": {
          "base_uri": "https://localhost:8080/",
          "height": 34
        },
        "outputId": "8fa8874a-5b85-4099-bec7-ba5a1b143cc8"
      },
      "source": [
        "# range\n",
        "x = \"this is a aa and that is a aaa\"\n",
        "y = re.findall(\"[A-Z]\", x)\n",
        "print(y)"
      ],
      "execution_count": 52,
      "outputs": [
        {
          "output_type": "stream",
          "text": [
            "[]\n"
          ],
          "name": "stdout"
        }
      ]
    },
    {
      "cell_type": "code",
      "metadata": {
        "id": "XXm38lq9cZEG",
        "colab_type": "code",
        "colab": {
          "base_uri": "https://localhost:8080/",
          "height": 34
        },
        "outputId": "f3e372f1-7c62-437d-e200-c68248c1c1ea"
      },
      "source": [
        "# range\n",
        "x = \"My favorite numbers are 19 and 42\"\n",
        "y = re.findall(\"[0-9]\", x)\n",
        "print(y)"
      ],
      "execution_count": 53,
      "outputs": [
        {
          "output_type": "stream",
          "text": [
            "['1', '9', '4', '2']\n"
          ],
          "name": "stdout"
        }
      ]
    },
    {
      "cell_type": "code",
      "metadata": {
        "id": "I-zvVeP5ckQV",
        "colab_type": "code",
        "colab": {
          "base_uri": "https://localhost:8080/",
          "height": 34
        },
        "outputId": "660016ad-720d-4913-c248-3a10d9ee60ac"
      },
      "source": [
        "# range\n",
        "x = \"My favorite numbers are 19 and 42\"\n",
        "y = re.findall(\"[0-9]+\", x)\n",
        "print(y)"
      ],
      "execution_count": 54,
      "outputs": [
        {
          "output_type": "stream",
          "text": [
            "['19', '42']\n"
          ],
          "name": "stdout"
        }
      ]
    },
    {
      "cell_type": "code",
      "metadata": {
        "id": "UkFPsaOwivF_",
        "colab_type": "code",
        "colab": {
          "base_uri": "https://localhost:8080/",
          "height": 34
        },
        "outputId": "4a80a011-5f63-41fe-ef18-f157233f7243"
      },
      "source": [
        "# decimal\n",
        "x = \"My favorite numbers are 19.5 and 42\"\n",
        "y = re.findall(\"[0-9]+.[0-9]\", x)\n",
        "print(y)"
      ],
      "execution_count": 55,
      "outputs": [
        {
          "output_type": "stream",
          "text": [
            "['19.5']\n"
          ],
          "name": "stdout"
        }
      ]
    },
    {
      "cell_type": "code",
      "metadata": {
        "id": "V4jlJepAiYgI",
        "colab_type": "code",
        "colab": {
          "base_uri": "https://localhost:8080/",
          "height": 34
        },
        "outputId": "857b2a4c-c542-423e-dc0b-50ff045cd81b"
      },
      "source": [
        "# decimal\n",
        "x = \"My favorite numbers are 19121121.00995 and 42\"\n",
        "y = re.findall(\"[0-9]+.[0-9]\", x)\n",
        "print(y)"
      ],
      "execution_count": 56,
      "outputs": [
        {
          "output_type": "stream",
          "text": [
            "['19121121.0', '0995']\n"
          ],
          "name": "stdout"
        }
      ]
    },
    {
      "cell_type": "code",
      "metadata": {
        "id": "72xMpNNLjfh3",
        "colab_type": "code",
        "colab": {
          "base_uri": "https://localhost:8080/",
          "height": 34
        },
        "outputId": "6c9f3209-c514-4147-f049-f92af704aee2"
      },
      "source": [
        "# decimal\n",
        "x = \"My favorite numbers are 19121121x00995 and 42\"\n",
        "y = re.findall(\"[0-9]+.[0-9]\", x)\n",
        "print(y)"
      ],
      "execution_count": 57,
      "outputs": [
        {
          "output_type": "stream",
          "text": [
            "['19121121x0', '0995']\n"
          ],
          "name": "stdout"
        }
      ]
    },
    {
      "cell_type": "code",
      "metadata": {
        "id": "Z1JfN-zSj8TB",
        "colab_type": "code",
        "colab": {
          "base_uri": "https://localhost:8080/",
          "height": 34
        },
        "outputId": "01a0ef37-d27a-4f87-a3e5-32aaee898771"
      },
      "source": [
        "# decimal\n",
        "x = \"My favorite numbers are 19121121x00995 and 42\"\n",
        "y = re.findall(\"[0-9]+.[0-9]+\", x)\n",
        "print(y)"
      ],
      "execution_count": 58,
      "outputs": [
        {
          "output_type": "stream",
          "text": [
            "['19121121x00995']\n"
          ],
          "name": "stdout"
        }
      ]
    },
    {
      "cell_type": "code",
      "metadata": {
        "id": "b3ZeopKlkEZr",
        "colab_type": "code",
        "colab": {
          "base_uri": "https://localhost:8080/",
          "height": 34
        },
        "outputId": "d0a8e158-0234-4356-bace-462bd174fe83"
      },
      "source": [
        "# decimal\n",
        "x = \"My favorite numbers are 19121121.00995 and 42\"\n",
        "y = re.findall(\"[0-9]+.[0-9]+\", x)\n",
        "print(y)"
      ],
      "execution_count": 59,
      "outputs": [
        {
          "output_type": "stream",
          "text": [
            "['19121121.00995']\n"
          ],
          "name": "stdout"
        }
      ]
    },
    {
      "cell_type": "code",
      "metadata": {
        "id": "FRZIfYbVjogJ",
        "colab_type": "code",
        "colab": {
          "base_uri": "https://localhost:8080/",
          "height": 34
        },
        "outputId": "69c59986-8d06-4d8a-992e-cafb4b6284a4"
      },
      "source": [
        "# here we have to escape the special meaning of the dot\n",
        "x = \"My favorite numbers are 19121121.0995 and 42\"\n",
        "y = re.findall(\"[0-9]+\\\\.[0-9]\", x)\n",
        "print(y)"
      ],
      "execution_count": 60,
      "outputs": [
        {
          "output_type": "stream",
          "text": [
            "['19121121.0']\n"
          ],
          "name": "stdout"
        }
      ]
    },
    {
      "cell_type": "code",
      "metadata": {
        "id": "52DqaUTZkZOC",
        "colab_type": "code",
        "colab": {
          "base_uri": "https://localhost:8080/",
          "height": 34
        },
        "outputId": "32717721-bb03-468b-acaf-ee68d4e209d2"
      },
      "source": [
        "# here we have to escape the special meaning of the dot\n",
        "x = \"My favorite numbers are 19121121.00995 and 2.0\"\n",
        "y = re.findall(\"[0-9]+\\\\.[0-9]+\", x)\n",
        "print(y)"
      ],
      "execution_count": 61,
      "outputs": [
        {
          "output_type": "stream",
          "text": [
            "['19121121.00995', '2.0']\n"
          ],
          "name": "stdout"
        }
      ]
    },
    {
      "cell_type": "code",
      "metadata": {
        "id": "lWPLOjgFk5im",
        "colab_type": "code",
        "colab": {
          "base_uri": "https://localhost:8080/",
          "height": 34
        },
        "outputId": "5d811f26-3220-4b9b-82b9-5d2bcb3e6ee9"
      },
      "source": [
        "# here we have to escape the special meaning of the dot\n",
        "x = \"My favorite numbers are 19121121.00995 and 2.x\"\n",
        "y = re.findall(\"[0-9]+\\\\.[0-9]+\", x)\n",
        "print(y)"
      ],
      "execution_count": 62,
      "outputs": [
        {
          "output_type": "stream",
          "text": [
            "['19121121.00995']\n"
          ],
          "name": "stdout"
        }
      ]
    },
    {
      "cell_type": "code",
      "metadata": {
        "id": "QVQ6KcX0lEfF",
        "colab_type": "code",
        "colab": {
          "base_uri": "https://localhost:8080/",
          "height": 34
        },
        "outputId": "85e30b4b-974d-4098-96c0-579705882488"
      },
      "source": [
        "#carat means none of these\n",
        "x = \"My 2.x favorite numbers are :  19121121.00995 , 42 and 2.5\"\n",
        "y = re.findall(\"[^0-9a-zA-Z.]\", x)\n",
        "print(y)"
      ],
      "execution_count": 63,
      "outputs": [
        {
          "output_type": "stream",
          "text": [
            "[' ', ' ', ' ', ' ', ' ', ':', ' ', ' ', ' ', ',', ' ', ' ', ' ']\n"
          ],
          "name": "stdout"
        }
      ]
    },
    {
      "cell_type": "code",
      "metadata": {
        "id": "Easr72DHKCr2",
        "colab_type": "code",
        "colab": {
          "base_uri": "https://localhost:8080/",
          "height": 34
        },
        "outputId": "b8e300c1-fb6a-45dd-a905-cff70ea10c7c"
      },
      "source": [
        "# Fine tuning string extraction\n",
        "x = 'From stephen.marquard@uct.ac.za Sat Jan  5 09:14:16 2008'\n",
        "y = re.findall('\\S+@\\S+',x)\n",
        "print(y)\n"
      ],
      "execution_count": 64,
      "outputs": [
        {
          "output_type": "stream",
          "text": [
            "['stephen.marquard@uct.ac.za']\n"
          ],
          "name": "stdout"
        }
      ]
    },
    {
      "cell_type": "code",
      "metadata": {
        "id": "SPfQizVVKQ70",
        "colab_type": "code",
        "colab": {
          "base_uri": "https://localhost:8080/",
          "height": 34
        },
        "outputId": "130ef32b-d96b-45b6-b7f3-bf1fb0ced751"
      },
      "source": [
        "# Fine tuning string extraction\n",
        "x = 'From stephen.marquard@uct.ac.za Sat Jan  5 09:14:16 2008'\n",
        "y = re.findall('[^\\s@]+@[^\\s@]+\\.[^\\s@]+\\s*', x)\n",
        "print(y)"
      ],
      "execution_count": 65,
      "outputs": [
        {
          "output_type": "stream",
          "text": [
            "['stephen.marquard@uct.ac.za ']\n"
          ],
          "name": "stdout"
        }
      ]
    },
    {
      "cell_type": "code",
      "metadata": {
        "id": "8Bzh1jYAKynm",
        "colab_type": "code",
        "colab": {
          "base_uri": "https://localhost:8080/",
          "height": 34
        },
        "outputId": "941f4232-8976-4844-b967-64261cb9a3cf"
      },
      "source": [
        "#greedy matching\n",
        "x = \"From  : using the : character\"\n",
        "y = re.findall('^F.+:', x)\n",
        "print(y)"
      ],
      "execution_count": 66,
      "outputs": [
        {
          "output_type": "stream",
          "text": [
            "['From  : using the :']\n"
          ],
          "name": "stdout"
        }
      ]
    },
    {
      "cell_type": "code",
      "metadata": {
        "id": "EYuvk3svSZet",
        "colab_type": "code",
        "colab": {
          "base_uri": "https://localhost:8080/",
          "height": 34
        },
        "outputId": "76504fc8-10f9-4797-80ed-7d537649f9e6"
      },
      "source": [
        "#non greedy matching\n",
        "x = \"From  : using the : character\"\n",
        "y = re.findall('^F.+?:', x)\n",
        "print(y)"
      ],
      "execution_count": 67,
      "outputs": [
        {
          "output_type": "stream",
          "text": [
            "['From  :']\n"
          ],
          "name": "stdout"
        }
      ]
    }
  ]
}