{
  "nbformat": 4,
  "nbformat_minor": 0,
  "metadata": {
    "colab": {
      "name": " Foundations-of-Python-IV-An HTTP Request in Python.ipynb",
      "provenance": [],
      "authorship_tag": "ABX9TyPBo9+O5vABzABFhUexdn5e",
      "include_colab_link": true
    },
    "kernelspec": {
      "name": "python3",
      "display_name": "Python 3"
    }
  },
  "cells": [
    {
      "cell_type": "markdown",
      "metadata": {
        "id": "view-in-github",
        "colab_type": "text"
      },
      "source": [
        "<a href=\"https://colab.research.google.com/github/anubhavgupta1/Foundations-of-Python/blob/master/Foundations_of_Python_IV_An_HTTP_Request_in_Python.ipynb\" target=\"_parent\"><img src=\"https://colab.research.google.com/assets/colab-badge.svg\" alt=\"Open In Colab\"/></a>"
      ]
    },
    {
      "cell_type": "code",
      "metadata": {
        "id": "jEQfSS_HrExV",
        "colab_type": "code",
        "colab": {
          "base_uri": "https://localhost:8080/",
          "height": 34
        },
        "outputId": "a854bee9-16c9-49bc-d36a-08a4d65ea00e"
      },
      "source": [
        "!pip install beautifulsoup4"
      ],
      "execution_count": 1,
      "outputs": [
        {
          "output_type": "stream",
          "text": [
            "Requirement already satisfied: beautifulsoup4 in /usr/local/lib/python3.6/dist-packages (4.6.3)\n"
          ],
          "name": "stdout"
        }
      ]
    },
    {
      "cell_type": "code",
      "metadata": {
        "id": "hcY9P9NYoOwY",
        "colab_type": "code",
        "colab": {}
      },
      "source": [
        "import socket\n",
        "import urllib.request\n",
        "from urllib import *\n",
        "from bs4 import BeautifulSoup"
      ],
      "execution_count": 2,
      "outputs": []
    },
    {
      "cell_type": "markdown",
      "metadata": {
        "id": "wgqm9UTMqYIm",
        "colab_type": "text"
      },
      "source": [
        "#1 Using socket"
      ]
    },
    {
      "cell_type": "code",
      "metadata": {
        "id": "E53s6exyMEvZ",
        "colab_type": "code",
        "colab": {
          "base_uri": "https://localhost:8080/",
          "height": 70
        },
        "outputId": "e566a70f-8942-4b54-fc7e-799c19cabb42"
      },
      "source": [
        "mysock = socket.socket(socket.AF_INET, socket.SOCK_STREAM)                 \n",
        "\n",
        "mysock.connect((\"www.py4inf.com\" , 80))\n",
        "mysock.send(b'GET /code/romeo.txt HTTP/1.0\\r\\nHost: www.py4inf.com\\r\\n\\r\\n')\n",
        "\n",
        "while True:\n",
        "    data = mysock.recv(512)\n",
        "    if ( len(data) < 1 ) :\n",
        "        break\n",
        "    print(data)\n",
        "mysock.close()"
      ],
      "execution_count": 3,
      "outputs": [
        {
          "output_type": "stream",
          "text": [
            "b'HTTP/1.1 200 OK\\r\\nContent-Type: text/plain\\r\\nContent-Length: 167\\r\\nConnection: close\\r\\nDate: Sun, 02 Aug 2020 05:46:05 GMT\\r\\nServer: Apache\\r\\nLast-Modified: Fri, 04 Dec 2015 19:05:04 GMT\\r\\nETag: \"a7-526172f58b800\"\\r\\nAccept-Ranges: bytes\\r\\nCache-Control: max-age=604800, public\\r\\nAccess-Control-Allow-Origin: *\\r\\nAccess-Control-Allow-Headers: origin, x-requested-with, content-type\\r\\nAccess-Control-Allow-Methods: GET\\r\\n\\r\\nBut soft what light through yonder window breaks\\nIt is the east and Juliet is the sun\\nArise fair sun and'\n",
            "b' kill the envious moon\\nWho is already sick and pale with grief\\n'\n"
          ],
          "name": "stdout"
        }
      ]
    },
    {
      "cell_type": "markdown",
      "metadata": {
        "id": "afHFZoXoquta",
        "colab_type": "text"
      },
      "source": [
        "## Using urllib in Python"
      ]
    },
    {
      "cell_type": "code",
      "metadata": {
        "id": "-z1CGyegoMej",
        "colab_type": "code",
        "colab": {
          "base_uri": "https://localhost:8080/",
          "height": 84
        },
        "outputId": "062971fe-4056-42c2-c0bd-541baeaa366c"
      },
      "source": [
        "\n",
        "\n",
        "# from urllib import *\n",
        "# import urllib\n",
        "\n",
        "\n",
        "\n",
        "fhand = urllib.request.urlopen('http://www.py4inf.com/code/romeo.txt')\n",
        "\n",
        "for line in fhand:\n",
        "    print(line.strip())\n"
      ],
      "execution_count": 4,
      "outputs": [
        {
          "output_type": "stream",
          "text": [
            "b'But soft what light through yonder window breaks'\n",
            "b'It is the east and Juliet is the sun'\n",
            "b'Arise fair sun and kill the envious moon'\n",
            "b'Who is already sick and pale with grief'\n"
          ],
          "name": "stdout"
        }
      ]
    },
    {
      "cell_type": "code",
      "metadata": {
        "id": "WioH3O4jpQPd",
        "colab_type": "code",
        "colab": {
          "base_uri": "https://localhost:8080/",
          "height": 54
        },
        "outputId": "cbb0f359-2097-4aa0-a8cc-4788ff70d98d"
      },
      "source": [
        "fhand = urllib.request.urlopen('http://www.py4inf.com/code/romeo.txt')\n",
        "\n",
        "counts = dict()\n",
        "for line in fhand:\n",
        "    words = line.split()\n",
        "    for word in words:\n",
        "        counts[word] = counts.get(word,0) + 1\n",
        "print(counts)\n"
      ],
      "execution_count": 5,
      "outputs": [
        {
          "output_type": "stream",
          "text": [
            "{b'But': 1, b'soft': 1, b'what': 1, b'light': 1, b'through': 1, b'yonder': 1, b'window': 1, b'breaks': 1, b'It': 1, b'is': 3, b'the': 3, b'east': 1, b'and': 3, b'Juliet': 1, b'sun': 2, b'Arise': 1, b'fair': 1, b'kill': 1, b'envious': 1, b'moon': 1, b'Who': 1, b'already': 1, b'sick': 1, b'pale': 1, b'with': 1, b'grief': 1}\n"
          ],
          "name": "stdout"
        }
      ]
    },
    {
      "cell_type": "code",
      "metadata": {
        "id": "NPXGTCTGpwt_",
        "colab_type": "code",
        "colab": {
          "base_uri": "https://localhost:8080/",
          "height": 118
        },
        "outputId": "0a7a7818-f4a6-4654-d190-9c74ea443ef7"
      },
      "source": [
        "## Reading Web Pages\n",
        "\n",
        "fhand = urllib.request.urlopen('http://www.dr-chuck.com/page1.htm')\n",
        "for line in fhand:\n",
        "    print(line.strip())\n"
      ],
      "execution_count": 6,
      "outputs": [
        {
          "output_type": "stream",
          "text": [
            "b'<h1>The First Page</h1>'\n",
            "b'<p>'\n",
            "b'If you like, you can switch to the'\n",
            "b'<a href=\"http://www.dr-chuck.com/page2.htm\">'\n",
            "b'Second Page</a>.'\n",
            "b'</p>'\n"
          ],
          "name": "stdout"
        }
      ]
    },
    {
      "cell_type": "markdown",
      "metadata": {
        "id": "ahksYGJgq0ur",
        "colab_type": "text"
      },
      "source": [
        "#The Easy Way - Beautiful Soup"
      ]
    },
    {
      "cell_type": "code",
      "metadata": {
        "id": "t60te2JdqFBU",
        "colab_type": "code",
        "colab": {
          "base_uri": "https://localhost:8080/",
          "height": 34
        },
        "outputId": "b3366115-dd4c-4976-fe1b-27d469bf6ceb"
      },
      "source": [
        "url = input('Enter - ')\n",
        "\n",
        "html = request.urlopen(url).read()\n",
        "soup = BeautifulSoup(html)\n",
        "\n"
      ],
      "execution_count": 7,
      "outputs": [
        {
          "output_type": "stream",
          "text": [
            "Enter - http://www.py4inf.com/code/romeo.txt\n"
          ],
          "name": "stdout"
        }
      ]
    },
    {
      "cell_type": "code",
      "metadata": {
        "id": "4nN78pojsVfu",
        "colab_type": "code",
        "colab": {
          "base_uri": "https://localhost:8080/",
          "height": 101
        },
        "outputId": "28a40e4f-43a6-4e33-f5ed-d8c92e0ef3c4"
      },
      "source": [
        "print(soup)"
      ],
      "execution_count": 8,
      "outputs": [
        {
          "output_type": "stream",
          "text": [
            "<html><body><p>But soft what light through yonder window breaks\n",
            "It is the east and Juliet is the sun\n",
            "Arise fair sun and kill the envious moon\n",
            "Who is already sick and pale with grief\n",
            "</p></body></html>\n"
          ],
          "name": "stdout"
        }
      ]
    },
    {
      "cell_type": "code",
      "metadata": {
        "id": "SX_-r9eMsqjE",
        "colab_type": "code",
        "colab": {
          "base_uri": "https://localhost:8080/",
          "height": 34
        },
        "outputId": "0f63a1fa-0218-4149-b63e-9883514eefe1"
      },
      "source": [
        "url = input('Enter - ')\n",
        "\n",
        "html = request.urlopen(url).read()\n",
        "soup = BeautifulSoup(html)"
      ],
      "execution_count": 9,
      "outputs": [
        {
          "output_type": "stream",
          "text": [
            "Enter - http://www.dr-chuck.com/page1.htm\n"
          ],
          "name": "stdout"
        }
      ]
    },
    {
      "cell_type": "code",
      "metadata": {
        "id": "384DmvDns_zv",
        "colab_type": "code",
        "colab": {
          "base_uri": "https://localhost:8080/",
          "height": 134
        },
        "outputId": "27da40f9-e0da-4faf-a4e9-0aa09c48838a"
      },
      "source": [
        "print(soup)"
      ],
      "execution_count": 10,
      "outputs": [
        {
          "output_type": "stream",
          "text": [
            "<html><body><h1>The First Page</h1>\n",
            "<p>\n",
            "If you like, you can switch to the \n",
            "<a href=\"http://www.dr-chuck.com/page2.htm\">\n",
            "Second Page</a>.\n",
            "</p>\n",
            "</body></html>\n"
          ],
          "name": "stdout"
        }
      ]
    },
    {
      "cell_type": "code",
      "metadata": {
        "id": "YwXINfEas1gu",
        "colab_type": "code",
        "colab": {
          "base_uri": "https://localhost:8080/",
          "height": 34
        },
        "outputId": "15ee4281-dac4-4cef-e3eb-f1bf44890bb2"
      },
      "source": [
        "# # Retrieve a list of the anchor tags\n",
        "# # Each tag is like a dictionary of HTML attributes\n",
        "\n",
        "tags = soup('a')\n",
        "\n",
        "for tag in tags:\n",
        "  print(tag.get('href', None))"
      ],
      "execution_count": 11,
      "outputs": [
        {
          "output_type": "stream",
          "text": [
            "http://www.dr-chuck.com/page2.htm\n"
          ],
          "name": "stdout"
        }
      ]
    }
  ]
}