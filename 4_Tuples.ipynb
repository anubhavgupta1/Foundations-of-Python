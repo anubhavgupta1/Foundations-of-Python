{
  "nbformat": 4,
  "nbformat_minor": 0,
  "metadata": {
    "colab": {
      "name": "Foundations_of_Python_IV_Tuples.ipynb",
      "provenance": [],
      "authorship_tag": "ABX9TyP4b1AhZh7QD6l2ToHPB2tl",
      "include_colab_link": true
    },
    "kernelspec": {
      "name": "python3",
      "display_name": "Python 3"
    }
  },
  "cells": [
    {
      "cell_type": "markdown",
      "metadata": {
        "id": "view-in-github",
        "colab_type": "text"
      },
      "source": [
        "<a href=\"https://colab.research.google.com/github/anubhavgupta1/Foundations-of-Python/blob/master/4_Tuples.ipynb\" target=\"_parent\"><img src=\"https://colab.research.google.com/assets/colab-badge.svg\" alt=\"Open In Colab\"/></a>"
      ]
    },
    {
      "cell_type": "code",
      "metadata": {
        "id": "4cxq-hfWaGNB",
        "colab_type": "code",
        "colab": {
          "base_uri": "https://localhost:8080/",
          "height": 34
        },
        "outputId": "c4aef352-50cd-49cf-c2c8-4baa6533c2dc"
      },
      "source": [
        "# Arrays are mutable\n",
        "x = [9, 8, 7]\n",
        "x[2] = 6\n",
        "print(x)"
      ],
      "execution_count": null,
      "outputs": [
        {
          "output_type": "stream",
          "text": [
            "[9, 8, 6]\n"
          ],
          "name": "stdout"
        }
      ]
    },
    {
      "cell_type": "code",
      "metadata": {
        "id": "QsekfRI3aMKn",
        "colab_type": "code",
        "colab": {}
      },
      "source": [
        "# You can't change a tuple\n",
        "y = 'ABC'\n",
        "# y[2] = 'D' is wrong"
      ],
      "execution_count": null,
      "outputs": []
    },
    {
      "cell_type": "code",
      "metadata": {
        "id": "C8yz6neLaRy8",
        "colab_type": "code",
        "colab": {
          "base_uri": "https://localhost:8080/",
          "height": 34
        },
        "outputId": "c0035ac7-2b2e-4054-f26d-dcd20aa3da6c"
      },
      "source": [
        "z = (5, 4, 3)\n",
        "#z[2] = 0\n",
        "\n",
        "def swap(l):\n",
        "    if l[0] > l[1]:\n",
        "        tmp = l[0]\n",
        "        l[0] = l[1]\n",
        "        l[1] = tmp\n",
        "\n",
        "a = [2, 1]\n",
        "swap(a)\n",
        "print(a)"
      ],
      "execution_count": null,
      "outputs": [
        {
          "output_type": "stream",
          "text": [
            "[1, 2]\n"
          ],
          "name": "stdout"
        }
      ]
    },
    {
      "cell_type": "code",
      "metadata": {
        "id": "SwySGgEvarPJ",
        "colab_type": "code",
        "colab": {
          "base_uri": "https://localhost:8080/",
          "height": 67
        },
        "outputId": "6acb05dd-e7a8-4730-e8e4-491274009523"
      },
      "source": [
        "# Tuple of 1 element is same as atom or primitive\n",
        "# It is safe to pass tuple not list to a function\n",
        "# A table is generally thought of list of tuples\n",
        "# Every record is considered like a tuple\n",
        "# Tuple is something that can fit into memory at any point\n",
        "# Tuples are light weight as compared with a list\n",
        "def myf():\n",
        "    return (1,2,3)\n",
        "\n",
        "(x, y, z) = myf()\n",
        "[x, y, z] = (1,2,3)\n",
        "print(x)\n",
        "print(y)\n",
        "print(z)\n",
        "\n",
        "# Table (RDBMS) <> Dataframe (R, pandas/python) <> Spreadsheet (not data structures of python)\n",
        "# array == list\n"
      ],
      "execution_count": null,
      "outputs": [
        {
          "output_type": "stream",
          "text": [
            "1\n",
            "2\n",
            "3\n"
          ],
          "name": "stdout"
        }
      ]
    },
    {
      "cell_type": "code",
      "metadata": {
        "id": "149kKysxat6h",
        "colab_type": "code",
        "colab": {}
      },
      "source": [
        "# Things not to do with tuples\n",
        "x = (3, 2, 1)\n",
        "# x.sort() 'tuple' object has no attribute 'sort'\n",
        "# x.append(5) 'tuple' object has no attribute 'append'\n",
        "# x.reverse() 'tuple' object has no attribute 'reverse'"
      ],
      "execution_count": null,
      "outputs": []
    },
    {
      "cell_type": "code",
      "metadata": {
        "id": "yvn-mSdRbAWB",
        "colab_type": "code",
        "colab": {
          "base_uri": "https://localhost:8080/",
          "height": 790
        },
        "outputId": "dba7d042-43bc-4ff8-c290-6d99fd806963"
      },
      "source": [
        "# A Tale of  Two Sequences\n",
        "\n",
        "l = list()\n",
        "dir(l)\n"
      ],
      "execution_count": null,
      "outputs": [
        {
          "output_type": "execute_result",
          "data": {
            "text/plain": [
              "['__add__',\n",
              " '__class__',\n",
              " '__contains__',\n",
              " '__delattr__',\n",
              " '__delitem__',\n",
              " '__dir__',\n",
              " '__doc__',\n",
              " '__eq__',\n",
              " '__format__',\n",
              " '__ge__',\n",
              " '__getattribute__',\n",
              " '__getitem__',\n",
              " '__gt__',\n",
              " '__hash__',\n",
              " '__iadd__',\n",
              " '__imul__',\n",
              " '__init__',\n",
              " '__init_subclass__',\n",
              " '__iter__',\n",
              " '__le__',\n",
              " '__len__',\n",
              " '__lt__',\n",
              " '__mul__',\n",
              " '__ne__',\n",
              " '__new__',\n",
              " '__reduce__',\n",
              " '__reduce_ex__',\n",
              " '__repr__',\n",
              " '__reversed__',\n",
              " '__rmul__',\n",
              " '__setattr__',\n",
              " '__setitem__',\n",
              " '__sizeof__',\n",
              " '__str__',\n",
              " '__subclasshook__',\n",
              " 'append',\n",
              " 'clear',\n",
              " 'copy',\n",
              " 'count',\n",
              " 'extend',\n",
              " 'index',\n",
              " 'insert',\n",
              " 'pop',\n",
              " 'remove',\n",
              " 'reverse',\n",
              " 'sort']"
            ]
          },
          "metadata": {
            "tags": []
          },
          "execution_count": 6
        }
      ]
    },
    {
      "cell_type": "code",
      "metadata": {
        "id": "IXxAblrwbHcC",
        "colab_type": "code",
        "colab": {
          "base_uri": "https://localhost:8080/",
          "height": 571
        },
        "outputId": "e5aeab24-8d21-44d3-8f1d-8514e9e4b4cc"
      },
      "source": [
        "t = tuple()\n",
        "dir(t)"
      ],
      "execution_count": null,
      "outputs": [
        {
          "output_type": "execute_result",
          "data": {
            "text/plain": [
              "['__add__',\n",
              " '__class__',\n",
              " '__contains__',\n",
              " '__delattr__',\n",
              " '__dir__',\n",
              " '__doc__',\n",
              " '__eq__',\n",
              " '__format__',\n",
              " '__ge__',\n",
              " '__getattribute__',\n",
              " '__getitem__',\n",
              " '__getnewargs__',\n",
              " '__gt__',\n",
              " '__hash__',\n",
              " '__init__',\n",
              " '__init_subclass__',\n",
              " '__iter__',\n",
              " '__le__',\n",
              " '__len__',\n",
              " '__lt__',\n",
              " '__mul__',\n",
              " '__ne__',\n",
              " '__new__',\n",
              " '__reduce__',\n",
              " '__reduce_ex__',\n",
              " '__repr__',\n",
              " '__rmul__',\n",
              " '__setattr__',\n",
              " '__sizeof__',\n",
              " '__str__',\n",
              " '__subclasshook__',\n",
              " 'count',\n",
              " 'index']"
            ]
          },
          "metadata": {
            "tags": []
          },
          "execution_count": 7
        }
      ]
    },
    {
      "cell_type": "code",
      "metadata": {
        "id": "4WUGSqigbMaK",
        "colab_type": "code",
        "colab": {
          "base_uri": "https://localhost:8080/",
          "height": 67
        },
        "outputId": "57295198-6e6d-41db-8b1d-007d4f258f06"
      },
      "source": [
        "# Tuples and Assignment\n",
        "(x, y) = (4, 'fred')\n",
        "print(y)\n",
        "print(x)\n",
        "\n",
        "(a, b) = (99, 98)\n",
        "print(a)"
      ],
      "execution_count": null,
      "outputs": [
        {
          "output_type": "stream",
          "text": [
            "fred\n",
            "4\n",
            "99\n"
          ],
          "name": "stdout"
        }
      ]
    },
    {
      "cell_type": "code",
      "metadata": {
        "id": "vDOwqrAHbP7D",
        "colab_type": "code",
        "colab": {
          "base_uri": "https://localhost:8080/",
          "height": 34
        },
        "outputId": "7fcda3e1-1579-427a-83a6-084762338d69"
      },
      "source": [
        "def order(x, y):\n",
        "    if x> y:\n",
        "        return (x, y)\n",
        "    return (y, x)\n",
        "\n",
        "(a, b) = order(1, 2)\n",
        "(x, y) = order(4, 5)\n",
        "print(a, b, x, y)"
      ],
      "execution_count": null,
      "outputs": [
        {
          "output_type": "stream",
          "text": [
            "2 1 5 4\n"
          ],
          "name": "stdout"
        }
      ]
    },
    {
      "cell_type": "code",
      "metadata": {
        "id": "fthIsTQabe6-",
        "colab_type": "code",
        "colab": {
          "base_uri": "https://localhost:8080/",
          "height": 50
        },
        "outputId": "abd31895-e566-47ae-a4c6-85c5700df2cf"
      },
      "source": [
        "d = dict()\n",
        "d['csev'] = 2\n",
        "d['cwen'] = 4\n",
        "for (k,v) in d.items(): \n",
        "    print(k, v)"
      ],
      "execution_count": null,
      "outputs": [
        {
          "output_type": "stream",
          "text": [
            "csev 2\n",
            "cwen 4\n"
          ],
          "name": "stdout"
        }
      ]
    },
    {
      "cell_type": "code",
      "metadata": {
        "id": "V52II3IabhXt",
        "colab_type": "code",
        "colab": {
          "base_uri": "https://localhost:8080/",
          "height": 34
        },
        "outputId": "ed2e6ab6-71e5-4c56-d110-47e16ea4555e"
      },
      "source": [
        "tups = d.items()\n",
        "print(tups)"
      ],
      "execution_count": null,
      "outputs": [
        {
          "output_type": "stream",
          "text": [
            "dict_items([('csev', 2), ('cwen', 4)])\n"
          ],
          "name": "stdout"
        }
      ]
    },
    {
      "cell_type": "code",
      "metadata": {
        "id": "J7isZ31XbkKg",
        "colab_type": "code",
        "colab": {
          "base_uri": "https://localhost:8080/",
          "height": 50
        },
        "outputId": "d6d41385-933d-4b65-b397-75070cbf93e8"
      },
      "source": [
        "## Tuples are Comparable\n",
        "print((0, 1, 2, 4, 5, 5) < (1, 0))\n",
        "print((0, 1) < (0, 1, 2))\n"
      ],
      "execution_count": null,
      "outputs": [
        {
          "output_type": "stream",
          "text": [
            "True\n",
            "True\n"
          ],
          "name": "stdout"
        }
      ]
    },
    {
      "cell_type": "code",
      "metadata": {
        "id": "Wm_pWcjWbn6b",
        "colab_type": "code",
        "colab": {
          "base_uri": "https://localhost:8080/",
          "height": 67
        },
        "outputId": "8fed988d-e958-4243-8a18-c48f092a0bbf"
      },
      "source": [
        "print((0, 1, 2000000) < (0, 3, 4))\n",
        "print(( 'Jones', 'Sally' ) < ('Jones', 'Sam'))\n",
        "print(( 'Jones', 'Sally') > ('Adams', 'Sam'))"
      ],
      "execution_count": null,
      "outputs": [
        {
          "output_type": "stream",
          "text": [
            "True\n",
            "True\n",
            "True\n"
          ],
          "name": "stdout"
        }
      ]
    },
    {
      "cell_type": "code",
      "metadata": {
        "id": "f8nrzOuFb8XH",
        "colab_type": "code",
        "colab": {
          "base_uri": "https://localhost:8080/",
          "height": 34
        },
        "outputId": "6542ce0c-97c0-40f2-d66d-049cbe43e3b6"
      },
      "source": [
        "# Sorting Lists of Tuples\n",
        "d = {'a':10, 'b':1, 'c':22}\n",
        "t = d.items()\n",
        "t"
      ],
      "execution_count": null,
      "outputs": [
        {
          "output_type": "execute_result",
          "data": {
            "text/plain": [
              "dict_items([('a', 10), ('b', 1), ('c', 22)])"
            ]
          },
          "metadata": {
            "tags": []
          },
          "execution_count": 14
        }
      ]
    },
    {
      "cell_type": "code",
      "metadata": {
        "id": "kxpui_LUcECG",
        "colab_type": "code",
        "colab": {
          "base_uri": "https://localhost:8080/",
          "height": 67
        },
        "outputId": "f8fad1cd-b40f-4bd6-f5cd-4610e84967c0"
      },
      "source": [
        "## Using sorted()\n",
        "\n",
        "for k, v in sorted(d.items()):\n",
        "   print(k, v)"
      ],
      "execution_count": null,
      "outputs": [
        {
          "output_type": "stream",
          "text": [
            "a 10\n",
            "b 1\n",
            "c 22\n"
          ],
          "name": "stdout"
        }
      ]
    },
    {
      "cell_type": "code",
      "metadata": {
        "id": "ILKKVYDlcG2x",
        "colab_type": "code",
        "colab": {
          "base_uri": "https://localhost:8080/",
          "height": 50
        },
        "outputId": "d438ce63-97c6-44a5-81aa-ca881b0740ab"
      },
      "source": [
        "## Sort by values instead of key\n",
        "\n",
        "c = {'a':10, 'b':1, 'c':22}\n",
        "tmp = list()\n",
        "for k, v in c.items() :\n",
        "    tmp.append( (v, k) )\n",
        "\n",
        "print(tmp)\n",
        "tmp.sort(reverse=True)\n",
        "print(tmp)\n"
      ],
      "execution_count": null,
      "outputs": [
        {
          "output_type": "stream",
          "text": [
            "[(10, 'a'), (1, 'b'), (22, 'c')]\n",
            "[(22, 'c'), (10, 'a'), (1, 'b')]\n"
          ],
          "name": "stdout"
        }
      ]
    },
    {
      "cell_type": "code",
      "metadata": {
        "id": "vZGWckRvcJlY",
        "colab_type": "code",
        "colab": {
          "base_uri": "https://localhost:8080/",
          "height": 34
        },
        "outputId": "ab4eff06-7268-4be2-bb86-ad5f232fda6f"
      },
      "source": [
        "## Even Shorter Version\n",
        "\n",
        "c = {'a':10, 'b':1, 'c':22}\n",
        "print(sorted( [ (v,k) for k,v in c.items() ]))"
      ],
      "execution_count": null,
      "outputs": [
        {
          "output_type": "stream",
          "text": [
            "[(1, 'b'), (10, 'a'), (22, 'c')]\n"
          ],
          "name": "stdout"
        }
      ]
    },
    {
      "cell_type": "code",
      "metadata": {
        "id": "GoLWB0CLcSsh",
        "colab_type": "code",
        "colab": {
          "base_uri": "https://localhost:8080/",
          "height": 34
        },
        "outputId": "b737dffb-a92b-4411-944d-c1571500c960"
      },
      "source": [
        "a = [1,2,3,4,5]\n",
        "ret = []\n",
        "for e in a:\n",
        "    ret.append(e*2)\n",
        "print(ret)"
      ],
      "execution_count": null,
      "outputs": [
        {
          "output_type": "stream",
          "text": [
            "[2, 4, 6, 8, 10]\n"
          ],
          "name": "stdout"
        }
      ]
    },
    {
      "cell_type": "code",
      "metadata": {
        "id": "qsps7H0RcVtf",
        "colab_type": "code",
        "colab": {
          "base_uri": "https://localhost:8080/",
          "height": 34
        },
        "outputId": "59bb682f-0c43-42a6-c4f1-8c5cd4a6d35f"
      },
      "source": [
        "ret = [e*2 for e in a]\n",
        "print(ret)"
      ],
      "execution_count": null,
      "outputs": [
        {
          "output_type": "stream",
          "text": [
            "[2, 4, 6, 8, 10]\n"
          ],
          "name": "stdout"
        }
      ]
    }
  ]
}